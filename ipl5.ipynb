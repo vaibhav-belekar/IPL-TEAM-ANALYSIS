{
 "cells": [
  {
   "cell_type": "code",
   "execution_count": 1,
   "metadata": {},
   "outputs": [],
   "source": [
    "import matplotlib.pyplot as plt\n",
    "import seaborn as sns\n",
    "import plotly.express as px\n",
    "import pandas as pd\n"
   ]
  },
  {
   "cell_type": "code",
   "execution_count": 2,
   "metadata": {},
   "outputs": [
    {
     "name": "stdout",
     "output_type": "stream",
     "text": [
      "<class 'pandas.core.frame.DataFrame'>\n",
      "RangeIndex: 1102 entries, 0 to 1101\n",
      "Data columns (total 13 columns):\n",
      " #   Column           Non-Null Count  Dtype  \n",
      "---  ------           --------------  -----  \n",
      " 0   match_id         1102 non-null   int64  \n",
      " 1   season           1102 non-null   object \n",
      " 2   city             1051 non-null   object \n",
      " 3   date             1102 non-null   object \n",
      " 4   venue            1102 non-null   object \n",
      " 5   team_1           1102 non-null   object \n",
      " 6   team_2           1102 non-null   object \n",
      " 7   toss_winner      1102 non-null   object \n",
      " 8   toss_decision    1102 non-null   object \n",
      " 9   match_winner     1083 non-null   object \n",
      " 10  player_of_match  1097 non-null   object \n",
      " 11  umpire_1         0 non-null      float64\n",
      " 12  umpire_2         0 non-null      float64\n",
      "dtypes: float64(2), int64(1), object(10)\n",
      "memory usage: 112.1+ KB\n",
      "None\n"
     ]
    },
    {
     "data": {
      "text/html": [
       "<div>\n",
       "<style scoped>\n",
       "    .dataframe tbody tr th:only-of-type {\n",
       "        vertical-align: middle;\n",
       "    }\n",
       "\n",
       "    .dataframe tbody tr th {\n",
       "        vertical-align: top;\n",
       "    }\n",
       "\n",
       "    .dataframe thead th {\n",
       "        text-align: right;\n",
       "    }\n",
       "</style>\n",
       "<table border=\"1\" class=\"dataframe\">\n",
       "  <thead>\n",
       "    <tr style=\"text-align: right;\">\n",
       "      <th></th>\n",
       "      <th>match_id</th>\n",
       "      <th>season</th>\n",
       "      <th>city</th>\n",
       "      <th>date</th>\n",
       "      <th>venue</th>\n",
       "      <th>team_1</th>\n",
       "      <th>team_2</th>\n",
       "      <th>toss_winner</th>\n",
       "      <th>toss_decision</th>\n",
       "      <th>match_winner</th>\n",
       "      <th>player_of_match</th>\n",
       "      <th>umpire_1</th>\n",
       "      <th>umpire_2</th>\n",
       "    </tr>\n",
       "  </thead>\n",
       "  <tbody>\n",
       "    <tr>\n",
       "      <th>0</th>\n",
       "      <td>335982</td>\n",
       "      <td>2007/08</td>\n",
       "      <td>Bangalore</td>\n",
       "      <td>2008-04-18</td>\n",
       "      <td>M Chinnaswamy Stadium</td>\n",
       "      <td>Royal Challengers Bangalore</td>\n",
       "      <td>Kolkata Knight Riders</td>\n",
       "      <td>Royal Challengers Bangalore</td>\n",
       "      <td>field</td>\n",
       "      <td>Kolkata Knight Riders</td>\n",
       "      <td>BB McCullum</td>\n",
       "      <td>NaN</td>\n",
       "      <td>NaN</td>\n",
       "    </tr>\n",
       "    <tr>\n",
       "      <th>1</th>\n",
       "      <td>335983</td>\n",
       "      <td>2007/08</td>\n",
       "      <td>Chandigarh</td>\n",
       "      <td>2008-04-19</td>\n",
       "      <td>Punjab Cricket Association Stadium, Mohali</td>\n",
       "      <td>Kings XI Punjab</td>\n",
       "      <td>Chennai Super Kings</td>\n",
       "      <td>Chennai Super Kings</td>\n",
       "      <td>bat</td>\n",
       "      <td>Chennai Super Kings</td>\n",
       "      <td>MEK Hussey</td>\n",
       "      <td>NaN</td>\n",
       "      <td>NaN</td>\n",
       "    </tr>\n",
       "    <tr>\n",
       "      <th>2</th>\n",
       "      <td>335984</td>\n",
       "      <td>2007/08</td>\n",
       "      <td>Delhi</td>\n",
       "      <td>2008-04-19</td>\n",
       "      <td>Feroz Shah Kotla</td>\n",
       "      <td>Delhi Daredevils</td>\n",
       "      <td>Rajasthan Royals</td>\n",
       "      <td>Rajasthan Royals</td>\n",
       "      <td>bat</td>\n",
       "      <td>Delhi Daredevils</td>\n",
       "      <td>MF Maharoof</td>\n",
       "      <td>NaN</td>\n",
       "      <td>NaN</td>\n",
       "    </tr>\n",
       "    <tr>\n",
       "      <th>3</th>\n",
       "      <td>335986</td>\n",
       "      <td>2007/08</td>\n",
       "      <td>Kolkata</td>\n",
       "      <td>2008-04-20</td>\n",
       "      <td>Eden Gardens</td>\n",
       "      <td>Kolkata Knight Riders</td>\n",
       "      <td>Deccan Chargers</td>\n",
       "      <td>Deccan Chargers</td>\n",
       "      <td>bat</td>\n",
       "      <td>Kolkata Knight Riders</td>\n",
       "      <td>DJ Hussey</td>\n",
       "      <td>NaN</td>\n",
       "      <td>NaN</td>\n",
       "    </tr>\n",
       "    <tr>\n",
       "      <th>4</th>\n",
       "      <td>335985</td>\n",
       "      <td>2007/08</td>\n",
       "      <td>Mumbai</td>\n",
       "      <td>2008-04-20</td>\n",
       "      <td>Wankhede Stadium</td>\n",
       "      <td>Mumbai Indians</td>\n",
       "      <td>Royal Challengers Bangalore</td>\n",
       "      <td>Mumbai Indians</td>\n",
       "      <td>bat</td>\n",
       "      <td>Royal Challengers Bangalore</td>\n",
       "      <td>MV Boucher</td>\n",
       "      <td>NaN</td>\n",
       "      <td>NaN</td>\n",
       "    </tr>\n",
       "  </tbody>\n",
       "</table>\n",
       "</div>"
      ],
      "text/plain": [
       "   match_id   season        city        date  \\\n",
       "0    335982  2007/08   Bangalore  2008-04-18   \n",
       "1    335983  2007/08  Chandigarh  2008-04-19   \n",
       "2    335984  2007/08       Delhi  2008-04-19   \n",
       "3    335986  2007/08     Kolkata  2008-04-20   \n",
       "4    335985  2007/08      Mumbai  2008-04-20   \n",
       "\n",
       "                                        venue                       team_1  \\\n",
       "0                       M Chinnaswamy Stadium  Royal Challengers Bangalore   \n",
       "1  Punjab Cricket Association Stadium, Mohali              Kings XI Punjab   \n",
       "2                            Feroz Shah Kotla             Delhi Daredevils   \n",
       "3                                Eden Gardens        Kolkata Knight Riders   \n",
       "4                            Wankhede Stadium               Mumbai Indians   \n",
       "\n",
       "                        team_2                  toss_winner toss_decision  \\\n",
       "0        Kolkata Knight Riders  Royal Challengers Bangalore         field   \n",
       "1          Chennai Super Kings          Chennai Super Kings           bat   \n",
       "2             Rajasthan Royals             Rajasthan Royals           bat   \n",
       "3              Deccan Chargers              Deccan Chargers           bat   \n",
       "4  Royal Challengers Bangalore               Mumbai Indians           bat   \n",
       "\n",
       "                  match_winner player_of_match  umpire_1  umpire_2  \n",
       "0        Kolkata Knight Riders     BB McCullum       NaN       NaN  \n",
       "1          Chennai Super Kings      MEK Hussey       NaN       NaN  \n",
       "2             Delhi Daredevils     MF Maharoof       NaN       NaN  \n",
       "3        Kolkata Knight Riders       DJ Hussey       NaN       NaN  \n",
       "4  Royal Challengers Bangalore      MV Boucher       NaN       NaN  "
      ]
     },
     "execution_count": 2,
     "metadata": {},
     "output_type": "execute_result"
    }
   ],
   "source": [
    "# Load the CSV file\n",
    "ipl_df = pd.read_csv(\"ipl_matches_summary.csv\")\n",
    "\n",
    "# Display basic info\n",
    "print(ipl_df.info())\n",
    "\n",
    "# Show first few rows\n",
    "ipl_df.head()\n"
   ]
  },
  {
   "cell_type": "code",
   "execution_count": 3,
   "metadata": {},
   "outputs": [
    {
     "name": "stderr",
     "output_type": "stream",
     "text": [
      "C:\\Users\\Hp\\AppData\\Local\\Temp\\ipykernel_13032\\2975429233.py:11: FutureWarning: Setting an item of incompatible dtype is deprecated and will raise an error in a future version of pandas. Value 'Unknown' has dtype incompatible with float64, please explicitly cast to a compatible dtype first.\n",
      "  ipl_recent.fillna(\"Unknown\", inplace=True)\n",
      "C:\\Users\\Hp\\AppData\\Local\\Temp\\ipykernel_13032\\2975429233.py:11: SettingWithCopyWarning: \n",
      "A value is trying to be set on a copy of a slice from a DataFrame\n",
      "\n",
      "See the caveats in the documentation: https://pandas.pydata.org/pandas-docs/stable/user_guide/indexing.html#returning-a-view-versus-a-copy\n",
      "  ipl_recent.fillna(\"Unknown\", inplace=True)\n"
     ]
    },
    {
     "data": {
      "text/html": [
       "<div>\n",
       "<style scoped>\n",
       "    .dataframe tbody tr th:only-of-type {\n",
       "        vertical-align: middle;\n",
       "    }\n",
       "\n",
       "    .dataframe tbody tr th {\n",
       "        vertical-align: top;\n",
       "    }\n",
       "\n",
       "    .dataframe thead th {\n",
       "        text-align: right;\n",
       "    }\n",
       "</style>\n",
       "<table border=\"1\" class=\"dataframe\">\n",
       "  <thead>\n",
       "    <tr style=\"text-align: right;\">\n",
       "      <th></th>\n",
       "      <th>match_id</th>\n",
       "      <th>season</th>\n",
       "      <th>city</th>\n",
       "      <th>date</th>\n",
       "      <th>venue</th>\n",
       "      <th>team_1</th>\n",
       "      <th>team_2</th>\n",
       "      <th>toss_winner</th>\n",
       "      <th>toss_decision</th>\n",
       "      <th>match_winner</th>\n",
       "      <th>player_of_match</th>\n",
       "      <th>umpire_1</th>\n",
       "      <th>umpire_2</th>\n",
       "      <th>year</th>\n",
       "    </tr>\n",
       "  </thead>\n",
       "  <tbody>\n",
       "    <tr>\n",
       "      <th>610</th>\n",
       "      <td>1175356</td>\n",
       "      <td>2019</td>\n",
       "      <td>Chennai</td>\n",
       "      <td>2019-03-23</td>\n",
       "      <td>MA Chidambaram Stadium</td>\n",
       "      <td>Royal Challengers Bangalore</td>\n",
       "      <td>Chennai Super Kings</td>\n",
       "      <td>Chennai Super Kings</td>\n",
       "      <td>field</td>\n",
       "      <td>Chennai Super Kings</td>\n",
       "      <td>Harbhajan Singh</td>\n",
       "      <td>Unknown</td>\n",
       "      <td>Unknown</td>\n",
       "      <td>2019</td>\n",
       "    </tr>\n",
       "    <tr>\n",
       "      <th>611</th>\n",
       "      <td>1175357</td>\n",
       "      <td>2019</td>\n",
       "      <td>Kolkata</td>\n",
       "      <td>2019-03-24</td>\n",
       "      <td>Eden Gardens</td>\n",
       "      <td>Sunrisers Hyderabad</td>\n",
       "      <td>Kolkata Knight Riders</td>\n",
       "      <td>Kolkata Knight Riders</td>\n",
       "      <td>field</td>\n",
       "      <td>Kolkata Knight Riders</td>\n",
       "      <td>AD Russell</td>\n",
       "      <td>Unknown</td>\n",
       "      <td>Unknown</td>\n",
       "      <td>2019</td>\n",
       "    </tr>\n",
       "    <tr>\n",
       "      <th>612</th>\n",
       "      <td>1175358</td>\n",
       "      <td>2019</td>\n",
       "      <td>Mumbai</td>\n",
       "      <td>2019-03-24</td>\n",
       "      <td>Wankhede Stadium</td>\n",
       "      <td>Delhi Capitals</td>\n",
       "      <td>Mumbai Indians</td>\n",
       "      <td>Mumbai Indians</td>\n",
       "      <td>field</td>\n",
       "      <td>Delhi Capitals</td>\n",
       "      <td>RR Pant</td>\n",
       "      <td>Unknown</td>\n",
       "      <td>Unknown</td>\n",
       "      <td>2019</td>\n",
       "    </tr>\n",
       "    <tr>\n",
       "      <th>613</th>\n",
       "      <td>1175359</td>\n",
       "      <td>2019</td>\n",
       "      <td>Jaipur</td>\n",
       "      <td>2019-03-25</td>\n",
       "      <td>Sawai Mansingh Stadium</td>\n",
       "      <td>Kings XI Punjab</td>\n",
       "      <td>Rajasthan Royals</td>\n",
       "      <td>Rajasthan Royals</td>\n",
       "      <td>field</td>\n",
       "      <td>Kings XI Punjab</td>\n",
       "      <td>CH Gayle</td>\n",
       "      <td>Unknown</td>\n",
       "      <td>Unknown</td>\n",
       "      <td>2019</td>\n",
       "    </tr>\n",
       "    <tr>\n",
       "      <th>614</th>\n",
       "      <td>1175360</td>\n",
       "      <td>2019</td>\n",
       "      <td>Delhi</td>\n",
       "      <td>2019-03-26</td>\n",
       "      <td>Arun Jaitley Stadium</td>\n",
       "      <td>Delhi Capitals</td>\n",
       "      <td>Chennai Super Kings</td>\n",
       "      <td>Delhi Capitals</td>\n",
       "      <td>bat</td>\n",
       "      <td>Chennai Super Kings</td>\n",
       "      <td>SR Watson</td>\n",
       "      <td>Unknown</td>\n",
       "      <td>Unknown</td>\n",
       "      <td>2019</td>\n",
       "    </tr>\n",
       "  </tbody>\n",
       "</table>\n",
       "</div>"
      ],
      "text/plain": [
       "     match_id season     city       date                   venue  \\\n",
       "610   1175356   2019  Chennai 2019-03-23  MA Chidambaram Stadium   \n",
       "611   1175357   2019  Kolkata 2019-03-24            Eden Gardens   \n",
       "612   1175358   2019   Mumbai 2019-03-24        Wankhede Stadium   \n",
       "613   1175359   2019   Jaipur 2019-03-25  Sawai Mansingh Stadium   \n",
       "614   1175360   2019    Delhi 2019-03-26    Arun Jaitley Stadium   \n",
       "\n",
       "                          team_1                 team_2  \\\n",
       "610  Royal Challengers Bangalore    Chennai Super Kings   \n",
       "611          Sunrisers Hyderabad  Kolkata Knight Riders   \n",
       "612               Delhi Capitals         Mumbai Indians   \n",
       "613              Kings XI Punjab       Rajasthan Royals   \n",
       "614               Delhi Capitals    Chennai Super Kings   \n",
       "\n",
       "               toss_winner toss_decision           match_winner  \\\n",
       "610    Chennai Super Kings         field    Chennai Super Kings   \n",
       "611  Kolkata Knight Riders         field  Kolkata Knight Riders   \n",
       "612         Mumbai Indians         field         Delhi Capitals   \n",
       "613       Rajasthan Royals         field        Kings XI Punjab   \n",
       "614         Delhi Capitals           bat    Chennai Super Kings   \n",
       "\n",
       "     player_of_match umpire_1 umpire_2  year  \n",
       "610  Harbhajan Singh  Unknown  Unknown  2019  \n",
       "611       AD Russell  Unknown  Unknown  2019  \n",
       "612          RR Pant  Unknown  Unknown  2019  \n",
       "613         CH Gayle  Unknown  Unknown  2019  \n",
       "614        SR Watson  Unknown  Unknown  2019  "
      ]
     },
     "execution_count": 3,
     "metadata": {},
     "output_type": "execute_result"
    }
   ],
   "source": [
    "# Convert date column to datetime format\n",
    "ipl_df['date'] = pd.to_datetime(ipl_df['date'], errors='coerce')\n",
    "\n",
    "# Extract year from date\n",
    "ipl_df['year'] = ipl_df['date'].dt.year\n",
    "\n",
    "# Filter data for last 5 years (2019-2023)\n",
    "ipl_recent = ipl_df[ipl_df['year'].between(2019, 2023)]\n",
    "\n",
    "# Handle missing values (if any)\n",
    "ipl_recent.fillna(\"Unknown\", inplace=True)\n",
    "\n",
    "# Show cleaned data\n",
    "ipl_recent.head()\n"
   ]
  },
  {
   "cell_type": "code",
   "execution_count": 4,
   "metadata": {},
   "outputs": [
    {
     "name": "stderr",
     "output_type": "stream",
     "text": [
      "C:\\Users\\Hp\\AppData\\Local\\Temp\\ipykernel_13032\\1492717447.py:6: FutureWarning: \n",
      "\n",
      "Passing `palette` without assigning `hue` is deprecated and will be removed in v0.14.0. Assign the `y` variable to `hue` and set `legend=False` for the same effect.\n",
      "\n",
      "  sns.barplot(x=top_players.values, y=top_players.index, palette=\"viridis\")\n"
     ]
    },
    {
     "data": {
      "image/png": "[encoded data removed]",
      "text/plain": [
       "<Figure size 1000x500 with 1 Axes>"
      ]
     },
     "metadata": {},
     "output_type": "display_data"
    }
   ],
   "source": [
    "# Count player of match awards\n",
    "top_players = ipl_recent['player_of_match'].value_counts().head(10)\n",
    "\n",
    "# Plot top players\n",
    "plt.figure(figsize=(10, 5))\n",
    "sns.barplot(x=top_players.values, y=top_players.index, palette=\"viridis\")\n",
    "plt.xlabel(\"Number of Awards\")\n",
    "plt.ylabel(\"Players\")\n",
    "plt.title(\"Top 10 Players (Player of the Match Awards)\")\n",
    "plt.show()\n"
   ]
  },
  {
   "cell_type": "code",
   "execution_count": 5,
   "metadata": {},
   "outputs": [
    {
     "name": "stderr",
     "output_type": "stream",
     "text": [
      "C:\\Users\\Hp\\AppData\\Local\\Temp\\ipykernel_13032\\2859629957.py:6: FutureWarning: \n",
      "\n",
      "Passing `palette` without assigning `hue` is deprecated and will be removed in v0.14.0. Assign the `x` variable to `hue` and set `legend=False` for the same effect.\n",
      "\n",
      "  sns.barplot(x=team_wins.index, y=team_wins.values, palette=\"coolwarm\")\n"
     ]
    },
    {
     "data": {
      "image/png": "[encoded data removed]",
      "text/plain": [
       "<Figure size 1200x600 with 1 Axes>"
      ]
     },
     "metadata": {},
     "output_type": "display_data"
    }
   ],
   "source": [
    "# Count match wins per team\n",
    "team_wins = ipl_recent['match_winner'].value_counts()\n",
    "\n",
    "# Plot team wins\n",
    "plt.figure(figsize=(12, 6))\n",
    "sns.barplot(x=team_wins.index, y=team_wins.values, palette=\"coolwarm\")\n",
    "plt.xticks(rotation=45)\n",
    "plt.xlabel(\"Teams\")\n",
    "plt.ylabel(\"Number of Wins\")\n",
    "plt.title(\"IPL Team Wins (2019-2023)\")\n",
    "plt.show()\n"
   ]
  },
  {
   "cell_type": "code",
   "execution_count": 6,
   "metadata": {},
   "outputs": [
    {
     "name": "stderr",
     "output_type": "stream",
     "text": [
      "C:\\Users\\Hp\\AppData\\Local\\Temp\\ipykernel_13032\\1963676664.py:6: FutureWarning: \n",
      "\n",
      "Passing `palette` without assigning `hue` is deprecated and will be removed in v0.14.0. Assign the `y` variable to `hue` and set `legend=False` for the same effect.\n",
      "\n",
      "  sns.barplot(x=venue_counts.values, y=venue_counts.index, palette=\"magma\")\n"
     ]
    },
    {
     "data": {
      "image/png": "[encoded data removed]",
      "text/plain": [
       "<Figure size 1200x600 with 1 Axes>"
      ]
     },
     "metadata": {},
     "output_type": "display_data"
    }
   ],
   "source": [
    "# Count matches played at each venue\n",
    "venue_counts = ipl_recent['venue'].value_counts().head(10)\n",
    "\n",
    "# Plot venue analysis\n",
    "plt.figure(figsize=(12, 6))\n",
    "sns.barplot(x=venue_counts.values, y=venue_counts.index, palette=\"magma\")\n",
    "plt.xlabel(\"Number of Matches\")\n",
    "plt.ylabel(\"Venue\")\n",
    "plt.title(\"Top 10 IPL Venues (2019-2023)\")\n",
    "plt.show()\n"
   ]
  },
  {
   "cell_type": "code",
   "execution_count": 7,
   "metadata": {},
   "outputs": [
    {
     "name": "stdout",
     "output_type": "stream",
     "text": [
      "Toss Winning Impact on Match Outcome: 49.70%\n"
     ]
    }
   ],
   "source": [
    "# Compare toss winners vs match winners\n",
    "toss_wins = ipl_recent[ipl_recent['toss_winner'] == ipl_recent['match_winner']]\n",
    "\n",
    "# Calculate percentage of matches where toss winner also won\n",
    "toss_impact = len(toss_wins) / len(ipl_recent) * 100\n",
    "print(f\"Toss Winning Impact on Match Outcome: {toss_impact:.2f}%\")\n"
   ]
  },
  {
   "cell_type": "code",
   "execution_count": 8,
   "metadata": {},
   "outputs": [
    {
     "data": {
      "image/png": "[encoded data removed]",
      "text/plain": [
       "<Figure size 600x600 with 1 Axes>"
      ]
     },
     "metadata": {},
     "output_type": "display_data"
    }
   ],
   "source": [
    "# Calculate Toss Winning Impact\n",
    "toss_wins = ipl_recent[ipl_recent['toss_winner'] == ipl_recent['match_winner']]\n",
    "toss_impact = [len(toss_wins), len(ipl_recent) - len(toss_wins)]\n",
    "\n",
    "# Plot Pie Chart\n",
    "plt.figure(figsize=(6, 6))\n",
    "plt.pie(toss_impact, labels=[\"Toss Winner Also Won\", \"Toss Winner Lost\"], autopct=\"%1.1f%%\", colors=[\"green\", \"red\"])\n",
    "plt.title(\"Impact of Toss on Match Winning (2019-2023)\")\n",
    "plt.show()\n"
   ]
  },
  {
   "cell_type": "code",
   "execution_count": 9,
   "metadata": {},
   "outputs": [
    {
     "name": "stderr",
     "output_type": "stream",
     "text": [
      "C:\\Users\\Hp\\AppData\\Local\\Temp\\ipykernel_13032\\2159092692.py:2: FutureWarning: \n",
      "\n",
      "Passing `palette` without assigning `hue` is deprecated and will be removed in v0.14.0. Assign the `y` variable to `hue` and set `legend=False` for the same effect.\n",
      "\n",
      "  sns.violinplot(x=\"year\", y=\"toss_decision\", data=ipl_recent, palette=\"coolwarm\")\n"
     ]
    },
    {
     "data": {
      "image/png": "[encoded data removed]",
      "text/plain": [
       "<Figure size 1000x600 with 1 Axes>"
      ]
     },
     "metadata": {},
     "output_type": "display_data"
    }
   ],
   "source": [
    "plt.figure(figsize=(10, 6))\n",
    "sns.violinplot(x=\"year\", y=\"toss_decision\", data=ipl_recent, palette=\"coolwarm\")\n",
    "plt.xlabel(\"Year\")\n",
    "plt.ylabel(\"Toss Decision\")\n",
    "plt.title(\"Toss Decisions Distribution Over IPL Seasons\")\n",
    "plt.show()\n"
   ]
  },
  {
   "cell_type": "code",
   "execution_count": 10,
   "metadata": {},
   "outputs": [
    {
     "data": {
      "image/png": "[encoded data removed]",
      "text/plain": [
       "<Figure size 800x800 with 1 Axes>"
      ]
     },
     "metadata": {},
     "output_type": "display_data"
    }
   ],
   "source": [
    "# Count Match Outcomes\n",
    "outcome_counts = ipl_recent['match_winner'].fillna(\"No Result\").value_counts()\n",
    "\n",
    "# Plot Donut Chart\n",
    "plt.figure(figsize=(8, 8))\n",
    "plt.pie(outcome_counts, labels=outcome_counts.index, autopct=\"%1.1f%%\", startangle=140, colors=sns.color_palette(\"pastel\"), wedgeprops=dict(width=0.4))\n",
    "plt.title(\"Match Results Distribution (2019-2023)\")\n",
    "plt.show()\n"
   ]
  },
  {
   "cell_type": "code",
   "execution_count": 11,
   "metadata": {},
   "outputs": [
    {
     "data": {
      "application/vnd.plotly.v1+json": {
       "config": {
        "plotlyServerURL": "https://plot.ly"
       },
       "data": [
        {
         "hovertemplate": "match_winner=Chennai Super Kings<br>season=%{x}<br>wins=%{y}<extra></extra>",
         "legendgroup": "Chennai Super Kings",
         "line": {
          "color": "#636efa",
          "dash": "solid",
          "shape": "spline"
         },
         "marker": {
          "size": 8,
          "symbol": "circle"
         },
         "mode": "lines+markers",
         "name": "Chennai Super Kings",
         "orientation": "v",
         "showlegend": true,
         "type": "scatter",
         "x": [
          "2019"
         ],
         "xaxis": "x",
         "y": {
          "bdata": "Cg==",
          "dtype": "i1"
         },
         "yaxis": "y"
        },
        {
         "hovertemplate": "match_winner=Delhi Capitals<br>season=%{x}<br>wins=%{y}<extra></extra>",
         "legendgroup": "Delhi Capitals",
         "line": {
          "color": "#EF553B",
          "dash": "solid",
          "shape": "spline"
         },
         "marker": {
          "size": 8,
          "symbol": "circle"
         },
         "mode": "lines+markers",
         "name": "Delhi Capitals",
         "orientation": "v",
         "showlegend": true,
         "type": "scatter",
         "x": [
          "2019"
         ],
         "xaxis": "x",
         "y": {
          "bdata": "CQ==",
          "dtype": "i1"
         },
         "yaxis": "y"
        },
        {
         "hovertemplate": "match_winner=Kings XI Punjab<br>season=%{x}<br>wins=%{y}<extra></extra>",
         "legendgroup": "Kings XI Punjab",
         "line": {
          "color": "#00cc96",
          "dash": "solid",
          "shape": "spline"
         },
         "marker": {
          "size": 8,
          "symbol": "circle"
         },
         "mode": "lines+markers",
         "name": "Kings XI Punjab",
         "orientation": "v",
         "showlegend": true,
         "type": "scatter",
         "x": [
          "2019"
         ],
         "xaxis": "x",
         "y": {
          "bdata": "Bg==",
          "dtype": "i1"
         },
         "yaxis": "y"
        },
        {
         "hovertemplate": "match_winner=Kolkata Knight Riders<br>season=%{x}<br>wins=%{y}<extra></extra>",
         "legendgroup": "Kolkata Knight Riders",
         "line": {
          "color": "#ab63fa",
          "dash": "solid",
          "shape": "spline"
         },
         "marker": {
          "size": 8,
          "symbol": "circle"
         },
         "mode": "lines+markers",
         "name": "Kolkata Knight Riders",
         "orientation": "v",
         "showlegend": true,
         "type": "scatter",
         "x": [
          "2019"
         ],
         "xaxis": "x",
         "y": {
          "bdata": "Bg==",
          "dtype": "i1"
         },
         "yaxis": "y"
        },
        {
         "hovertemplate": "match_winner=Mumbai Indians<br>season=%{x}<br>wins=%{y}<extra></extra>",
         "legendgroup": "Mumbai Indians",
         "line": {
          "color": "#FFA15A",
          "dash": "solid",
          "shape": "spline"
         },
         "marker": {
          "size": 8,
          "symbol": "circle"
         },
         "mode": "lines+markers",
         "name": "Mumbai Indians",
         "orientation": "v",
         "showlegend": true,
         "type": "scatter",
         "x": [
          "2019"
         ],
         "xaxis": "x",
         "y": {
          "bdata": "Cg==",
          "dtype": "i1"
         },
         "yaxis": "y"
        },
        {
         "hovertemplate": "match_winner=Rajasthan Royals<br>season=%{x}<br>wins=%{y}<extra></extra>",
         "legendgroup": "Rajasthan Royals",
         "line": {
          "color": "#19d3f3",
          "dash": "solid",
          "shape": "spline"
         },
         "marker": {
          "size": 8,
          "symbol": "circle"
         },
         "mode": "lines+markers",
         "name": "Rajasthan Royals",
         "orientation": "v",
         "showlegend": true,
         "type": "scatter",
         "x": [
          "2019"
         ],
         "xaxis": "x",
         "y": {
          "bdata": "BQ==",
          "dtype": "i1"
         },
         "yaxis": "y"
        },
        {
         "hovertemplate": "match_winner=Royal Challengers Bangalore<br>season=%{x}<br>wins=%{y}<extra></extra>",
         "legendgroup": "Royal Challengers Bangalore",
         "line": {
          "color": "#FF6692",
          "dash": "solid",
          "shape": "spline"
         },
         "marker": {
          "size": 8,
          "symbol": "circle"
         },
         "mode": "lines+markers",
         "name": "Royal Challengers Bangalore",
         "orientation": "v",
         "showlegend": true,
         "type": "scatter",
         "x": [
          "2019"
         ],
         "xaxis": "x",
         "y": {
          "bdata": "BQ==",
          "dtype": "i1"
         },
         "yaxis": "y"
        },
        {
         "hovertemplate": "match_winner=Sunrisers Hyderabad<br>season=%{x}<br>wins=%{y}<extra></extra>",
         "legendgroup": "Sunrisers Hyderabad",
         "line": {
          "color": "#B6E880",
          "dash": "solid",
          "shape": "spline"
         },
         "marker": {
          "size": 8,
          "symbol": "circle"
         },
         "mode": "lines+markers",
         "name": "Sunrisers Hyderabad",
         "orientation": "v",
         "showlegend": true,
         "type": "scatter",
         "x": [
          "2019"
         ],
         "xaxis": "x",
         "y": {
          "bdata": "Bg==",
          "dtype": "i1"
         },
         "yaxis": "y"
        },
        {
         "hovertemplate": "match_winner=Unknown<br>season=%{x}<br>wins=%{y}<extra></extra>",
         "legendgroup": "Unknown",
         "line": {
          "color": "#FF97FF",
          "dash": "solid",
          "shape": "spline"
         },
         "marker": {
          "size": 8,
          "symbol": "circle"
         },
         "mode": "lines+markers",
         "name": "Unknown",
         "orientation": "v",
         "showlegend": true,
         "type": "scatter",
         "x": [
          "2019"
         ],
         "xaxis": "x",
         "y": {
          "bdata": "Aw==",
          "dtype": "i1"
         },
         "yaxis": "y"
        }
       ],
       "frames": [
        {
         "data": [
          {
           "hovertemplate": "match_winner=Chennai Super Kings<br>season=%{x}<br>wins=%{y}<extra></extra>",
           "legendgroup": "Chennai Super Kings",
           "line": {
            "color": "#636efa",
            "dash": "solid",
            "shape": "spline"
           },
           "marker": {
            "symbol": "circle"
           },
           "mode": "lines+markers",
           "name": "Chennai Super Kings",
           "orientation": "v",
           "showlegend": true,
           "type": "scatter",
           "x": [
            "2019"
           ],
           "xaxis": "x",
           "y": {
            "bdata": "Cg==",
            "dtype": "i1"
           },
           "yaxis": "y"
          },
          {
           "hovertemplate": "match_winner=Delhi Capitals<br>season=%{x}<br>wins=%{y}<extra></extra>",
           "legendgroup": "Delhi Capitals",
           "line": {
            "color": "#EF553B",
            "dash": "solid",
            "shape": "spline"
           },
           "marker": {
            "symbol": "circle"
           },
           "mode": "lines+markers",
           "name": "Delhi Capitals",
           "orientation": "v",
           "showlegend": true,
           "type": "scatter",
           "x": [
            "2019"
           ],
           "xaxis": "x",
           "y": {
            "bdata": "CQ==",
            "dtype": "i1"
           },
           "yaxis": "y"
          },
          {
           "hovertemplate": "match_winner=Kings XI Punjab<br>season=%{x}<br>wins=%{y}<extra></extra>",
           "legendgroup": "Kings XI Punjab",
           "line": {
            "color": "#00cc96",
            "dash": "solid",
            "shape": "spline"
           },
           "marker": {
            "symbol": "circle"
           },
           "mode": "lines+markers",
           "name": "Kings XI Punjab",
           "orientation": "v",
           "showlegend": true,
           "type": "scatter",
           "x": [
            "2019"
           ],
           "xaxis": "x",
           "y": {
            "bdata": "Bg==",
            "dtype": "i1"
           },
           "yaxis": "y"
          },
          {
           "hovertemplate": "match_winner=Kolkata Knight Riders<br>season=%{x}<br>wins=%{y}<extra></extra>",
           "legendgroup": "Kolkata Knight Riders",
           "line": {
            "color": "#ab63fa",
            "dash": "solid",
            "shape": "spline"
           },
           "marker": {
            "symbol": "circle"
           },
           "mode": "lines+markers",
           "name": "Kolkata Knight Riders",
           "orientation": "v",
           "showlegend": true,
           "type": "scatter",
           "x": [
            "2019"
           ],
           "xaxis": "x",
           "y": {
            "bdata": "Bg==",
            "dtype": "i1"
           },
           "yaxis": "y"
          },
          {
           "hovertemplate": "match_winner=Mumbai Indians<br>season=%{x}<br>wins=%{y}<extra></extra>",
           "legendgroup": "Mumbai Indians",
           "line": {
            "color": "#FFA15A",
            "dash": "solid",
            "shape": "spline"
           },
           "marker": {
            "symbol": "circle"
           },
           "mode": "lines+markers",
           "name": "Mumbai Indians",
           "orientation": "v",
           "showlegend": true,
           "type": "scatter",
           "x": [
            "2019"
           ],
           "xaxis": "x",
           "y": {
            "bdata": "Cg==",
            "dtype": "i1"
           },
           "yaxis": "y"
          },
          {
           "hovertemplate": "match_winner=Rajasthan Royals<br>season=%{x}<br>wins=%{y}<extra></extra>",
           "legendgroup": "Rajasthan Royals",
           "line": {
            "color": "#19d3f3",
            "dash": "solid",
            "shape": "spline"
           },
           "marker": {
            "symbol": "circle"
           },
           "mode": "lines+markers",
           "name": "Rajasthan Royals",
           "orientation": "v",
           "showlegend": true,
           "type": "scatter",
           "x": [
            "2019"
           ],
           "xaxis": "x",
           "y": {
            "bdata": "BQ==",
            "dtype": "i1"
           },
           "yaxis": "y"
          },
          {
           "hovertemplate": "match_winner=Royal Challengers Bangalore<br>season=%{x}<br>wins=%{y}<extra></extra>",
           "legendgroup": "Royal Challengers Bangalore",
           "line": {
            "color": "#FF6692",
            "dash": "solid",
            "shape": "spline"
           },
           "marker": {
            "symbol": "circle"
           },
           "mode": "lines+markers",
           "name": "Royal Challengers Bangalore",
           "orientation": "v",
           "showlegend": true,
           "type": "scatter",
           "x": [
            "2019"
           ],
           "xaxis": "x",
           "y": {
            "bdata": "BQ==",
            "dtype": "i1"
           },
           "yaxis": "y"
          },
          {
           "hovertemplate": "match_winner=Sunrisers Hyderabad<br>season=%{x}<br>wins=%{y}<extra></extra>",
           "legendgroup": "Sunrisers Hyderabad",
           "line": {
            "color": "#B6E880",
            "dash": "solid",
            "shape": "spline"
           },
           "marker": {
            "symbol": "circle"
           },
           "mode": "lines+markers",
           "name": "Sunrisers Hyderabad",
           "orientation": "v",
           "showlegend": true,
           "type": "scatter",
           "x": [
            "2019"
           ],
           "xaxis": "x",
           "y": {
            "bdata": "Bg==",
            "dtype": "i1"
           },
           "yaxis": "y"
          },
          {
           "hovertemplate": "match_winner=Unknown<br>season=%{x}<br>wins=%{y}<extra></extra>",
           "legendgroup": "Unknown",
           "line": {
            "color": "#FF97FF",
            "dash": "solid",
            "shape": "spline"
           },
           "marker": {
            "symbol": "circle"
           },
           "mode": "lines+markers",
           "name": "Unknown",
           "orientation": "v",
           "showlegend": true,
           "type": "scatter",
           "x": [
            "2019"
           ],
           "xaxis": "x",
           "y": {
            "bdata": "Aw==",
            "dtype": "i1"
           },
           "yaxis": "y"
          }
         ],
         "name": "2019"
        },
        {
         "data": [
          {
           "hovertemplate": "match_winner=Chennai Super Kings<br>season=%{x}<br>wins=%{y}<extra></extra>",
           "legendgroup": "Chennai Super Kings",
           "line": {
            "color": "#636efa",
            "dash": "solid",
            "shape": "spline"
           },
           "marker": {
            "symbol": "circle"
           },
           "mode": "lines+markers",
           "name": "Chennai Super Kings",
           "orientation": "v",
           "showlegend": true,
           "type": "scatter",
           "x": [
            "2020/21"
           ],
           "xaxis": "x",
           "y": {
            "bdata": "Bg==",
            "dtype": "i1"
           },
           "yaxis": "y"
          },
          {
           "hovertemplate": "match_winner=Delhi Capitals<br>season=%{x}<br>wins=%{y}<extra></extra>",
           "legendgroup": "Delhi Capitals",
           "line": {
            "color": "#EF553B",
            "dash": "solid",
            "shape": "spline"
           },
           "marker": {
            "symbol": "circle"
           },
           "mode": "lines+markers",
           "name": "Delhi Capitals",
           "orientation": "v",
           "showlegend": true,
           "type": "scatter",
           "x": [
            "2020/21"
           ],
           "xaxis": "x",
           "y": {
            "bdata": "CA==",
            "dtype": "i1"
           },
           "yaxis": "y"
          },
          {
           "hovertemplate": "match_winner=Kings XI Punjab<br>season=%{x}<br>wins=%{y}<extra></extra>",
           "legendgroup": "Kings XI Punjab",
           "line": {
            "color": "#00cc96",
            "dash": "solid",
            "shape": "spline"
           },
           "marker": {
            "symbol": "circle"
           },
           "mode": "lines+markers",
           "name": "Kings XI Punjab",
           "orientation": "v",
           "showlegend": true,
           "type": "scatter",
           "x": [
            "2020/21"
           ],
           "xaxis": "x",
           "y": {
            "bdata": "BQ==",
            "dtype": "i1"
           },
           "yaxis": "y"
          },
          {
           "hovertemplate": "match_winner=Kolkata Knight Riders<br>season=%{x}<br>wins=%{y}<extra></extra>",
           "legendgroup": "Kolkata Knight Riders",
           "line": {
            "color": "#ab63fa",
            "dash": "solid",
            "shape": "spline"
           },
           "marker": {
            "symbol": "circle"
           },
           "mode": "lines+markers",
           "name": "Kolkata Knight Riders",
           "orientation": "v",
           "showlegend": true,
           "type": "scatter",
           "x": [
            "2020/21"
           ],
           "xaxis": "x",
           "y": {
            "bdata": "Bg==",
            "dtype": "i1"
           },
           "yaxis": "y"
          },
          {
           "hovertemplate": "match_winner=Mumbai Indians<br>season=%{x}<br>wins=%{y}<extra></extra>",
           "legendgroup": "Mumbai Indians",
           "line": {
            "color": "#FFA15A",
            "dash": "solid",
            "shape": "spline"
           },
           "marker": {
            "symbol": "circle"
           },
           "mode": "lines+markers",
           "name": "Mumbai Indians",
           "orientation": "v",
           "showlegend": true,
           "type": "scatter",
           "x": [
            "2020/21"
           ],
           "xaxis": "x",
           "y": {
            "bdata": "Cw==",
            "dtype": "i1"
           },
           "yaxis": "y"
          },
          {
           "hovertemplate": "match_winner=Rajasthan Royals<br>season=%{x}<br>wins=%{y}<extra></extra>",
           "legendgroup": "Rajasthan Royals",
           "line": {
            "color": "#19d3f3",
            "dash": "solid",
            "shape": "spline"
           },
           "marker": {
            "symbol": "circle"
           },
           "mode": "lines+markers",
           "name": "Rajasthan Royals",
           "orientation": "v",
           "showlegend": true,
           "type": "scatter",
           "x": [
            "2020/21"
           ],
           "xaxis": "x",
           "y": {
            "bdata": "Bg==",
            "dtype": "i1"
           },
           "yaxis": "y"
          },
          {
           "hovertemplate": "match_winner=Royal Challengers Bangalore<br>season=%{x}<br>wins=%{y}<extra></extra>",
           "legendgroup": "Royal Challengers Bangalore",
           "line": {
            "color": "#FF6692",
            "dash": "solid",
            "shape": "spline"
           },
           "marker": {
            "symbol": "circle"
           },
           "mode": "lines+markers",
           "name": "Royal Challengers Bangalore",
           "orientation": "v",
           "showlegend": true,
           "type": "scatter",
           "x": [
            "2020/21"
           ],
           "xaxis": "x",
           "y": {
            "bdata": "Bg==",
            "dtype": "i1"
           },
           "yaxis": "y"
          },
          {
           "hovertemplate": "match_winner=Sunrisers Hyderabad<br>season=%{x}<br>wins=%{y}<extra></extra>",
           "legendgroup": "Sunrisers Hyderabad",
           "line": {
            "color": "#B6E880",
            "dash": "solid",
            "shape": "spline"
           },
           "marker": {
            "symbol": "circle"
           },
           "mode": "lines+markers",
           "name": "Sunrisers Hyderabad",
           "orientation": "v",
           "showlegend": true,
           "type": "scatter",
           "x": [
            "2020/21"
           ],
           "xaxis": "x",
           "y": {
            "bdata": "CA==",
            "dtype": "i1"
           },
           "yaxis": "y"
          },
          {
           "hovertemplate": "match_winner=Unknown<br>season=%{x}<br>wins=%{y}<extra></extra>",
           "legendgroup": "Unknown",
           "line": {
            "color": "#FF97FF",
            "dash": "solid",
            "shape": "spline"
           },
           "marker": {
            "symbol": "circle"
           },
           "mode": "lines+markers",
           "name": "Unknown",
           "orientation": "v",
           "showlegend": true,
           "type": "scatter",
           "x": [
            "2020/21"
           ],
           "xaxis": "x",
           "y": {
            "bdata": "BA==",
            "dtype": "i1"
           },
           "yaxis": "y"
          }
         ],
         "name": "2020/21"
        },
        {
         "data": [
          {
           "hovertemplate": "match_winner=Chennai Super Kings<br>season=%{x}<br>wins=%{y}<extra></extra>",
           "legendgroup": "Chennai Super Kings",
           "line": {
            "color": "#636efa",
            "dash": "solid",
            "shape": "spline"
           },
           "marker": {
            "symbol": "circle"
           },
           "mode": "lines+markers",
           "name": "Chennai Super Kings",
           "orientation": "v",
           "showlegend": true,
           "type": "scatter",
           "x": [
            "2021"
           ],
           "xaxis": "x",
           "y": {
            "bdata": "Cw==",
            "dtype": "i1"
           },
           "yaxis": "y"
          },
          {
           "hovertemplate": "match_winner=Delhi Capitals<br>season=%{x}<br>wins=%{y}<extra></extra>",
           "legendgroup": "Delhi Capitals",
           "line": {
            "color": "#EF553B",
            "dash": "solid",
            "shape": "spline"
           },
           "marker": {
            "symbol": "circle"
           },
           "mode": "lines+markers",
           "name": "Delhi Capitals",
           "orientation": "v",
           "showlegend": true,
           "type": "scatter",
           "x": [
            "2021"
           ],
           "xaxis": "x",
           "y": {
            "bdata": "CQ==",
            "dtype": "i1"
           },
           "yaxis": "y"
          },
          {
           "hovertemplate": "match_winner=Kolkata Knight Riders<br>season=%{x}<br>wins=%{y}<extra></extra>",
           "legendgroup": "Kolkata Knight Riders",
           "line": {
            "color": "#ab63fa",
            "dash": "solid",
            "shape": "spline"
           },
           "marker": {
            "symbol": "circle"
           },
           "mode": "lines+markers",
           "name": "Kolkata Knight Riders",
           "orientation": "v",
           "showlegend": true,
           "type": "scatter",
           "x": [
            "2021"
           ],
           "xaxis": "x",
           "y": {
            "bdata": "CQ==",
            "dtype": "i1"
           },
           "yaxis": "y"
          },
          {
           "hovertemplate": "match_winner=Mumbai Indians<br>season=%{x}<br>wins=%{y}<extra></extra>",
           "legendgroup": "Mumbai Indians",
           "line": {
            "color": "#FFA15A",
            "dash": "solid",
            "shape": "spline"
           },
           "marker": {
            "symbol": "circle"
           },
           "mode": "lines+markers",
           "name": "Mumbai Indians",
           "orientation": "v",
           "showlegend": true,
           "type": "scatter",
           "x": [
            "2021"
           ],
           "xaxis": "x",
           "y": {
            "bdata": "Bw==",
            "dtype": "i1"
           },
           "yaxis": "y"
          },
          {
           "hovertemplate": "match_winner=Rajasthan Royals<br>season=%{x}<br>wins=%{y}<extra></extra>",
           "legendgroup": "Rajasthan Royals",
           "line": {
            "color": "#19d3f3",
            "dash": "solid",
            "shape": "spline"
           },
           "marker": {
            "symbol": "circle"
           },
           "mode": "lines+markers",
           "name": "Rajasthan Royals",
           "orientation": "v",
           "showlegend": true,
           "type": "scatter",
           "x": [
            "2021"
           ],
           "xaxis": "x",
           "y": {
            "bdata": "BQ==",
            "dtype": "i1"
           },
           "yaxis": "y"
          },
          {
           "hovertemplate": "match_winner=Royal Challengers Bangalore<br>season=%{x}<br>wins=%{y}<extra></extra>",
           "legendgroup": "Royal Challengers Bangalore",
           "line": {
            "color": "#FF6692",
            "dash": "solid",
            "shape": "spline"
           },
           "marker": {
            "symbol": "circle"
           },
           "mode": "lines+markers",
           "name": "Royal Challengers Bangalore",
           "orientation": "v",
           "showlegend": true,
           "type": "scatter",
           "x": [
            "2021"
           ],
           "xaxis": "x",
           "y": {
            "bdata": "CQ==",
            "dtype": "i1"
           },
           "yaxis": "y"
          },
          {
           "hovertemplate": "match_winner=Sunrisers Hyderabad<br>season=%{x}<br>wins=%{y}<extra></extra>",
           "legendgroup": "Sunrisers Hyderabad",
           "line": {
            "color": "#B6E880",
            "dash": "solid",
            "shape": "spline"
           },
           "marker": {
            "symbol": "circle"
           },
           "mode": "lines+markers",
           "name": "Sunrisers Hyderabad",
           "orientation": "v",
           "showlegend": true,
           "type": "scatter",
           "x": [
            "2021"
           ],
           "xaxis": "x",
           "y": {
            "bdata": "Aw==",
            "dtype": "i1"
           },
           "yaxis": "y"
          },
          {
           "hovertemplate": "match_winner=Unknown<br>season=%{x}<br>wins=%{y}<extra></extra>",
           "legendgroup": "Unknown",
           "line": {
            "color": "#FF97FF",
            "dash": "solid",
            "shape": "spline"
           },
           "marker": {
            "symbol": "circle"
           },
           "mode": "lines+markers",
           "name": "Unknown",
           "orientation": "v",
           "showlegend": true,
           "type": "scatter",
           "x": [
            "2021"
           ],
           "xaxis": "x",
           "y": {
            "bdata": "AQ==",
            "dtype": "i1"
           },
           "yaxis": "y"
          },
          {
           "hovertemplate": "match_winner=Punjab Kings<br>season=%{x}<br>wins=%{y}<extra></extra>",
           "legendgroup": "Punjab Kings",
           "line": {
            "color": "#FECB52",
            "dash": "solid",
            "shape": "spline"
           },
           "marker": {
            "symbol": "circle"
           },
           "mode": "lines+markers",
           "name": "Punjab Kings",
           "orientation": "v",
           "showlegend": true,
           "type": "scatter",
           "x": [
            "2021"
           ],
           "xaxis": "x",
           "y": {
            "bdata": "Bg==",
            "dtype": "i1"
           },
           "yaxis": "y"
          }
         ],
         "name": "2021"
        },
        {
         "data": [
          {
           "hovertemplate": "match_winner=Chennai Super Kings<br>season=%{x}<br>wins=%{y}<extra></extra>",
           "legendgroup": "Chennai Super Kings",
           "line": {
            "color": "#636efa",
            "dash": "solid",
            "shape": "spline"
           },
           "marker": {
            "symbol": "circle"
           },
           "mode": "lines+markers",
           "name": "Chennai Super Kings",
           "orientation": "v",
           "showlegend": true,
           "type": "scatter",
           "x": [
            "2022"
           ],
           "xaxis": "x",
           "y": {
            "bdata": "BA==",
            "dtype": "i1"
           },
           "yaxis": "y"
          },
          {
           "hovertemplate": "match_winner=Delhi Capitals<br>season=%{x}<br>wins=%{y}<extra></extra>",
           "legendgroup": "Delhi Capitals",
           "line": {
            "color": "#EF553B",
            "dash": "solid",
            "shape": "spline"
           },
           "marker": {
            "symbol": "circle"
           },
           "mode": "lines+markers",
           "name": "Delhi Capitals",
           "orientation": "v",
           "showlegend": true,
           "type": "scatter",
           "x": [
            "2022"
           ],
           "xaxis": "x",
           "y": {
            "bdata": "Bw==",
            "dtype": "i1"
           },
           "yaxis": "y"
          },
          {
           "hovertemplate": "match_winner=Kolkata Knight Riders<br>season=%{x}<br>wins=%{y}<extra></extra>",
           "legendgroup": "Kolkata Knight Riders",
           "line": {
            "color": "#ab63fa",
            "dash": "solid",
            "shape": "spline"
           },
           "marker": {
            "symbol": "circle"
           },
           "mode": "lines+markers",
           "name": "Kolkata Knight Riders",
           "orientation": "v",
           "showlegend": true,
           "type": "scatter",
           "x": [
            "2022"
           ],
           "xaxis": "x",
           "y": {
            "bdata": "Bg==",
            "dtype": "i1"
           },
           "yaxis": "y"
          },
          {
           "hovertemplate": "match_winner=Mumbai Indians<br>season=%{x}<br>wins=%{y}<extra></extra>",
           "legendgroup": "Mumbai Indians",
           "line": {
            "color": "#FFA15A",
            "dash": "solid",
            "shape": "spline"
           },
           "marker": {
            "symbol": "circle"
           },
           "mode": "lines+markers",
           "name": "Mumbai Indians",
           "orientation": "v",
           "showlegend": true,
           "type": "scatter",
           "x": [
            "2022"
           ],
           "xaxis": "x",
           "y": {
            "bdata": "BA==",
            "dtype": "i1"
           },
           "yaxis": "y"
          },
          {
           "hovertemplate": "match_winner=Rajasthan Royals<br>season=%{x}<br>wins=%{y}<extra></extra>",
           "legendgroup": "Rajasthan Royals",
           "line": {
            "color": "#19d3f3",
            "dash": "solid",
            "shape": "spline"
           },
           "marker": {
            "symbol": "circle"
           },
           "mode": "lines+markers",
           "name": "Rajasthan Royals",
           "orientation": "v",
           "showlegend": true,
           "type": "scatter",
           "x": [
            "2022"
           ],
           "xaxis": "x",
           "y": {
            "bdata": "Cg==",
            "dtype": "i1"
           },
           "yaxis": "y"
          },
          {
           "hovertemplate": "match_winner=Royal Challengers Bangalore<br>season=%{x}<br>wins=%{y}<extra></extra>",
           "legendgroup": "Royal Challengers Bangalore",
           "line": {
            "color": "#FF6692",
            "dash": "solid",
            "shape": "spline"
           },
           "marker": {
            "symbol": "circle"
           },
           "mode": "lines+markers",
           "name": "Royal Challengers Bangalore",
           "orientation": "v",
           "showlegend": true,
           "type": "scatter",
           "x": [
            "2022"
           ],
           "xaxis": "x",
           "y": {
            "bdata": "CQ==",
            "dtype": "i1"
           },
           "yaxis": "y"
          },
          {
           "hovertemplate": "match_winner=Sunrisers Hyderabad<br>season=%{x}<br>wins=%{y}<extra></extra>",
           "legendgroup": "Sunrisers Hyderabad",
           "line": {
            "color": "#B6E880",
            "dash": "solid",
            "shape": "spline"
           },
           "marker": {
            "symbol": "circle"
           },
           "mode": "lines+markers",
           "name": "Sunrisers Hyderabad",
           "orientation": "v",
           "showlegend": true,
           "type": "scatter",
           "x": [
            "2022"
           ],
           "xaxis": "x",
           "y": {
            "bdata": "Bg==",
            "dtype": "i1"
           },
           "yaxis": "y"
          },
          {
           "hovertemplate": "match_winner=Punjab Kings<br>season=%{x}<br>wins=%{y}<extra></extra>",
           "legendgroup": "Punjab Kings",
           "line": {
            "color": "#FECB52",
            "dash": "solid",
            "shape": "spline"
           },
           "marker": {
            "symbol": "circle"
           },
           "mode": "lines+markers",
           "name": "Punjab Kings",
           "orientation": "v",
           "showlegend": true,
           "type": "scatter",
           "x": [
            "2022"
           ],
           "xaxis": "x",
           "y": {
            "bdata": "Bw==",
            "dtype": "i1"
           },
           "yaxis": "y"
          },
          {
           "hovertemplate": "match_winner=Gujarat Titans<br>season=%{x}<br>wins=%{y}<extra></extra>",
           "legendgroup": "Gujarat Titans",
           "line": {
            "color": "#636efa",
            "dash": "solid",
            "shape": "spline"
           },
           "marker": {
            "symbol": "circle"
           },
           "mode": "lines+markers",
           "name": "Gujarat Titans",
           "orientation": "v",
           "showlegend": true,
           "type": "scatter",
           "x": [
            "2022"
           ],
           "xaxis": "x",
           "y": {
            "bdata": "DA==",
            "dtype": "i1"
           },
           "yaxis": "y"
          },
          {
           "hovertemplate": "match_winner=Lucknow Super Giants<br>season=%{x}<br>wins=%{y}<extra></extra>",
           "legendgroup": "Lucknow Super Giants",
           "line": {
            "color": "#EF553B",
            "dash": "solid",
            "shape": "spline"
           },
           "marker": {
            "symbol": "circle"
           },
           "mode": "lines+markers",
           "name": "Lucknow Super Giants",
           "orientation": "v",
           "showlegend": true,
           "type": "scatter",
           "x": [
            "2022"
           ],
           "xaxis": "x",
           "y": {
            "bdata": "CQ==",
            "dtype": "i1"
           },
           "yaxis": "y"
          }
         ],
         "name": "2022"
        },
        {
         "data": [
          {
           "hovertemplate": "match_winner=Chennai Super Kings<br>season=%{x}<br>wins=%{y}<extra></extra>",
           "legendgroup": "Chennai Super Kings",
           "line": {
            "color": "#636efa",
            "dash": "solid",
            "shape": "spline"
           },
           "marker": {
            "symbol": "circle"
           },
           "mode": "lines+markers",
           "name": "Chennai Super Kings",
           "orientation": "v",
           "showlegend": true,
           "type": "scatter",
           "x": [
            "2023"
           ],
           "xaxis": "x",
           "y": {
            "bdata": "Cg==",
            "dtype": "i1"
           },
           "yaxis": "y"
          },
          {
           "hovertemplate": "match_winner=Delhi Capitals<br>season=%{x}<br>wins=%{y}<extra></extra>",
           "legendgroup": "Delhi Capitals",
           "line": {
            "color": "#EF553B",
            "dash": "solid",
            "shape": "spline"
           },
           "marker": {
            "symbol": "circle"
           },
           "mode": "lines+markers",
           "name": "Delhi Capitals",
           "orientation": "v",
           "showlegend": true,
           "type": "scatter",
           "x": [
            "2023"
           ],
           "xaxis": "x",
           "y": {
            "bdata": "BQ==",
            "dtype": "i1"
           },
           "yaxis": "y"
          },
          {
           "hovertemplate": "match_winner=Kolkata Knight Riders<br>season=%{x}<br>wins=%{y}<extra></extra>",
           "legendgroup": "Kolkata Knight Riders",
           "line": {
            "color": "#ab63fa",
            "dash": "solid",
            "shape": "spline"
           },
           "marker": {
            "symbol": "circle"
           },
           "mode": "lines+markers",
           "name": "Kolkata Knight Riders",
           "orientation": "v",
           "showlegend": true,
           "type": "scatter",
           "x": [
            "2023"
           ],
           "xaxis": "x",
           "y": {
            "bdata": "Bg==",
            "dtype": "i1"
           },
           "yaxis": "y"
          },
          {
           "hovertemplate": "match_winner=Mumbai Indians<br>season=%{x}<br>wins=%{y}<extra></extra>",
           "legendgroup": "Mumbai Indians",
           "line": {
            "color": "#FFA15A",
            "dash": "solid",
            "shape": "spline"
           },
           "marker": {
            "symbol": "circle"
           },
           "mode": "lines+markers",
           "name": "Mumbai Indians",
           "orientation": "v",
           "showlegend": true,
           "type": "scatter",
           "x": [
            "2023"
           ],
           "xaxis": "x",
           "y": {
            "bdata": "CQ==",
            "dtype": "i1"
           },
           "yaxis": "y"
          },
          {
           "hovertemplate": "match_winner=Rajasthan Royals<br>season=%{x}<br>wins=%{y}<extra></extra>",
           "legendgroup": "Rajasthan Royals",
           "line": {
            "color": "#19d3f3",
            "dash": "solid",
            "shape": "spline"
           },
           "marker": {
            "symbol": "circle"
           },
           "mode": "lines+markers",
           "name": "Rajasthan Royals",
           "orientation": "v",
           "showlegend": true,
           "type": "scatter",
           "x": [
            "2023"
           ],
           "xaxis": "x",
           "y": {
            "bdata": "Bw==",
            "dtype": "i1"
           },
           "yaxis": "y"
          },
          {
           "hovertemplate": "match_winner=Royal Challengers Bangalore<br>season=%{x}<br>wins=%{y}<extra></extra>",
           "legendgroup": "Royal Challengers Bangalore",
           "line": {
            "color": "#FF6692",
            "dash": "solid",
            "shape": "spline"
           },
           "marker": {
            "symbol": "circle"
           },
           "mode": "lines+markers",
           "name": "Royal Challengers Bangalore",
           "orientation": "v",
           "showlegend": true,
           "type": "scatter",
           "x": [
            "2023"
           ],
           "xaxis": "x",
           "y": {
            "bdata": "Bw==",
            "dtype": "i1"
           },
           "yaxis": "y"
          },
          {
           "hovertemplate": "match_winner=Sunrisers Hyderabad<br>season=%{x}<br>wins=%{y}<extra></extra>",
           "legendgroup": "Sunrisers Hyderabad",
           "line": {
            "color": "#B6E880",
            "dash": "solid",
            "shape": "spline"
           },
           "marker": {
            "symbol": "circle"
           },
           "mode": "lines+markers",
           "name": "Sunrisers Hyderabad",
           "orientation": "v",
           "showlegend": true,
           "type": "scatter",
           "x": [
            "2023"
           ],
           "xaxis": "x",
           "y": {
            "bdata": "BA==",
            "dtype": "i1"
           },
           "yaxis": "y"
          },
          {
           "hovertemplate": "match_winner=Unknown<br>season=%{x}<br>wins=%{y}<extra></extra>",
           "legendgroup": "Unknown",
           "line": {
            "color": "#FF97FF",
            "dash": "solid",
            "shape": "spline"
           },
           "marker": {
            "symbol": "circle"
           },
           "mode": "lines+markers",
           "name": "Unknown",
           "orientation": "v",
           "showlegend": true,
           "type": "scatter",
           "x": [
            "2023"
           ],
           "xaxis": "x",
           "y": {
            "bdata": "AQ==",
            "dtype": "i1"
           },
           "yaxis": "y"
          },
          {
           "hovertemplate": "match_winner=Punjab Kings<br>season=%{x}<br>wins=%{y}<extra></extra>",
           "legendgroup": "Punjab Kings",
           "line": {
            "color": "#FECB52",
            "dash": "solid",
            "shape": "spline"
           },
           "marker": {
            "symbol": "circle"
           },
           "mode": "lines+markers",
           "name": "Punjab Kings",
           "orientation": "v",
           "showlegend": true,
           "type": "scatter",
           "x": [
            "2023"
           ],
           "xaxis": "x",
           "y": {
            "bdata": "Bg==",
            "dtype": "i1"
           },
           "yaxis": "y"
          },
          {
           "hovertemplate": "match_winner=Gujarat Titans<br>season=%{x}<br>wins=%{y}<extra></extra>",
           "legendgroup": "Gujarat Titans",
           "line": {
            "color": "#636efa",
            "dash": "solid",
            "shape": "spline"
           },
           "marker": {
            "symbol": "circle"
           },
           "mode": "lines+markers",
           "name": "Gujarat Titans",
           "orientation": "v",
           "showlegend": true,
           "type": "scatter",
           "x": [
            "2023"
           ],
           "xaxis": "x",
           "y": {
            "bdata": "Cw==",
            "dtype": "i1"
           },
           "yaxis": "y"
          },
          {
           "hovertemplate": "match_winner=Lucknow Super Giants<br>season=%{x}<br>wins=%{y}<extra></extra>",
           "legendgroup": "Lucknow Super Giants",
           "line": {
            "color": "#EF553B",
            "dash": "solid",
            "shape": "spline"
           },
           "marker": {
            "symbol": "circle"
           },
           "mode": "lines+markers",
           "name": "Lucknow Super Giants",
           "orientation": "v",
           "showlegend": true,
           "type": "scatter",
           "x": [
            "2023"
           ],
           "xaxis": "x",
           "y": {
            "bdata": "CA==",
            "dtype": "i1"
           },
           "yaxis": "y"
          }
         ],
         "name": "2023"
        }
       ],
       "layout": {
        "legend": {
         "title": {
          "text": "Teams"
         },
         "tracegroupgap": 0
        },
        "sliders": [
         {
          "active": 0,
          "currentvalue": {
           "prefix": "season="
          },
          "len": 0.9,
          "pad": {
           "b": 10,
           "t": 60
          },
          "steps": [
           {
            "args": [
             [
              "2019"
             ],
             {
              "frame": {
               "duration": 0,
               "redraw": false
              },
              "fromcurrent": true,
              "mode": "immediate",
              "transition": {
               "duration": 0,
               "easing": "linear"
              }
             }
            ],
            "label": "2019",
            "method": "animate"
           },
           {
            "args": [
             [
              "2020/21"
             ],
             {
              "frame": {
               "duration": 0,
               "redraw": false
              },
              "fromcurrent": true,
              "mode": "immediate",
              "transition": {
               "duration": 0,
               "easing": "linear"
              }
             }
            ],
            "label": "2020/21",
            "method": "animate"
           },
           {
            "args": [
             [
              "2021"
             ],
             {
              "frame": {
               "duration": 0,
               "redraw": false
              },
              "fromcurrent": true,
              "mode": "immediate",
              "transition": {
               "duration": 0,
               "easing": "linear"
              }
             }
            ],
            "label": "2021",
            "method": "animate"
           },
           {
            "args": [
             [
              "2022"
             ],
             {
              "frame": {
               "duration": 0,
               "redraw": false
              },
              "fromcurrent": true,
              "mode": "immediate",
              "transition": {
               "duration": 0,
               "easing": "linear"
              }
             }
            ],
            "label": "2022",
            "method": "animate"
           },
           {
            "args": [
             [
              "2023"
             ],
             {
              "frame": {
               "duration": 0,
               "redraw": false
              },
              "fromcurrent": true,
              "mode": "immediate",
              "transition": {
               "duration": 0,
               "easing": "linear"
              }
             }
            ],
            "label": "2023",
            "method": "animate"
           }
          ],
          "x": 0.1,
          "xanchor": "left",
          "y": 0,
          "yanchor": "top"
         }
        ],
        "template": {
         "data": {
          "bar": [
           {
            "error_x": {
             "color": "#2a3f5f"
            },
            "error_y": {
             "color": "#2a3f5f"
            },
            "marker": {
             "line": {
              "color": "#E5ECF6",
              "width": 0.5
             },
             "pattern": {
              "fillmode": "overlay",
              "size": 10,
              "solidity": 0.2
             }
            },
            "type": "bar"
           }
          ],
          "barpolar": [
           {
            "marker": {
             "line": {
              "color": "#E5ECF6",
              "width": 0.5
             },
             "pattern": {
              "fillmode": "overlay",
              "size": 10,
              "solidity": 0.2
             }
            },
            "type": "barpolar"
           }
          ],
          "carpet": [
           {
            "aaxis": {
             "endlinecolor": "#2a3f5f",
             "gridcolor": "white",
             "linecolor": "white",
             "minorgridcolor": "white",
             "startlinecolor": "#2a3f5f"
            },
            "baxis": {
             "endlinecolor": "#2a3f5f",
             "gridcolor": "white",
             "linecolor": "white",
             "minorgridcolor": "white",
             "startlinecolor": "#2a3f5f"
            },
            "type": "carpet"
           }
          ],
          "choropleth": [
           {
            "colorbar": {
             "outlinewidth": 0,
             "ticks": ""
            },
            "type": "choropleth"
           }
          ],
          "contour": [
           {
            "colorbar": {
             "outlinewidth": 0,
             "ticks": ""
            },
            "colorscale": [
             [
              0,
              "#0d0887"
             ],
             [
              0.1111111111111111,
              "#46039f"
             ],
             [
              0.2222222222222222,
              "#7201a8"
             ],
             [
              0.3333333333333333,
              "#9c179e"
             ],
             [
              0.4444444444444444,
              "#bd3786"
             ],
             [
              0.5555555555555556,
              "#d8576b"
             ],
             [
              0.6666666666666666,
              "#ed7953"
             ],
             [
              0.7777777777777778,
              "#fb9f3a"
             ],
             [
              0.8888888888888888,
              "#fdca26"
             ],
             [
              1,
              "#f0f921"
             ]
            ],
            "type": "contour"
           }
          ],
          "contourcarpet": [
           {
            "colorbar": {
             "outlinewidth": 0,
             "ticks": ""
            },
            "type": "contourcarpet"
           }
          ],
          "heatmap": [
           {
            "colorbar": {
             "outlinewidth": 0,
             "ticks": ""
            },
            "colorscale": [
             [
              0,
              "#0d0887"
             ],
             [
              0.1111111111111111,
              "#46039f"
             ],
             [
              0.2222222222222222,
              "#7201a8"
             ],
             [
              0.3333333333333333,
              "#9c179e"
             ],
             [
              0.4444444444444444,
              "#bd3786"
             ],
             [
              0.5555555555555556,
              "#d8576b"
             ],
             [
              0.6666666666666666,
              "#ed7953"
             ],
             [
              0.7777777777777778,
              "#fb9f3a"
             ],
             [
              0.8888888888888888,
              "#fdca26"
             ],
             [
              1,
              "#f0f921"
             ]
            ],
            "type": "heatmap"
           }
          ],
          "histogram": [
           {
            "marker": {
             "pattern": {
              "fillmode": "overlay",
              "size": 10,
              "solidity": 0.2
             }
            },
            "type": "histogram"
           }
          ],
          "histogram2d": [
           {
            "colorbar": {
             "outlinewidth": 0,
             "ticks": ""
            },
            "colorscale": [
             [
              0,
              "#0d0887"
             ],
             [
              0.1111111111111111,
              "#46039f"
             ],
             [
              0.2222222222222222,
              "#7201a8"
             ],
             [
              0.3333333333333333,
              "#9c179e"
             ],
             [
              0.4444444444444444,
              "#bd3786"
             ],
             [
              0.5555555555555556,
              "#d8576b"
             ],
             [
              0.6666666666666666,
              "#ed7953"
             ],
             [
              0.7777777777777778,
              "#fb9f3a"
             ],
             [
              0.8888888888888888,
              "#fdca26"
             ],
             [
              1,
              "#f0f921"
             ]
            ],
            "type": "histogram2d"
           }
          ],
          "histogram2dcontour": [
           {
            "colorbar": {
             "outlinewidth": 0,
             "ticks": ""
            },
            "colorscale": [
             [
              0,
              "#0d0887"
             ],
             [
              0.1111111111111111,
              "#46039f"
             ],
             [
              0.2222222222222222,
              "#7201a8"
             ],
             [
              0.3333333333333333,
              "#9c179e"
             ],
             [
              0.4444444444444444,
              "#bd3786"
             ],
             [
              0.5555555555555556,
              "#d8576b"
             ],
             [
              0.6666666666666666,
              "#ed7953"
             ],
             [
              0.7777777777777778,
              "#fb9f3a"
             ],
             [
              0.8888888888888888,
              "#fdca26"
             ],
             [
              1,
              "#f0f921"
             ]
            ],
            "type": "histogram2dcontour"
           }
          ],
          "mesh3d": [
           {
            "colorbar": {
             "outlinewidth": 0,
             "ticks": ""
            },
            "type": "mesh3d"
           }
          ],
          "parcoords": [
           {
            "line": {
             "colorbar": {
              "outlinewidth": 0,
              "ticks": ""
             }
            },
            "type": "parcoords"
           }
          ],
          "pie": [
           {
            "automargin": true,
            "type": "pie"
           }
          ],
          "scatter": [
           {
            "fillpattern": {
             "fillmode": "overlay",
             "size": 10,
             "solidity": 0.2
            },
            "type": "scatter"
           }
          ],
          "scatter3d": [
           {
            "line": {
             "colorbar": {
              "outlinewidth": 0,
              "ticks": ""
             }
            },
            "marker": {
             "colorbar": {
              "outlinewidth": 0,
              "ticks": ""
             }
            },
            "type": "scatter3d"
           }
          ],
          "scattercarpet": [
           {
            "marker": {
             "colorbar": {
              "outlinewidth": 0,
              "ticks": ""
             }
            },
            "type": "scattercarpet"
           }
          ],
          "scattergeo": [
           {
            "marker": {
             "colorbar": {
              "outlinewidth": 0,
              "ticks": ""
             }
            },
            "type": "scattergeo"
           }
          ],
          "scattergl": [
           {
            "marker": {
             "colorbar": {
              "outlinewidth": 0,
              "ticks": ""
             }
            },
            "type": "scattergl"
           }
          ],
          "scattermap": [
           {
            "marker": {
             "colorbar": {
              "outlinewidth": 0,
              "ticks": ""
             }
            },
            "type": "scattermap"
           }
          ],
          "scattermapbox": [
           {
            "marker": {
             "colorbar": {
              "outlinewidth": 0,
              "ticks": ""
             }
            },
            "type": "scattermapbox"
           }
          ],
          "scatterpolar": [
           {
            "marker": {
             "colorbar": {
              "outlinewidth": 0,
              "ticks": ""
             }
            },
            "type": "scatterpolar"
           }
          ],
          "scatterpolargl": [
           {
            "marker": {
             "colorbar": {
              "outlinewidth": 0,
              "ticks": ""
             }
            },
            "type": "scatterpolargl"
           }
          ],
          "scatterternary": [
           {
            "marker": {
             "colorbar": {
              "outlinewidth": 0,
              "ticks": ""
             }
            },
            "type": "scatterternary"
           }
          ],
          "surface": [
           {
            "colorbar": {
             "outlinewidth": 0,
             "ticks": ""
            },
            "colorscale": [
             [
              0,
              "#0d0887"
             ],
             [
              0.1111111111111111,
              "#46039f"
             ],
             [
              0.2222222222222222,
              "#7201a8"
             ],
             [
              0.3333333333333333,
              "#9c179e"
             ],
             [
              0.4444444444444444,
              "#bd3786"
             ],
             [
              0.5555555555555556,
              "#d8576b"
             ],
             [
              0.6666666666666666,
              "#ed7953"
             ],
             [
              0.7777777777777778,
              "#fb9f3a"
             ],
             [
              0.8888888888888888,
              "#fdca26"
             ],
             [
              1,
              "#f0f921"
             ]
            ],
            "type": "surface"
           }
          ],
          "table": [
           {
            "cells": {
             "fill": {
              "color": "#EBF0F8"
             },
             "line": {
              "color": "white"
             }
            },
            "header": {
             "fill": {
              "color": "#C8D4E3"
             },
             "line": {
              "color": "white"
             }
            },
            "type": "table"
           }
          ]
         },
         "layout": {
          "annotationdefaults": {
           "arrowcolor": "#2a3f5f",
           "arrowhead": 0,
           "arrowwidth": 1
          },
          "autotypenumbers": "strict",
          "coloraxis": {
           "colorbar": {
            "outlinewidth": 0,
            "ticks": ""
           }
          },
          "colorscale": {
           "diverging": [
            [
             0,
             "#8e0152"
            ],
            [
             0.1,
             "#c51b7d"
            ],
            [
             0.2,
             "#de77ae"
            ],
            [
             0.3,
             "#f1b6da"
            ],
            [
             0.4,
             "#fde0ef"
            ],
            [
             0.5,
             "#f7f7f7"
            ],
            [
             0.6,
             "#e6f5d0"
            ],
            [
             0.7,
             "#b8e186"
            ],
            [
             0.8,
             "#7fbc41"
            ],
            [
             0.9,
             "#4d9221"
            ],
            [
             1,
             "#276419"
            ]
           ],
           "sequential": [
            [
             0,
             "#0d0887"
            ],
            [
             0.1111111111111111,
             "#46039f"
            ],
            [
             0.2222222222222222,
             "#7201a8"
            ],
            [
             0.3333333333333333,
             "#9c179e"
            ],
            [
             0.4444444444444444,
             "#bd3786"
            ],
            [
             0.5555555555555556,
             "#d8576b"
            ],
            [
             0.6666666666666666,
             "#ed7953"
            ],
            [
             0.7777777777777778,
             "#fb9f3a"
            ],
            [
             0.8888888888888888,
             "#fdca26"
            ],
            [
             1,
             "#f0f921"
            ]
           ],
           "sequentialminus": [
            [
             0,
             "#0d0887"
            ],
            [
             0.1111111111111111,
             "#46039f"
            ],
            [
             0.2222222222222222,
             "#7201a8"
            ],
            [
             0.3333333333333333,
             "#9c179e"
            ],
            [
             0.4444444444444444,
             "#bd3786"
            ],
            [
             0.5555555555555556,
             "#d8576b"
            ],
            [
             0.6666666666666666,
             "#ed7953"
            ],
            [
             0.7777777777777778,
             "#fb9f3a"
            ],
            [
             0.8888888888888888,
             "#fdca26"
            ],
            [
             1,
             "#f0f921"
            ]
           ]
          },
          "colorway": [
           "#636efa",
           "#EF553B",
           "#00cc96",
           "#ab63fa",
           "#FFA15A",
           "#19d3f3",
           "#FF6692",
           "#B6E880",
           "#FF97FF",
           "#FECB52"
          ],
          "font": {
           "color": "#2a3f5f"
          },
          "geo": {
           "bgcolor": "white",
           "lakecolor": "white",
           "landcolor": "#E5ECF6",
           "showlakes": true,
           "showland": true,
           "subunitcolor": "white"
          },
          "hoverlabel": {
           "align": "left"
          },
          "hovermode": "closest",
          "mapbox": {
           "style": "light"
          },
          "paper_bgcolor": "white",
          "plot_bgcolor": "#E5ECF6",
          "polar": {
           "angularaxis": {
            "gridcolor": "white",
            "linecolor": "white",
            "ticks": ""
           },
           "bgcolor": "#E5ECF6",
           "radialaxis": {
            "gridcolor": "white",
            "linecolor": "white",
            "ticks": ""
           }
          },
          "scene": {
           "xaxis": {
            "backgroundcolor": "#E5ECF6",
            "gridcolor": "white",
            "gridwidth": 2,
            "linecolor": "white",
            "showbackground": true,
            "ticks": "",
            "zerolinecolor": "white"
           },
           "yaxis": {
            "backgroundcolor": "#E5ECF6",
            "gridcolor": "white",
            "gridwidth": 2,
            "linecolor": "white",
            "showbackground": true,
            "ticks": "",
            "zerolinecolor": "white"
           },
           "zaxis": {
            "backgroundcolor": "#E5ECF6",
            "gridcolor": "white",
            "gridwidth": 2,
            "linecolor": "white",
            "showbackground": true,
            "ticks": "",
            "zerolinecolor": "white"
           }
          },
          "shapedefaults": {
           "line": {
            "color": "#2a3f5f"
           }
          },
          "ternary": {
           "aaxis": {
            "gridcolor": "white",
            "linecolor": "white",
            "ticks": ""
           },
           "baxis": {
            "gridcolor": "white",
            "linecolor": "white",
            "ticks": ""
           },
           "bgcolor": "#E5ECF6",
           "caxis": {
            "gridcolor": "white",
            "linecolor": "white",
            "ticks": ""
           }
          },
          "title": {
           "x": 0.05
          },
          "xaxis": {
           "automargin": true,
           "gridcolor": "white",
           "linecolor": "white",
           "ticks": "",
           "title": {
            "standoff": 15
           },
           "zerolinecolor": "white",
           "zerolinewidth": 2
          },
          "yaxis": {
           "automargin": true,
           "gridcolor": "white",
           "linecolor": "white",
           "ticks": "",
           "title": {
            "standoff": 15
           },
           "zerolinecolor": "white",
           "zerolinewidth": 2
          }
         }
        },
        "title": {
         "text": "IPL Team Wins Trend Over 5 Seasons"
        },
        "transition": {
         "duration": 800
        },
        "updatemenus": [
         {
          "buttons": [
           {
            "args": [
             null,
             {
              "frame": {
               "duration": 1500,
               "redraw": true
              },
              "fromcurrent": true
             }
            ],
            "label": "▶ Play",
            "method": "animate"
           },
           {
            "args": [
             [
              null
             ],
             {
              "frame": {
               "duration": 0,
               "redraw": true
              },
              "mode": "immediate"
             }
            ],
            "label": "❚❚ Pause",
            "method": "animate"
           }
          ],
          "direction": "left",
          "pad": {
           "r": 10,
           "t": 87
          },
          "showactive": false,
          "type": "buttons",
          "x": 0.1,
          "xanchor": "right",
          "y": 0,
          "yanchor": "top"
         }
        ],
        "xaxis": {
         "anchor": "y",
         "categoryarray": [
          "2019",
          "2020/21",
          "2021",
          "2022",
          "2023"
         ],
         "categoryorder": "array",
         "domain": [
          0,
          1
         ],
         "title": {
          "text": "Season"
         }
        },
        "yaxis": {
         "anchor": "x",
         "domain": [
          0,
          1
         ],
         "title": {
          "text": "Total Wins"
         }
        }
       }
      }
     },
     "metadata": {},
     "output_type": "display_data"
    }
   ],
   "source": [
    "import plotly.express as px\n",
    "\n",
    "# Ensure correct column name for year/season\n",
    "year_col = \"season\" if \"season\" in ipl_recent.columns else \"year\"\n",
    "\n",
    "# Group data by Year & Match Winner\n",
    "wins_per_team = ipl_recent.groupby([year_col, \"match_winner\"]).size().reset_index(name=\"wins\")\n",
    "\n",
    "# Create Animated Line Chart\n",
    "fig = px.line(\n",
    "    wins_per_team, \n",
    "    x=year_col, \n",
    "    y=\"wins\", \n",
    "    color=\"match_winner\", \n",
    "    markers=True, \n",
    "    title=\"IPL Team Wins Trend Over 5 Seasons\",\n",
    "    animation_frame=year_col,\n",
    "    line_shape=\"spline\"  # Smoothens the lines\n",
    ")\n",
    "\n",
    "# 🎨 **Manually Set Animation Speed**\n",
    "fig.update_layout(\n",
    "    updatemenus=[{\n",
    "        \"buttons\": [\n",
    "            {\n",
    "                \"args\": [None, {\"frame\": {\"duration\": 1500, \"redraw\": True}, \"fromcurrent\": True}],\n",
    "                \"label\": \"▶ Play\",\n",
    "                \"method\": \"animate\"\n",
    "            },\n",
    "            {\n",
    "                \"args\": [[None], {\"frame\": {\"duration\": 0, \"redraw\": True}, \"mode\": \"immediate\"}],\n",
    "                \"label\": \"❚❚ Pause\",\n",
    "                \"method\": \"animate\"\n",
    "            }\n",
    "        ],\n",
    "        \"direction\": \"left\",\n",
    "        \"pad\": {\"r\": 10, \"t\": 87},\n",
    "        \"showactive\": False,\n",
    "        \"type\": \"buttons\",\n",
    "        \"x\": 0.1,\n",
    "        \"xanchor\": \"right\",\n",
    "        \"y\": 0,\n",
    "        \"yanchor\": \"top\"\n",
    "    }]\n",
    ")\n",
    "\n",
    "# Improve Aesthetics\n",
    "fig.update_traces(marker=dict(size=8))  # Increase marker size\n",
    "fig.update_layout(\n",
    "    xaxis_title=\"Season\", \n",
    "    yaxis_title=\"Total Wins\", \n",
    "    legend_title=\"Teams\",\n",
    "    transition={\"duration\": 800}  # Smooth transitions\n",
    ")\n",
    "\n",
    "fig.show()\n",
    "\n",
    "\n"
   ]
  },
  {
   "cell_type": "code",
   "execution_count": 12,
   "metadata": {},
   "outputs": [
    {
     "name": "stderr",
     "output_type": "stream",
     "text": [
      "C:\\Users\\Hp\\AppData\\Local\\Temp\\ipykernel_13032\\3066752239.py:6: FutureWarning:\n",
      "\n",
      "\n",
      "\n",
      "Passing `palette` without assigning `hue` is deprecated and will be removed in v0.14.0. Assign the `y` variable to `hue` and set `legend=False` for the same effect.\n",
      "\n",
      "\n"
     ]
    },
    {
     "data": {
      "image/png": "[encoded data removed]",
      "text/plain": [
       "<Figure size 1000x600 with 1 Axes>"
      ]
     },
     "metadata": {},
     "output_type": "display_data"
    }
   ],
   "source": [
    "import seaborn as sns\n",
    "import matplotlib.pyplot as plt\n",
    "\n",
    "# Plot Ridge Plot\n",
    "plt.figure(figsize=(10, 6))\n",
    "sns.violinplot(x=\"year\", y=\"match_winner\", data=ipl_recent, palette=\"magma\")\n",
    "plt.xlabel(\"Year\")\n",
    "plt.ylabel(\"Team\")\n",
    "plt.title(\"Runs Distribution Across IPL Seasons\")\n",
    "plt.show()\n"
   ]
  },
  {
   "cell_type": "code",
   "execution_count": 13,
   "metadata": {},
   "outputs": [
    {
     "data": {
      "application/vnd.plotly.v1+json": {
       "config": {
        "plotlyServerURL": "https://plot.ly"
       },
       "data": [
        {
         "hovertemplate": "<b>%{hovertext}</b><br><br>match_winner=Chennai Super Kings<br>Year=%{x}<br>Total Wins=%{marker.size}<extra></extra>",
         "hovertext": [
          "Chennai Super Kings"
         ],
         "legendgroup": "Chennai Super Kings",
         "marker": {
          "color": "#636efa",
          "size": {
           "bdata": "Cg==",
           "dtype": "i1"
          },
          "sizemode": "area",
          "sizeref": 0.0048,
          "symbol": "circle"
         },
         "mode": "markers",
         "name": "Chennai Super Kings",
         "orientation": "v",
         "showlegend": true,
         "type": "scatter",
         "x": [
          "2019"
         ],
         "xaxis": "x",
         "y": {
          "bdata": "Cg==",
          "dtype": "i1"
         },
         "yaxis": "y"
        },
        {
         "hovertemplate": "<b>%{hovertext}</b><br><br>match_winner=Delhi Capitals<br>Year=%{x}<br>Total Wins=%{marker.size}<extra></extra>",
         "hovertext": [
          "Delhi Capitals"
         ],
         "legendgroup": "Delhi Capitals",
         "marker": {
          "color": "#EF553B",
          "size": {
           "bdata": "CQ==",
           "dtype": "i1"
          },
          "sizemode": "area",
          "sizeref": 0.0048,
          "symbol": "circle"
         },
         "mode": "markers",
         "name": "Delhi Capitals",
         "orientation": "v",
         "showlegend": true,
         "type": "scatter",
         "x": [
          "2019"
         ],
         "xaxis": "x",
         "y": {
          "bdata": "CQ==",
          "dtype": "i1"
         },
         "yaxis": "y"
        },
        {
         "hovertemplate": "<b>%{hovertext}</b><br><br>match_winner=Kings XI Punjab<br>Year=%{x}<br>Total Wins=%{marker.size}<extra></extra>",
         "hovertext": [
          "Kings XI Punjab"
         ],
         "legendgroup": "Kings XI Punjab",
         "marker": {
          "color": "#00cc96",
          "size": {
           "bdata": "Bg==",
           "dtype": "i1"
          },
          "sizemode": "area",
          "sizeref": 0.0048,
          "symbol": "circle"
         },
         "mode": "markers",
         "name": "Kings XI Punjab",
         "orientation": "v",
         "showlegend": true,
         "type": "scatter",
         "x": [
          "2019"
         ],
         "xaxis": "x",
         "y": {
          "bdata": "Bg==",
          "dtype": "i1"
         },
         "yaxis": "y"
        },
        {
         "hovertemplate": "<b>%{hovertext}</b><br><br>match_winner=Kolkata Knight Riders<br>Year=%{x}<br>Total Wins=%{marker.size}<extra></extra>",
         "hovertext": [
          "Kolkata Knight Riders"
         ],
         "legendgroup": "Kolkata Knight Riders",
         "marker": {
          "color": "#ab63fa",
          "size": {
           "bdata": "Bg==",
           "dtype": "i1"
          },
          "sizemode": "area",
          "sizeref": 0.0048,
          "symbol": "circle"
         },
         "mode": "markers",
         "name": "Kolkata Knight Riders",
         "orientation": "v",
         "showlegend": true,
         "type": "scatter",
         "x": [
          "2019"
         ],
         "xaxis": "x",
         "y": {
          "bdata": "Bg==",
          "dtype": "i1"
         },
         "yaxis": "y"
        },
        {
         "hovertemplate": "<b>%{hovertext}</b><br><br>match_winner=Mumbai Indians<br>Year=%{x}<br>Total Wins=%{marker.size}<extra></extra>",
         "hovertext": [
          "Mumbai Indians"
         ],
         "legendgroup": "Mumbai Indians",
         "marker": {
          "color": "#FFA15A",
          "size": {
           "bdata": "Cg==",
           "dtype": "i1"
          },
          "sizemode": "area",
          "sizeref": 0.0048,
          "symbol": "circle"
         },
         "mode": "markers",
         "name": "Mumbai Indians",
         "orientation": "v",
         "showlegend": true,
         "type": "scatter",
         "x": [
          "2019"
         ],
         "xaxis": "x",
         "y": {
          "bdata": "Cg==",
          "dtype": "i1"
         },
         "yaxis": "y"
        },
        {
         "hovertemplate": "<b>%{hovertext}</b><br><br>match_winner=Rajasthan Royals<br>Year=%{x}<br>Total Wins=%{marker.size}<extra></extra>",
         "hovertext": [
          "Rajasthan Royals"
         ],
         "legendgroup": "Rajasthan Royals",
         "marker": {
          "color": "#19d3f3",
          "size": {
           "bdata": "BQ==",
           "dtype": "i1"
          },
          "sizemode": "area",
          "sizeref": 0.0048,
          "symbol": "circle"
         },
         "mode": "markers",
         "name": "Rajasthan Royals",
         "orientation": "v",
         "showlegend": true,
         "type": "scatter",
         "x": [
          "2019"
         ],
         "xaxis": "x",
         "y": {
          "bdata": "BQ==",
          "dtype": "i1"
         },
         "yaxis": "y"
        },
        {
         "hovertemplate": "<b>%{hovertext}</b><br><br>match_winner=Royal Challengers Bangalore<br>Year=%{x}<br>Total Wins=%{marker.size}<extra></extra>",
         "hovertext": [
          "Royal Challengers Bangalore"
         ],
         "legendgroup": "Royal Challengers Bangalore",
         "marker": {
          "color": "#FF6692",
          "size": {
           "bdata": "BQ==",
           "dtype": "i1"
          },
          "sizemode": "area",
          "sizeref": 0.0048,
          "symbol": "circle"
         },
         "mode": "markers",
         "name": "Royal Challengers Bangalore",
         "orientation": "v",
         "showlegend": true,
         "type": "scatter",
         "x": [
          "2019"
         ],
         "xaxis": "x",
         "y": {
          "bdata": "BQ==",
          "dtype": "i1"
         },
         "yaxis": "y"
        },
        {
         "hovertemplate": "<b>%{hovertext}</b><br><br>match_winner=Sunrisers Hyderabad<br>Year=%{x}<br>Total Wins=%{marker.size}<extra></extra>",
         "hovertext": [
          "Sunrisers Hyderabad"
         ],
         "legendgroup": "Sunrisers Hyderabad",
         "marker": {
          "color": "#B6E880",
          "size": {
           "bdata": "Bg==",
           "dtype": "i1"
          },
          "sizemode": "area",
          "sizeref": 0.0048,
          "symbol": "circle"
         },
         "mode": "markers",
         "name": "Sunrisers Hyderabad",
         "orientation": "v",
         "showlegend": true,
         "type": "scatter",
         "x": [
          "2019"
         ],
         "xaxis": "x",
         "y": {
          "bdata": "Bg==",
          "dtype": "i1"
         },
         "yaxis": "y"
        },
        {
         "hovertemplate": "<b>%{hovertext}</b><br><br>match_winner=Unknown<br>Year=%{x}<br>Total Wins=%{marker.size}<extra></extra>",
         "hovertext": [
          "Unknown"
         ],
         "legendgroup": "Unknown",
         "marker": {
          "color": "#FF97FF",
          "size": {
           "bdata": "Aw==",
           "dtype": "i1"
          },
          "sizemode": "area",
          "sizeref": 0.0048,
          "symbol": "circle"
         },
         "mode": "markers",
         "name": "Unknown",
         "orientation": "v",
         "showlegend": true,
         "type": "scatter",
         "x": [
          "2019"
         ],
         "xaxis": "x",
         "y": {
          "bdata": "Aw==",
          "dtype": "i1"
         },
         "yaxis": "y"
        }
       ],
       "frames": [
        {
         "data": [
          {
           "hovertemplate": "<b>%{hovertext}</b><br><br>match_winner=Chennai Super Kings<br>Year=%{x}<br>Total Wins=%{marker.size}<extra></extra>",
           "hovertext": [
            "Chennai Super Kings"
           ],
           "legendgroup": "Chennai Super Kings",
           "marker": {
            "color": "#636efa",
            "size": {
             "bdata": "Cg==",
             "dtype": "i1"
            },
            "sizemode": "area",
            "sizeref": 0.0048,
            "symbol": "circle"
           },
           "mode": "markers",
           "name": "Chennai Super Kings",
           "orientation": "v",
           "showlegend": true,
           "type": "scatter",
           "x": [
            "2019"
           ],
           "xaxis": "x",
           "y": {
            "bdata": "Cg==",
            "dtype": "i1"
           },
           "yaxis": "y"
          },
          {
           "hovertemplate": "<b>%{hovertext}</b><br><br>match_winner=Delhi Capitals<br>Year=%{x}<br>Total Wins=%{marker.size}<extra></extra>",
           "hovertext": [
            "Delhi Capitals"
           ],
           "legendgroup": "Delhi Capitals",
           "marker": {
            "color": "#EF553B",
            "size": {
             "bdata": "CQ==",
             "dtype": "i1"
            },
            "sizemode": "area",
            "sizeref": 0.0048,
            "symbol": "circle"
           },
           "mode": "markers",
           "name": "Delhi Capitals",
           "orientation": "v",
           "showlegend": true,
           "type": "scatter",
           "x": [
            "2019"
           ],
           "xaxis": "x",
           "y": {
            "bdata": "CQ==",
            "dtype": "i1"
           },
           "yaxis": "y"
          },
          {
           "hovertemplate": "<b>%{hovertext}</b><br><br>match_winner=Kings XI Punjab<br>Year=%{x}<br>Total Wins=%{marker.size}<extra></extra>",
           "hovertext": [
            "Kings XI Punjab"
           ],
           "legendgroup": "Kings XI Punjab",
           "marker": {
            "color": "#00cc96",
            "size": {
             "bdata": "Bg==",
             "dtype": "i1"
            },
            "sizemode": "area",
            "sizeref": 0.0048,
            "symbol": "circle"
           },
           "mode": "markers",
           "name": "Kings XI Punjab",
           "orientation": "v",
           "showlegend": true,
           "type": "scatter",
           "x": [
            "2019"
           ],
           "xaxis": "x",
           "y": {
            "bdata": "Bg==",
            "dtype": "i1"
           },
           "yaxis": "y"
          },
          {
           "hovertemplate": "<b>%{hovertext}</b><br><br>match_winner=Kolkata Knight Riders<br>Year=%{x}<br>Total Wins=%{marker.size}<extra></extra>",
           "hovertext": [
            "Kolkata Knight Riders"
           ],
           "legendgroup": "Kolkata Knight Riders",
           "marker": {
            "color": "#ab63fa",
            "size": {
             "bdata": "Bg==",
             "dtype": "i1"
            },
            "sizemode": "area",
            "sizeref": 0.0048,
            "symbol": "circle"
           },
           "mode": "markers",
           "name": "Kolkata Knight Riders",
           "orientation": "v",
           "showlegend": true,
           "type": "scatter",
           "x": [
            "2019"
           ],
           "xaxis": "x",
           "y": {
            "bdata": "Bg==",
            "dtype": "i1"
           },
           "yaxis": "y"
          },
          {
           "hovertemplate": "<b>%{hovertext}</b><br><br>match_winner=Mumbai Indians<br>Year=%{x}<br>Total Wins=%{marker.size}<extra></extra>",
           "hovertext": [
            "Mumbai Indians"
           ],
           "legendgroup": "Mumbai Indians",
           "marker": {
            "color": "#FFA15A",
            "size": {
             "bdata": "Cg==",
             "dtype": "i1"
            },
            "sizemode": "area",
            "sizeref": 0.0048,
            "symbol": "circle"
           },
           "mode": "markers",
           "name": "Mumbai Indians",
           "orientation": "v",
           "showlegend": true,
           "type": "scatter",
           "x": [
            "2019"
           ],
           "xaxis": "x",
           "y": {
            "bdata": "Cg==",
            "dtype": "i1"
           },
           "yaxis": "y"
          },
          {
           "hovertemplate": "<b>%{hovertext}</b><br><br>match_winner=Rajasthan Royals<br>Year=%{x}<br>Total Wins=%{marker.size}<extra></extra>",
           "hovertext": [
            "Rajasthan Royals"
           ],
           "legendgroup": "Rajasthan Royals",
           "marker": {
            "color": "#19d3f3",
            "size": {
             "bdata": "BQ==",
             "dtype": "i1"
            },
            "sizemode": "area",
            "sizeref": 0.0048,
            "symbol": "circle"
           },
           "mode": "markers",
           "name": "Rajasthan Royals",
           "orientation": "v",
           "showlegend": true,
           "type": "scatter",
           "x": [
            "2019"
           ],
           "xaxis": "x",
           "y": {
            "bdata": "BQ==",
            "dtype": "i1"
           },
           "yaxis": "y"
          },
          {
           "hovertemplate": "<b>%{hovertext}</b><br><br>match_winner=Royal Challengers Bangalore<br>Year=%{x}<br>Total Wins=%{marker.size}<extra></extra>",
           "hovertext": [
            "Royal Challengers Bangalore"
           ],
           "legendgroup": "Royal Challengers Bangalore",
           "marker": {
            "color": "#FF6692",
            "size": {
             "bdata": "BQ==",
             "dtype": "i1"
            },
            "sizemode": "area",
            "sizeref": 0.0048,
            "symbol": "circle"
           },
           "mode": "markers",
           "name": "Royal Challengers Bangalore",
           "orientation": "v",
           "showlegend": true,
           "type": "scatter",
           "x": [
            "2019"
           ],
           "xaxis": "x",
           "y": {
            "bdata": "BQ==",
            "dtype": "i1"
           },
           "yaxis": "y"
          },
          {
           "hovertemplate": "<b>%{hovertext}</b><br><br>match_winner=Sunrisers Hyderabad<br>Year=%{x}<br>Total Wins=%{marker.size}<extra></extra>",
           "hovertext": [
            "Sunrisers Hyderabad"
           ],
           "legendgroup": "Sunrisers Hyderabad",
           "marker": {
            "color": "#B6E880",
            "size": {
             "bdata": "Bg==",
             "dtype": "i1"
            },
            "sizemode": "area",
            "sizeref": 0.0048,
            "symbol": "circle"
           },
           "mode": "markers",
           "name": "Sunrisers Hyderabad",
           "orientation": "v",
           "showlegend": true,
           "type": "scatter",
           "x": [
            "2019"
           ],
           "xaxis": "x",
           "y": {
            "bdata": "Bg==",
            "dtype": "i1"
           },
           "yaxis": "y"
          },
          {
           "hovertemplate": "<b>%{hovertext}</b><br><br>match_winner=Unknown<br>Year=%{x}<br>Total Wins=%{marker.size}<extra></extra>",
           "hovertext": [
            "Unknown"
           ],
           "legendgroup": "Unknown",
           "marker": {
            "color": "#FF97FF",
            "size": {
             "bdata": "Aw==",
             "dtype": "i1"
            },
            "sizemode": "area",
            "sizeref": 0.0048,
            "symbol": "circle"
           },
           "mode": "markers",
           "name": "Unknown",
           "orientation": "v",
           "showlegend": true,
           "type": "scatter",
           "x": [
            "2019"
           ],
           "xaxis": "x",
           "y": {
            "bdata": "Aw==",
            "dtype": "i1"
           },
           "yaxis": "y"
          }
         ],
         "name": "2019"
        },
        {
         "data": [
          {
           "hovertemplate": "<b>%{hovertext}</b><br><br>match_winner=Chennai Super Kings<br>Year=%{x}<br>Total Wins=%{marker.size}<extra></extra>",
           "hovertext": [
            "Chennai Super Kings"
           ],
           "legendgroup": "Chennai Super Kings",
           "marker": {
            "color": "#636efa",
            "size": {
             "bdata": "Bg==",
             "dtype": "i1"
            },
            "sizemode": "area",
            "sizeref": 0.0048,
            "symbol": "circle"
           },
           "mode": "markers",
           "name": "Chennai Super Kings",
           "orientation": "v",
           "showlegend": true,
           "type": "scatter",
           "x": [
            "2020/21"
           ],
           "xaxis": "x",
           "y": {
            "bdata": "Bg==",
            "dtype": "i1"
           },
           "yaxis": "y"
          },
          {
           "hovertemplate": "<b>%{hovertext}</b><br><br>match_winner=Delhi Capitals<br>Year=%{x}<br>Total Wins=%{marker.size}<extra></extra>",
           "hovertext": [
            "Delhi Capitals"
           ],
           "legendgroup": "Delhi Capitals",
           "marker": {
            "color": "#EF553B",
            "size": {
             "bdata": "CA==",
             "dtype": "i1"
            },
            "sizemode": "area",
            "sizeref": 0.0048,
            "symbol": "circle"
           },
           "mode": "markers",
           "name": "Delhi Capitals",
           "orientation": "v",
           "showlegend": true,
           "type": "scatter",
           "x": [
            "2020/21"
           ],
           "xaxis": "x",
           "y": {
            "bdata": "CA==",
            "dtype": "i1"
           },
           "yaxis": "y"
          },
          {
           "hovertemplate": "<b>%{hovertext}</b><br><br>match_winner=Kings XI Punjab<br>Year=%{x}<br>Total Wins=%{marker.size}<extra></extra>",
           "hovertext": [
            "Kings XI Punjab"
           ],
           "legendgroup": "Kings XI Punjab",
           "marker": {
            "color": "#00cc96",
            "size": {
             "bdata": "BQ==",
             "dtype": "i1"
            },
            "sizemode": "area",
            "sizeref": 0.0048,
            "symbol": "circle"
           },
           "mode": "markers",
           "name": "Kings XI Punjab",
           "orientation": "v",
           "showlegend": true,
           "type": "scatter",
           "x": [
            "2020/21"
           ],
           "xaxis": "x",
           "y": {
            "bdata": "BQ==",
            "dtype": "i1"
           },
           "yaxis": "y"
          },
          {
           "hovertemplate": "<b>%{hovertext}</b><br><br>match_winner=Kolkata Knight Riders<br>Year=%{x}<br>Total Wins=%{marker.size}<extra></extra>",
           "hovertext": [
            "Kolkata Knight Riders"
           ],
           "legendgroup": "Kolkata Knight Riders",
           "marker": {
            "color": "#ab63fa",
            "size": {
             "bdata": "Bg==",
             "dtype": "i1"
            },
            "sizemode": "area",
            "sizeref": 0.0048,
            "symbol": "circle"
           },
           "mode": "markers",
           "name": "Kolkata Knight Riders",
           "orientation": "v",
           "showlegend": true,
           "type": "scatter",
           "x": [
            "2020/21"
           ],
           "xaxis": "x",
           "y": {
            "bdata": "Bg==",
            "dtype": "i1"
           },
           "yaxis": "y"
          },
          {
           "hovertemplate": "<b>%{hovertext}</b><br><br>match_winner=Mumbai Indians<br>Year=%{x}<br>Total Wins=%{marker.size}<extra></extra>",
           "hovertext": [
            "Mumbai Indians"
           ],
           "legendgroup": "Mumbai Indians",
           "marker": {
            "color": "#FFA15A",
            "size": {
             "bdata": "Cw==",
             "dtype": "i1"
            },
            "sizemode": "area",
            "sizeref": 0.0048,
            "symbol": "circle"
           },
           "mode": "markers",
           "name": "Mumbai Indians",
           "orientation": "v",
           "showlegend": true,
           "type": "scatter",
           "x": [
            "2020/21"
           ],
           "xaxis": "x",
           "y": {
            "bdata": "Cw==",
            "dtype": "i1"
           },
           "yaxis": "y"
          },
          {
           "hovertemplate": "<b>%{hovertext}</b><br><br>match_winner=Rajasthan Royals<br>Year=%{x}<br>Total Wins=%{marker.size}<extra></extra>",
           "hovertext": [
            "Rajasthan Royals"
           ],
           "legendgroup": "Rajasthan Royals",
           "marker": {
            "color": "#19d3f3",
            "size": {
             "bdata": "Bg==",
             "dtype": "i1"
            },
            "sizemode": "area",
            "sizeref": 0.0048,
            "symbol": "circle"
           },
           "mode": "markers",
           "name": "Rajasthan Royals",
           "orientation": "v",
           "showlegend": true,
           "type": "scatter",
           "x": [
            "2020/21"
           ],
           "xaxis": "x",
           "y": {
            "bdata": "Bg==",
            "dtype": "i1"
           },
           "yaxis": "y"
          },
          {
           "hovertemplate": "<b>%{hovertext}</b><br><br>match_winner=Royal Challengers Bangalore<br>Year=%{x}<br>Total Wins=%{marker.size}<extra></extra>",
           "hovertext": [
            "Royal Challengers Bangalore"
           ],
           "legendgroup": "Royal Challengers Bangalore",
           "marker": {
            "color": "#FF6692",
            "size": {
             "bdata": "Bg==",
             "dtype": "i1"
            },
            "sizemode": "area",
            "sizeref": 0.0048,
            "symbol": "circle"
           },
           "mode": "markers",
           "name": "Royal Challengers Bangalore",
           "orientation": "v",
           "showlegend": true,
           "type": "scatter",
           "x": [
            "2020/21"
           ],
           "xaxis": "x",
           "y": {
            "bdata": "Bg==",
            "dtype": "i1"
           },
           "yaxis": "y"
          },
          {
           "hovertemplate": "<b>%{hovertext}</b><br><br>match_winner=Sunrisers Hyderabad<br>Year=%{x}<br>Total Wins=%{marker.size}<extra></extra>",
           "hovertext": [
            "Sunrisers Hyderabad"
           ],
           "legendgroup": "Sunrisers Hyderabad",
           "marker": {
            "color": "#B6E880",
            "size": {
             "bdata": "CA==",
             "dtype": "i1"
            },
            "sizemode": "area",
            "sizeref": 0.0048,
            "symbol": "circle"
           },
           "mode": "markers",
           "name": "Sunrisers Hyderabad",
           "orientation": "v",
           "showlegend": true,
           "type": "scatter",
           "x": [
            "2020/21"
           ],
           "xaxis": "x",
           "y": {
            "bdata": "CA==",
            "dtype": "i1"
           },
           "yaxis": "y"
          },
          {
           "hovertemplate": "<b>%{hovertext}</b><br><br>match_winner=Unknown<br>Year=%{x}<br>Total Wins=%{marker.size}<extra></extra>",
           "hovertext": [
            "Unknown"
           ],
           "legendgroup": "Unknown",
           "marker": {
            "color": "#FF97FF",
            "size": {
             "bdata": "BA==",
             "dtype": "i1"
            },
            "sizemode": "area",
            "sizeref": 0.0048,
            "symbol": "circle"
           },
           "mode": "markers",
           "name": "Unknown",
           "orientation": "v",
           "showlegend": true,
           "type": "scatter",
           "x": [
            "2020/21"
           ],
           "xaxis": "x",
           "y": {
            "bdata": "BA==",
            "dtype": "i1"
           },
           "yaxis": "y"
          }
         ],
         "name": "2020/21"
        },
        {
         "data": [
          {
           "hovertemplate": "<b>%{hovertext}</b><br><br>match_winner=Chennai Super Kings<br>Year=%{x}<br>Total Wins=%{marker.size}<extra></extra>",
           "hovertext": [
            "Chennai Super Kings"
           ],
           "legendgroup": "Chennai Super Kings",
           "marker": {
            "color": "#636efa",
            "size": {
             "bdata": "Cw==",
             "dtype": "i1"
            },
            "sizemode": "area",
            "sizeref": 0.0048,
            "symbol": "circle"
           },
           "mode": "markers",
           "name": "Chennai Super Kings",
           "orientation": "v",
           "showlegend": true,
           "type": "scatter",
           "x": [
            "2021"
           ],
           "xaxis": "x",
           "y": {
            "bdata": "Cw==",
            "dtype": "i1"
           },
           "yaxis": "y"
          },
          {
           "hovertemplate": "<b>%{hovertext}</b><br><br>match_winner=Delhi Capitals<br>Year=%{x}<br>Total Wins=%{marker.size}<extra></extra>",
           "hovertext": [
            "Delhi Capitals"
           ],
           "legendgroup": "Delhi Capitals",
           "marker": {
            "color": "#EF553B",
            "size": {
             "bdata": "CQ==",
             "dtype": "i1"
            },
            "sizemode": "area",
            "sizeref": 0.0048,
            "symbol": "circle"
           },
           "mode": "markers",
           "name": "Delhi Capitals",
           "orientation": "v",
           "showlegend": true,
           "type": "scatter",
           "x": [
            "2021"
           ],
           "xaxis": "x",
           "y": {
            "bdata": "CQ==",
            "dtype": "i1"
           },
           "yaxis": "y"
          },
          {
           "hovertemplate": "<b>%{hovertext}</b><br><br>match_winner=Kolkata Knight Riders<br>Year=%{x}<br>Total Wins=%{marker.size}<extra></extra>",
           "hovertext": [
            "Kolkata Knight Riders"
           ],
           "legendgroup": "Kolkata Knight Riders",
           "marker": {
            "color": "#ab63fa",
            "size": {
             "bdata": "CQ==",
             "dtype": "i1"
            },
            "sizemode": "area",
            "sizeref": 0.0048,
            "symbol": "circle"
           },
           "mode": "markers",
           "name": "Kolkata Knight Riders",
           "orientation": "v",
           "showlegend": true,
           "type": "scatter",
           "x": [
            "2021"
           ],
           "xaxis": "x",
           "y": {
            "bdata": "CQ==",
            "dtype": "i1"
           },
           "yaxis": "y"
          },
          {
           "hovertemplate": "<b>%{hovertext}</b><br><br>match_winner=Mumbai Indians<br>Year=%{x}<br>Total Wins=%{marker.size}<extra></extra>",
           "hovertext": [
            "Mumbai Indians"
           ],
           "legendgroup": "Mumbai Indians",
           "marker": {
            "color": "#FFA15A",
            "size": {
             "bdata": "Bw==",
             "dtype": "i1"
            },
            "sizemode": "area",
            "sizeref": 0.0048,
            "symbol": "circle"
           },
           "mode": "markers",
           "name": "Mumbai Indians",
           "orientation": "v",
           "showlegend": true,
           "type": "scatter",
           "x": [
            "2021"
           ],
           "xaxis": "x",
           "y": {
            "bdata": "Bw==",
            "dtype": "i1"
           },
           "yaxis": "y"
          },
          {
           "hovertemplate": "<b>%{hovertext}</b><br><br>match_winner=Rajasthan Royals<br>Year=%{x}<br>Total Wins=%{marker.size}<extra></extra>",
           "hovertext": [
            "Rajasthan Royals"
           ],
           "legendgroup": "Rajasthan Royals",
           "marker": {
            "color": "#19d3f3",
            "size": {
             "bdata": "BQ==",
             "dtype": "i1"
            },
            "sizemode": "area",
            "sizeref": 0.0048,
            "symbol": "circle"
           },
           "mode": "markers",
           "name": "Rajasthan Royals",
           "orientation": "v",
           "showlegend": true,
           "type": "scatter",
           "x": [
            "2021"
           ],
           "xaxis": "x",
           "y": {
            "bdata": "BQ==",
            "dtype": "i1"
           },
           "yaxis": "y"
          },
          {
           "hovertemplate": "<b>%{hovertext}</b><br><br>match_winner=Royal Challengers Bangalore<br>Year=%{x}<br>Total Wins=%{marker.size}<extra></extra>",
           "hovertext": [
            "Royal Challengers Bangalore"
           ],
           "legendgroup": "Royal Challengers Bangalore",
           "marker": {
            "color": "#FF6692",
            "size": {
             "bdata": "CQ==",
             "dtype": "i1"
            },
            "sizemode": "area",
            "sizeref": 0.0048,
            "symbol": "circle"
           },
           "mode": "markers",
           "name": "Royal Challengers Bangalore",
           "orientation": "v",
           "showlegend": true,
           "type": "scatter",
           "x": [
            "2021"
           ],
           "xaxis": "x",
           "y": {
            "bdata": "CQ==",
            "dtype": "i1"
           },
           "yaxis": "y"
          },
          {
           "hovertemplate": "<b>%{hovertext}</b><br><br>match_winner=Sunrisers Hyderabad<br>Year=%{x}<br>Total Wins=%{marker.size}<extra></extra>",
           "hovertext": [
            "Sunrisers Hyderabad"
           ],
           "legendgroup": "Sunrisers Hyderabad",
           "marker": {
            "color": "#B6E880",
            "size": {
             "bdata": "Aw==",
             "dtype": "i1"
            },
            "sizemode": "area",
            "sizeref": 0.0048,
            "symbol": "circle"
           },
           "mode": "markers",
           "name": "Sunrisers Hyderabad",
           "orientation": "v",
           "showlegend": true,
           "type": "scatter",
           "x": [
            "2021"
           ],
           "xaxis": "x",
           "y": {
            "bdata": "Aw==",
            "dtype": "i1"
           },
           "yaxis": "y"
          },
          {
           "hovertemplate": "<b>%{hovertext}</b><br><br>match_winner=Unknown<br>Year=%{x}<br>Total Wins=%{marker.size}<extra></extra>",
           "hovertext": [
            "Unknown"
           ],
           "legendgroup": "Unknown",
           "marker": {
            "color": "#FF97FF",
            "size": {
             "bdata": "AQ==",
             "dtype": "i1"
            },
            "sizemode": "area",
            "sizeref": 0.0048,
            "symbol": "circle"
           },
           "mode": "markers",
           "name": "Unknown",
           "orientation": "v",
           "showlegend": true,
           "type": "scatter",
           "x": [
            "2021"
           ],
           "xaxis": "x",
           "y": {
            "bdata": "AQ==",
            "dtype": "i1"
           },
           "yaxis": "y"
          },
          {
           "hovertemplate": "<b>%{hovertext}</b><br><br>match_winner=Punjab Kings<br>Year=%{x}<br>Total Wins=%{marker.size}<extra></extra>",
           "hovertext": [
            "Punjab Kings"
           ],
           "legendgroup": "Punjab Kings",
           "marker": {
            "color": "#FECB52",
            "size": {
             "bdata": "Bg==",
             "dtype": "i1"
            },
            "sizemode": "area",
            "sizeref": 0.0048,
            "symbol": "circle"
           },
           "mode": "markers",
           "name": "Punjab Kings",
           "orientation": "v",
           "showlegend": true,
           "type": "scatter",
           "x": [
            "2021"
           ],
           "xaxis": "x",
           "y": {
            "bdata": "Bg==",
            "dtype": "i1"
           },
           "yaxis": "y"
          }
         ],
         "name": "2021"
        },
        {
         "data": [
          {
           "hovertemplate": "<b>%{hovertext}</b><br><br>match_winner=Chennai Super Kings<br>Year=%{x}<br>Total Wins=%{marker.size}<extra></extra>",
           "hovertext": [
            "Chennai Super Kings"
           ],
           "legendgroup": "Chennai Super Kings",
           "marker": {
            "color": "#636efa",
            "size": {
             "bdata": "BA==",
             "dtype": "i1"
            },
            "sizemode": "area",
            "sizeref": 0.0048,
            "symbol": "circle"
           },
           "mode": "markers",
           "name": "Chennai Super Kings",
           "orientation": "v",
           "showlegend": true,
           "type": "scatter",
           "x": [
            "2022"
           ],
           "xaxis": "x",
           "y": {
            "bdata": "BA==",
            "dtype": "i1"
           },
           "yaxis": "y"
          },
          {
           "hovertemplate": "<b>%{hovertext}</b><br><br>match_winner=Delhi Capitals<br>Year=%{x}<br>Total Wins=%{marker.size}<extra></extra>",
           "hovertext": [
            "Delhi Capitals"
           ],
           "legendgroup": "Delhi Capitals",
           "marker": {
            "color": "#EF553B",
            "size": {
             "bdata": "Bw==",
             "dtype": "i1"
            },
            "sizemode": "area",
            "sizeref": 0.0048,
            "symbol": "circle"
           },
           "mode": "markers",
           "name": "Delhi Capitals",
           "orientation": "v",
           "showlegend": true,
           "type": "scatter",
           "x": [
            "2022"
           ],
           "xaxis": "x",
           "y": {
            "bdata": "Bw==",
            "dtype": "i1"
           },
           "yaxis": "y"
          },
          {
           "hovertemplate": "<b>%{hovertext}</b><br><br>match_winner=Kolkata Knight Riders<br>Year=%{x}<br>Total Wins=%{marker.size}<extra></extra>",
           "hovertext": [
            "Kolkata Knight Riders"
           ],
           "legendgroup": "Kolkata Knight Riders",
           "marker": {
            "color": "#ab63fa",
            "size": {
             "bdata": "Bg==",
             "dtype": "i1"
            },
            "sizemode": "area",
            "sizeref": 0.0048,
            "symbol": "circle"
           },
           "mode": "markers",
           "name": "Kolkata Knight Riders",
           "orientation": "v",
           "showlegend": true,
           "type": "scatter",
           "x": [
            "2022"
           ],
           "xaxis": "x",
           "y": {
            "bdata": "Bg==",
            "dtype": "i1"
           },
           "yaxis": "y"
          },
          {
           "hovertemplate": "<b>%{hovertext}</b><br><br>match_winner=Mumbai Indians<br>Year=%{x}<br>Total Wins=%{marker.size}<extra></extra>",
           "hovertext": [
            "Mumbai Indians"
           ],
           "legendgroup": "Mumbai Indians",
           "marker": {
            "color": "#FFA15A",
            "size": {
             "bdata": "BA==",
             "dtype": "i1"
            },
            "sizemode": "area",
            "sizeref": 0.0048,
            "symbol": "circle"
           },
           "mode": "markers",
           "name": "Mumbai Indians",
           "orientation": "v",
           "showlegend": true,
           "type": "scatter",
           "x": [
            "2022"
           ],
           "xaxis": "x",
           "y": {
            "bdata": "BA==",
            "dtype": "i1"
           },
           "yaxis": "y"
          },
          {
           "hovertemplate": "<b>%{hovertext}</b><br><br>match_winner=Rajasthan Royals<br>Year=%{x}<br>Total Wins=%{marker.size}<extra></extra>",
           "hovertext": [
            "Rajasthan Royals"
           ],
           "legendgroup": "Rajasthan Royals",
           "marker": {
            "color": "#19d3f3",
            "size": {
             "bdata": "Cg==",
             "dtype": "i1"
            },
            "sizemode": "area",
            "sizeref": 0.0048,
            "symbol": "circle"
           },
           "mode": "markers",
           "name": "Rajasthan Royals",
           "orientation": "v",
           "showlegend": true,
           "type": "scatter",
           "x": [
            "2022"
           ],
           "xaxis": "x",
           "y": {
            "bdata": "Cg==",
            "dtype": "i1"
           },
           "yaxis": "y"
          },
          {
           "hovertemplate": "<b>%{hovertext}</b><br><br>match_winner=Royal Challengers Bangalore<br>Year=%{x}<br>Total Wins=%{marker.size}<extra></extra>",
           "hovertext": [
            "Royal Challengers Bangalore"
           ],
           "legendgroup": "Royal Challengers Bangalore",
           "marker": {
            "color": "#FF6692",
            "size": {
             "bdata": "CQ==",
             "dtype": "i1"
            },
            "sizemode": "area",
            "sizeref": 0.0048,
            "symbol": "circle"
           },
           "mode": "markers",
           "name": "Royal Challengers Bangalore",
           "orientation": "v",
           "showlegend": true,
           "type": "scatter",
           "x": [
            "2022"
           ],
           "xaxis": "x",
           "y": {
            "bdata": "CQ==",
            "dtype": "i1"
           },
           "yaxis": "y"
          },
          {
           "hovertemplate": "<b>%{hovertext}</b><br><br>match_winner=Sunrisers Hyderabad<br>Year=%{x}<br>Total Wins=%{marker.size}<extra></extra>",
           "hovertext": [
            "Sunrisers Hyderabad"
           ],
           "legendgroup": "Sunrisers Hyderabad",
           "marker": {
            "color": "#B6E880",
            "size": {
             "bdata": "Bg==",
             "dtype": "i1"
            },
            "sizemode": "area",
            "sizeref": 0.0048,
            "symbol": "circle"
           },
           "mode": "markers",
           "name": "Sunrisers Hyderabad",
           "orientation": "v",
           "showlegend": true,
           "type": "scatter",
           "x": [
            "2022"
           ],
           "xaxis": "x",
           "y": {
            "bdata": "Bg==",
            "dtype": "i1"
           },
           "yaxis": "y"
          },
          {
           "hovertemplate": "<b>%{hovertext}</b><br><br>match_winner=Punjab Kings<br>Year=%{x}<br>Total Wins=%{marker.size}<extra></extra>",
           "hovertext": [
            "Punjab Kings"
           ],
           "legendgroup": "Punjab Kings",
           "marker": {
            "color": "#FECB52",
            "size": {
             "bdata": "Bw==",
             "dtype": "i1"
            },
            "sizemode": "area",
            "sizeref": 0.0048,
            "symbol": "circle"
           },
           "mode": "markers",
           "name": "Punjab Kings",
           "orientation": "v",
           "showlegend": true,
           "type": "scatter",
           "x": [
            "2022"
           ],
           "xaxis": "x",
           "y": {
            "bdata": "Bw==",
            "dtype": "i1"
           },
           "yaxis": "y"
          },
          {
           "hovertemplate": "<b>%{hovertext}</b><br><br>match_winner=Gujarat Titans<br>Year=%{x}<br>Total Wins=%{marker.size}<extra></extra>",
           "hovertext": [
            "Gujarat Titans"
           ],
           "legendgroup": "Gujarat Titans",
           "marker": {
            "color": "#636efa",
            "size": {
             "bdata": "DA==",
             "dtype": "i1"
            },
            "sizemode": "area",
            "sizeref": 0.0048,
            "symbol": "circle"
           },
           "mode": "markers",
           "name": "Gujarat Titans",
           "orientation": "v",
           "showlegend": true,
           "type": "scatter",
           "x": [
            "2022"
           ],
           "xaxis": "x",
           "y": {
            "bdata": "DA==",
            "dtype": "i1"
           },
           "yaxis": "y"
          },
          {
           "hovertemplate": "<b>%{hovertext}</b><br><br>match_winner=Lucknow Super Giants<br>Year=%{x}<br>Total Wins=%{marker.size}<extra></extra>",
           "hovertext": [
            "Lucknow Super Giants"
           ],
           "legendgroup": "Lucknow Super Giants",
           "marker": {
            "color": "#EF553B",
            "size": {
             "bdata": "CQ==",
             "dtype": "i1"
            },
            "sizemode": "area",
            "sizeref": 0.0048,
            "symbol": "circle"
           },
           "mode": "markers",
           "name": "Lucknow Super Giants",
           "orientation": "v",
           "showlegend": true,
           "type": "scatter",
           "x": [
            "2022"
           ],
           "xaxis": "x",
           "y": {
            "bdata": "CQ==",
            "dtype": "i1"
           },
           "yaxis": "y"
          }
         ],
         "name": "2022"
        },
        {
         "data": [
          {
           "hovertemplate": "<b>%{hovertext}</b><br><br>match_winner=Chennai Super Kings<br>Year=%{x}<br>Total Wins=%{marker.size}<extra></extra>",
           "hovertext": [
            "Chennai Super Kings"
           ],
           "legendgroup": "Chennai Super Kings",
           "marker": {
            "color": "#636efa",
            "size": {
             "bdata": "Cg==",
             "dtype": "i1"
            },
            "sizemode": "area",
            "sizeref": 0.0048,
            "symbol": "circle"
           },
           "mode": "markers",
           "name": "Chennai Super Kings",
           "orientation": "v",
           "showlegend": true,
           "type": "scatter",
           "x": [
            "2023"
           ],
           "xaxis": "x",
           "y": {
            "bdata": "Cg==",
            "dtype": "i1"
           },
           "yaxis": "y"
          },
          {
           "hovertemplate": "<b>%{hovertext}</b><br><br>match_winner=Delhi Capitals<br>Year=%{x}<br>Total Wins=%{marker.size}<extra></extra>",
           "hovertext": [
            "Delhi Capitals"
           ],
           "legendgroup": "Delhi Capitals",
           "marker": {
            "color": "#EF553B",
            "size": {
             "bdata": "BQ==",
             "dtype": "i1"
            },
            "sizemode": "area",
            "sizeref": 0.0048,
            "symbol": "circle"
           },
           "mode": "markers",
           "name": "Delhi Capitals",
           "orientation": "v",
           "showlegend": true,
           "type": "scatter",
           "x": [
            "2023"
           ],
           "xaxis": "x",
           "y": {
            "bdata": "BQ==",
            "dtype": "i1"
           },
           "yaxis": "y"
          },
          {
           "hovertemplate": "<b>%{hovertext}</b><br><br>match_winner=Kolkata Knight Riders<br>Year=%{x}<br>Total Wins=%{marker.size}<extra></extra>",
           "hovertext": [
            "Kolkata Knight Riders"
           ],
           "legendgroup": "Kolkata Knight Riders",
           "marker": {
            "color": "#ab63fa",
            "size": {
             "bdata": "Bg==",
             "dtype": "i1"
            },
            "sizemode": "area",
            "sizeref": 0.0048,
            "symbol": "circle"
           },
           "mode": "markers",
           "name": "Kolkata Knight Riders",
           "orientation": "v",
           "showlegend": true,
           "type": "scatter",
           "x": [
            "2023"
           ],
           "xaxis": "x",
           "y": {
            "bdata": "Bg==",
            "dtype": "i1"
           },
           "yaxis": "y"
          },
          {
           "hovertemplate": "<b>%{hovertext}</b><br><br>match_winner=Mumbai Indians<br>Year=%{x}<br>Total Wins=%{marker.size}<extra></extra>",
           "hovertext": [
            "Mumbai Indians"
           ],
           "legendgroup": "Mumbai Indians",
           "marker": {
            "color": "#FFA15A",
            "size": {
             "bdata": "CQ==",
             "dtype": "i1"
            },
            "sizemode": "area",
            "sizeref": 0.0048,
            "symbol": "circle"
           },
           "mode": "markers",
           "name": "Mumbai Indians",
           "orientation": "v",
           "showlegend": true,
           "type": "scatter",
           "x": [
            "2023"
           ],
           "xaxis": "x",
           "y": {
            "bdata": "CQ==",
            "dtype": "i1"
           },
           "yaxis": "y"
          },
          {
           "hovertemplate": "<b>%{hovertext}</b><br><br>match_winner=Rajasthan Royals<br>Year=%{x}<br>Total Wins=%{marker.size}<extra></extra>",
           "hovertext": [
            "Rajasthan Royals"
           ],
           "legendgroup": "Rajasthan Royals",
           "marker": {
            "color": "#19d3f3",
            "size": {
             "bdata": "Bw==",
             "dtype": "i1"
            },
            "sizemode": "area",
            "sizeref": 0.0048,
            "symbol": "circle"
           },
           "mode": "markers",
           "name": "Rajasthan Royals",
           "orientation": "v",
           "showlegend": true,
           "type": "scatter",
           "x": [
            "2023"
           ],
           "xaxis": "x",
           "y": {
            "bdata": "Bw==",
            "dtype": "i1"
           },
           "yaxis": "y"
          },
          {
           "hovertemplate": "<b>%{hovertext}</b><br><br>match_winner=Royal Challengers Bangalore<br>Year=%{x}<br>Total Wins=%{marker.size}<extra></extra>",
           "hovertext": [
            "Royal Challengers Bangalore"
           ],
           "legendgroup": "Royal Challengers Bangalore",
           "marker": {
            "color": "#FF6692",
            "size": {
             "bdata": "Bw==",
             "dtype": "i1"
            },
            "sizemode": "area",
            "sizeref": 0.0048,
            "symbol": "circle"
           },
           "mode": "markers",
           "name": "Royal Challengers Bangalore",
           "orientation": "v",
           "showlegend": true,
           "type": "scatter",
           "x": [
            "2023"
           ],
           "xaxis": "x",
           "y": {
            "bdata": "Bw==",
            "dtype": "i1"
           },
           "yaxis": "y"
          },
          {
           "hovertemplate": "<b>%{hovertext}</b><br><br>match_winner=Sunrisers Hyderabad<br>Year=%{x}<br>Total Wins=%{marker.size}<extra></extra>",
           "hovertext": [
            "Sunrisers Hyderabad"
           ],
           "legendgroup": "Sunrisers Hyderabad",
           "marker": {
            "color": "#B6E880",
            "size": {
             "bdata": "BA==",
             "dtype": "i1"
            },
            "sizemode": "area",
            "sizeref": 0.0048,
            "symbol": "circle"
           },
           "mode": "markers",
           "name": "Sunrisers Hyderabad",
           "orientation": "v",
           "showlegend": true,
           "type": "scatter",
           "x": [
            "2023"
           ],
           "xaxis": "x",
           "y": {
            "bdata": "BA==",
            "dtype": "i1"
           },
           "yaxis": "y"
          },
          {
           "hovertemplate": "<b>%{hovertext}</b><br><br>match_winner=Unknown<br>Year=%{x}<br>Total Wins=%{marker.size}<extra></extra>",
           "hovertext": [
            "Unknown"
           ],
           "legendgroup": "Unknown",
           "marker": {
            "color": "#FF97FF",
            "size": {
             "bdata": "AQ==",
             "dtype": "i1"
            },
            "sizemode": "area",
            "sizeref": 0.0048,
            "symbol": "circle"
           },
           "mode": "markers",
           "name": "Unknown",
           "orientation": "v",
           "showlegend": true,
           "type": "scatter",
           "x": [
            "2023"
           ],
           "xaxis": "x",
           "y": {
            "bdata": "AQ==",
            "dtype": "i1"
           },
           "yaxis": "y"
          },
          {
           "hovertemplate": "<b>%{hovertext}</b><br><br>match_winner=Punjab Kings<br>Year=%{x}<br>Total Wins=%{marker.size}<extra></extra>",
           "hovertext": [
            "Punjab Kings"
           ],
           "legendgroup": "Punjab Kings",
           "marker": {
            "color": "#FECB52",
            "size": {
             "bdata": "Bg==",
             "dtype": "i1"
            },
            "sizemode": "area",
            "sizeref": 0.0048,
            "symbol": "circle"
           },
           "mode": "markers",
           "name": "Punjab Kings",
           "orientation": "v",
           "showlegend": true,
           "type": "scatter",
           "x": [
            "2023"
           ],
           "xaxis": "x",
           "y": {
            "bdata": "Bg==",
            "dtype": "i1"
           },
           "yaxis": "y"
          },
          {
           "hovertemplate": "<b>%{hovertext}</b><br><br>match_winner=Gujarat Titans<br>Year=%{x}<br>Total Wins=%{marker.size}<extra></extra>",
           "hovertext": [
            "Gujarat Titans"
           ],
           "legendgroup": "Gujarat Titans",
           "marker": {
            "color": "#636efa",
            "size": {
             "bdata": "Cw==",
             "dtype": "i1"
            },
            "sizemode": "area",
            "sizeref": 0.0048,
            "symbol": "circle"
           },
           "mode": "markers",
           "name": "Gujarat Titans",
           "orientation": "v",
           "showlegend": true,
           "type": "scatter",
           "x": [
            "2023"
           ],
           "xaxis": "x",
           "y": {
            "bdata": "Cw==",
            "dtype": "i1"
           },
           "yaxis": "y"
          },
          {
           "hovertemplate": "<b>%{hovertext}</b><br><br>match_winner=Lucknow Super Giants<br>Year=%{x}<br>Total Wins=%{marker.size}<extra></extra>",
           "hovertext": [
            "Lucknow Super Giants"
           ],
           "legendgroup": "Lucknow Super Giants",
           "marker": {
            "color": "#EF553B",
            "size": {
             "bdata": "CA==",
             "dtype": "i1"
            },
            "sizemode": "area",
            "sizeref": 0.0048,
            "symbol": "circle"
           },
           "mode": "markers",
           "name": "Lucknow Super Giants",
           "orientation": "v",
           "showlegend": true,
           "type": "scatter",
           "x": [
            "2023"
           ],
           "xaxis": "x",
           "y": {
            "bdata": "CA==",
            "dtype": "i1"
           },
           "yaxis": "y"
          }
         ],
         "name": "2023"
        }
       ],
       "layout": {
        "legend": {
         "itemsizing": "constant",
         "title": {
          "text": "match_winner"
         },
         "tracegroupgap": 0
        },
        "sliders": [
         {
          "active": 0,
          "currentvalue": {
           "prefix": "Year="
          },
          "len": 0.9,
          "pad": {
           "b": 10,
           "t": 60
          },
          "steps": [
           {
            "args": [
             [
              "2019"
             ],
             {
              "frame": {
               "duration": 0,
               "redraw": false
              },
              "fromcurrent": true,
              "mode": "immediate",
              "transition": {
               "duration": 0,
               "easing": "linear"
              }
             }
            ],
            "label": "2019",
            "method": "animate"
           },
           {
            "args": [
             [
              "2020/21"
             ],
             {
              "frame": {
               "duration": 0,
               "redraw": false
              },
              "fromcurrent": true,
              "mode": "immediate",
              "transition": {
               "duration": 0,
               "easing": "linear"
              }
             }
            ],
            "label": "2020/21",
            "method": "animate"
           },
           {
            "args": [
             [
              "2021"
             ],
             {
              "frame": {
               "duration": 0,
               "redraw": false
              },
              "fromcurrent": true,
              "mode": "immediate",
              "transition": {
               "duration": 0,
               "easing": "linear"
              }
             }
            ],
            "label": "2021",
            "method": "animate"
           },
           {
            "args": [
             [
              "2022"
             ],
             {
              "frame": {
               "duration": 0,
               "redraw": false
              },
              "fromcurrent": true,
              "mode": "immediate",
              "transition": {
               "duration": 0,
               "easing": "linear"
              }
             }
            ],
            "label": "2022",
            "method": "animate"
           },
           {
            "args": [
             [
              "2023"
             ],
             {
              "frame": {
               "duration": 0,
               "redraw": false
              },
              "fromcurrent": true,
              "mode": "immediate",
              "transition": {
               "duration": 0,
               "easing": "linear"
              }
             }
            ],
            "label": "2023",
            "method": "animate"
           }
          ],
          "x": 0.1,
          "xanchor": "left",
          "y": 0,
          "yanchor": "top"
         }
        ],
        "template": {
         "data": {
          "bar": [
           {
            "error_x": {
             "color": "#2a3f5f"
            },
            "error_y": {
             "color": "#2a3f5f"
            },
            "marker": {
             "line": {
              "color": "#E5ECF6",
              "width": 0.5
             },
             "pattern": {
              "fillmode": "overlay",
              "size": 10,
              "solidity": 0.2
             }
            },
            "type": "bar"
           }
          ],
          "barpolar": [
           {
            "marker": {
             "line": {
              "color": "#E5ECF6",
              "width": 0.5
             },
             "pattern": {
              "fillmode": "overlay",
              "size": 10,
              "solidity": 0.2
             }
            },
            "type": "barpolar"
           }
          ],
          "carpet": [
           {
            "aaxis": {
             "endlinecolor": "#2a3f5f",
             "gridcolor": "white",
             "linecolor": "white",
             "minorgridcolor": "white",
             "startlinecolor": "#2a3f5f"
            },
            "baxis": {
             "endlinecolor": "#2a3f5f",
             "gridcolor": "white",
             "linecolor": "white",
             "minorgridcolor": "white",
             "startlinecolor": "#2a3f5f"
            },
            "type": "carpet"
           }
          ],
          "choropleth": [
           {
            "colorbar": {
             "outlinewidth": 0,
             "ticks": ""
            },
            "type": "choropleth"
           }
          ],
          "contour": [
           {
            "colorbar": {
             "outlinewidth": 0,
             "ticks": ""
            },
            "colorscale": [
             [
              0,
              "#0d0887"
             ],
             [
              0.1111111111111111,
              "#46039f"
             ],
             [
              0.2222222222222222,
              "#7201a8"
             ],
             [
              0.3333333333333333,
              "#9c179e"
             ],
             [
              0.4444444444444444,
              "#bd3786"
             ],
             [
              0.5555555555555556,
              "#d8576b"
             ],
             [
              0.6666666666666666,
              "#ed7953"
             ],
             [
              0.7777777777777778,
              "#fb9f3a"
             ],
             [
              0.8888888888888888,
              "#fdca26"
             ],
             [
              1,
              "#f0f921"
             ]
            ],
            "type": "contour"
           }
          ],
          "contourcarpet": [
           {
            "colorbar": {
             "outlinewidth": 0,
             "ticks": ""
            },
            "type": "contourcarpet"
           }
          ],
          "heatmap": [
           {
            "colorbar": {
             "outlinewidth": 0,
             "ticks": ""
            },
            "colorscale": [
             [
              0,
              "#0d0887"
             ],
             [
              0.1111111111111111,
              "#46039f"
             ],
             [
              0.2222222222222222,
              "#7201a8"
             ],
             [
              0.3333333333333333,
              "#9c179e"
             ],
             [
              0.4444444444444444,
              "#bd3786"
             ],
             [
              0.5555555555555556,
              "#d8576b"
             ],
             [
              0.6666666666666666,
              "#ed7953"
             ],
             [
              0.7777777777777778,
              "#fb9f3a"
             ],
             [
              0.8888888888888888,
              "#fdca26"
             ],
             [
              1,
              "#f0f921"
             ]
            ],
            "type": "heatmap"
           }
          ],
          "histogram": [
           {
            "marker": {
             "pattern": {
              "fillmode": "overlay",
              "size": 10,
              "solidity": 0.2
             }
            },
            "type": "histogram"
           }
          ],
          "histogram2d": [
           {
            "colorbar": {
             "outlinewidth": 0,
             "ticks": ""
            },
            "colorscale": [
             [
              0,
              "#0d0887"
             ],
             [
              0.1111111111111111,
              "#46039f"
             ],
             [
              0.2222222222222222,
              "#7201a8"
             ],
             [
              0.3333333333333333,
              "#9c179e"
             ],
             [
              0.4444444444444444,
              "#bd3786"
             ],
             [
              0.5555555555555556,
              "#d8576b"
             ],
             [
              0.6666666666666666,
              "#ed7953"
             ],
             [
              0.7777777777777778,
              "#fb9f3a"
             ],
             [
              0.8888888888888888,
              "#fdca26"
             ],
             [
              1,
              "#f0f921"
             ]
            ],
            "type": "histogram2d"
           }
          ],
          "histogram2dcontour": [
           {
            "colorbar": {
             "outlinewidth": 0,
             "ticks": ""
            },
            "colorscale": [
             [
              0,
              "#0d0887"
             ],
             [
              0.1111111111111111,
              "#46039f"
             ],
             [
              0.2222222222222222,
              "#7201a8"
             ],
             [
              0.3333333333333333,
              "#9c179e"
             ],
             [
              0.4444444444444444,
              "#bd3786"
             ],
             [
              0.5555555555555556,
              "#d8576b"
             ],
             [
              0.6666666666666666,
              "#ed7953"
             ],
             [
              0.7777777777777778,
              "#fb9f3a"
             ],
             [
              0.8888888888888888,
              "#fdca26"
             ],
             [
              1,
              "#f0f921"
             ]
            ],
            "type": "histogram2dcontour"
           }
          ],
          "mesh3d": [
           {
            "colorbar": {
             "outlinewidth": 0,
             "ticks": ""
            },
            "type": "mesh3d"
           }
          ],
          "parcoords": [
           {
            "line": {
             "colorbar": {
              "outlinewidth": 0,
              "ticks": ""
             }
            },
            "type": "parcoords"
           }
          ],
          "pie": [
           {
            "automargin": true,
            "type": "pie"
           }
          ],
          "scatter": [
           {
            "fillpattern": {
             "fillmode": "overlay",
             "size": 10,
             "solidity": 0.2
            },
            "type": "scatter"
           }
          ],
          "scatter3d": [
           {
            "line": {
             "colorbar": {
              "outlinewidth": 0,
              "ticks": ""
             }
            },
            "marker": {
             "colorbar": {
              "outlinewidth": 0,
              "ticks": ""
             }
            },
            "type": "scatter3d"
           }
          ],
          "scattercarpet": [
           {
            "marker": {
             "colorbar": {
              "outlinewidth": 0,
              "ticks": ""
             }
            },
            "type": "scattercarpet"
           }
          ],
          "scattergeo": [
           {
            "marker": {
             "colorbar": {
              "outlinewidth": 0,
              "ticks": ""
             }
            },
            "type": "scattergeo"
           }
          ],
          "scattergl": [
           {
            "marker": {
             "colorbar": {
              "outlinewidth": 0,
              "ticks": ""
             }
            },
            "type": "scattergl"
           }
          ],
          "scattermap": [
           {
            "marker": {
             "colorbar": {
              "outlinewidth": 0,
              "ticks": ""
             }
            },
            "type": "scattermap"
           }
          ],
          "scattermapbox": [
           {
            "marker": {
             "colorbar": {
              "outlinewidth": 0,
              "ticks": ""
             }
            },
            "type": "scattermapbox"
           }
          ],
          "scatterpolar": [
           {
            "marker": {
             "colorbar": {
              "outlinewidth": 0,
              "ticks": ""
             }
            },
            "type": "scatterpolar"
           }
          ],
          "scatterpolargl": [
           {
            "marker": {
             "colorbar": {
              "outlinewidth": 0,
              "ticks": ""
             }
            },
            "type": "scatterpolargl"
           }
          ],
          "scatterternary": [
           {
            "marker": {
             "colorbar": {
              "outlinewidth": 0,
              "ticks": ""
             }
            },
            "type": "scatterternary"
           }
          ],
          "surface": [
           {
            "colorbar": {
             "outlinewidth": 0,
             "ticks": ""
            },
            "colorscale": [
             [
              0,
              "#0d0887"
             ],
             [
              0.1111111111111111,
              "#46039f"
             ],
             [
              0.2222222222222222,
              "#7201a8"
             ],
             [
              0.3333333333333333,
              "#9c179e"
             ],
             [
              0.4444444444444444,
              "#bd3786"
             ],
             [
              0.5555555555555556,
              "#d8576b"
             ],
             [
              0.6666666666666666,
              "#ed7953"
             ],
             [
              0.7777777777777778,
              "#fb9f3a"
             ],
             [
              0.8888888888888888,
              "#fdca26"
             ],
             [
              1,
              "#f0f921"
             ]
            ],
            "type": "surface"
           }
          ],
          "table": [
           {
            "cells": {
             "fill": {
              "color": "#EBF0F8"
             },
             "line": {
              "color": "white"
             }
            },
            "header": {
             "fill": {
              "color": "#C8D4E3"
             },
             "line": {
              "color": "white"
             }
            },
            "type": "table"
           }
          ]
         },
         "layout": {
          "annotationdefaults": {
           "arrowcolor": "#2a3f5f",
           "arrowhead": 0,
           "arrowwidth": 1
          },
          "autotypenumbers": "strict",
          "coloraxis": {
           "colorbar": {
            "outlinewidth": 0,
            "ticks": ""
           }
          },
          "colorscale": {
           "diverging": [
            [
             0,
             "#8e0152"
            ],
            [
             0.1,
             "#c51b7d"
            ],
            [
             0.2,
             "#de77ae"
            ],
            [
             0.3,
             "#f1b6da"
            ],
            [
             0.4,
             "#fde0ef"
            ],
            [
             0.5,
             "#f7f7f7"
            ],
            [
             0.6,
             "#e6f5d0"
            ],
            [
             0.7,
             "#b8e186"
            ],
            [
             0.8,
             "#7fbc41"
            ],
            [
             0.9,
             "#4d9221"
            ],
            [
             1,
             "#276419"
            ]
           ],
           "sequential": [
            [
             0,
             "#0d0887"
            ],
            [
             0.1111111111111111,
             "#46039f"
            ],
            [
             0.2222222222222222,
             "#7201a8"
            ],
            [
             0.3333333333333333,
             "#9c179e"
            ],
            [
             0.4444444444444444,
             "#bd3786"
            ],
            [
             0.5555555555555556,
             "#d8576b"
            ],
            [
             0.6666666666666666,
             "#ed7953"
            ],
            [
             0.7777777777777778,
             "#fb9f3a"
            ],
            [
             0.8888888888888888,
             "#fdca26"
            ],
            [
             1,
             "#f0f921"
            ]
           ],
           "sequentialminus": [
            [
             0,
             "#0d0887"
            ],
            [
             0.1111111111111111,
             "#46039f"
            ],
            [
             0.2222222222222222,
             "#7201a8"
            ],
            [
             0.3333333333333333,
             "#9c179e"
            ],
            [
             0.4444444444444444,
             "#bd3786"
            ],
            [
             0.5555555555555556,
             "#d8576b"
            ],
            [
             0.6666666666666666,
             "#ed7953"
            ],
            [
             0.7777777777777778,
             "#fb9f3a"
            ],
            [
             0.8888888888888888,
             "#fdca26"
            ],
            [
             1,
             "#f0f921"
            ]
           ]
          },
          "colorway": [
           "#636efa",
           "#EF553B",
           "#00cc96",
           "#ab63fa",
           "#FFA15A",
           "#19d3f3",
           "#FF6692",
           "#B6E880",
           "#FF97FF",
           "#FECB52"
          ],
          "font": {
           "color": "#2a3f5f"
          },
          "geo": {
           "bgcolor": "white",
           "lakecolor": "white",
           "landcolor": "#E5ECF6",
           "showlakes": true,
           "showland": true,
           "subunitcolor": "white"
          },
          "hoverlabel": {
           "align": "left"
          },
          "hovermode": "closest",
          "mapbox": {
           "style": "light"
          },
          "paper_bgcolor": "white",
          "plot_bgcolor": "#E5ECF6",
          "polar": {
           "angularaxis": {
            "gridcolor": "white",
            "linecolor": "white",
            "ticks": ""
           },
           "bgcolor": "#E5ECF6",
           "radialaxis": {
            "gridcolor": "white",
            "linecolor": "white",
            "ticks": ""
           }
          },
          "scene": {
           "xaxis": {
            "backgroundcolor": "#E5ECF6",
            "gridcolor": "white",
            "gridwidth": 2,
            "linecolor": "white",
            "showbackground": true,
            "ticks": "",
            "zerolinecolor": "white"
           },
           "yaxis": {
            "backgroundcolor": "#E5ECF6",
            "gridcolor": "white",
            "gridwidth": 2,
            "linecolor": "white",
            "showbackground": true,
            "ticks": "",
            "zerolinecolor": "white"
           },
           "zaxis": {
            "backgroundcolor": "#E5ECF6",
            "gridcolor": "white",
            "gridwidth": 2,
            "linecolor": "white",
            "showbackground": true,
            "ticks": "",
            "zerolinecolor": "white"
           }
          },
          "shapedefaults": {
           "line": {
            "color": "#2a3f5f"
           }
          },
          "ternary": {
           "aaxis": {
            "gridcolor": "white",
            "linecolor": "white",
            "ticks": ""
           },
           "baxis": {
            "gridcolor": "white",
            "linecolor": "white",
            "ticks": ""
           },
           "bgcolor": "#E5ECF6",
           "caxis": {
            "gridcolor": "white",
            "linecolor": "white",
            "ticks": ""
           }
          },
          "title": {
           "x": 0.05
          },
          "xaxis": {
           "automargin": true,
           "gridcolor": "white",
           "linecolor": "white",
           "ticks": "",
           "title": {
            "standoff": 15
           },
           "zerolinecolor": "white",
           "zerolinewidth": 2
          },
          "yaxis": {
           "automargin": true,
           "gridcolor": "white",
           "linecolor": "white",
           "ticks": "",
           "title": {
            "standoff": 15
           },
           "zerolinecolor": "white",
           "zerolinewidth": 2
          }
         }
        },
        "title": {
         "text": "IPL Team Performance Over the Years (Based on Wins)"
        },
        "updatemenus": [
         {
          "buttons": [
           {
            "args": [
             null,
             {
              "frame": {
               "duration": 500,
               "redraw": false
              },
              "fromcurrent": true,
              "mode": "immediate",
              "transition": {
               "duration": 500,
               "easing": "linear"
              }
             }
            ],
            "label": "&#9654;",
            "method": "animate"
           },
           {
            "args": [
             [
              null
             ],
             {
              "frame": {
               "duration": 0,
               "redraw": false
              },
              "fromcurrent": true,
              "mode": "immediate",
              "transition": {
               "duration": 0,
               "easing": "linear"
              }
             }
            ],
            "label": "&#9724;",
            "method": "animate"
           }
          ],
          "direction": "left",
          "pad": {
           "r": 10,
           "t": 70
          },
          "showactive": false,
          "type": "buttons",
          "x": 0.1,
          "xanchor": "right",
          "y": 0,
          "yanchor": "top"
         }
        ],
        "xaxis": {
         "anchor": "y",
         "categoryarray": [
          "2019",
          "2020/21",
          "2021",
          "2022",
          "2023"
         ],
         "categoryorder": "array",
         "domain": [
          0,
          1
         ],
         "title": {
          "text": "Year"
         }
        },
        "yaxis": {
         "anchor": "x",
         "domain": [
          0,
          1
         ],
         "title": {
          "text": "Total Wins"
         }
        }
       }
      }
     },
     "metadata": {},
     "output_type": "display_data"
    }
   ],
   "source": [
    "import plotly.express as px\n",
    "\n",
    "# Aggregate Data: Count Wins per Team per Season\n",
    "team_stats = ipl_recent.groupby([\"season\", \"match_winner\"]).size().reset_index(name=\"wins\")\n",
    "\n",
    "# Create Bubble Chart (Wins Over Time)\n",
    "fig = px.scatter(\n",
    "    team_stats, \n",
    "    x=\"season\", \n",
    "    y=\"wins\", \n",
    "    size=\"wins\", \n",
    "    color=\"match_winner\", \n",
    "    animation_frame=\"season\",\n",
    "    title=\"IPL Team Performance Over the Years (Based on Wins)\",\n",
    "    labels={\"wins\": \"Total Wins\", \"season\": \"Year\"},\n",
    "    hover_name=\"match_winner\",\n",
    "    size_max=50\n",
    ")\n",
    "\n",
    "fig.show()\n"
   ]
  },
  {
   "cell_type": "code",
   "execution_count": 14,
   "metadata": {},
   "outputs": [
    {
     "data": {
      "application/vnd.plotly.v1+json": {
       "config": {
        "plotlyServerURL": "https://plot.ly"
       },
       "data": [
        {
         "hovertemplate": "Teams=%{y}<br>season=2019<br>Total Wins=%{x}<extra></extra>",
         "legendgroup": "Chennai Super Kings",
         "marker": {
          "color": "#636efa",
          "pattern": {
           "shape": ""
          }
         },
         "name": "Chennai Super Kings",
         "orientation": "h",
         "showlegend": true,
         "textposition": "auto",
         "type": "bar",
         "x": {
          "bdata": "Cg==",
          "dtype": "i1"
         },
         "xaxis": "x",
         "y": [
          "Chennai Super Kings"
         ],
         "yaxis": "y"
        },
        {
         "hovertemplate": "Teams=%{y}<br>season=2019<br>Total Wins=%{x}<extra></extra>",
         "legendgroup": "Delhi Capitals",
         "marker": {
          "color": "#EF553B",
          "pattern": {
           "shape": ""
          }
         },
         "name": "Delhi Capitals",
         "orientation": "h",
         "showlegend": true,
         "textposition": "auto",
         "type": "bar",
         "x": {
          "bdata": "CQ==",
          "dtype": "i1"
         },
         "xaxis": "x",
         "y": [
          "Delhi Capitals"
         ],
         "yaxis": "y"
        },
        {
         "hovertemplate": "Teams=%{y}<br>season=2019<br>Total Wins=%{x}<extra></extra>",
         "legendgroup": "Kings XI Punjab",
         "marker": {
          "color": "#00cc96",
          "pattern": {
           "shape": ""
          }
         },
         "name": "Kings XI Punjab",
         "orientation": "h",
         "showlegend": true,
         "textposition": "auto",
         "type": "bar",
         "x": {
          "bdata": "Bg==",
          "dtype": "i1"
         },
         "xaxis": "x",
         "y": [
          "Kings XI Punjab"
         ],
         "yaxis": "y"
        },
        {
         "hovertemplate": "Teams=%{y}<br>season=2019<br>Total Wins=%{x}<extra></extra>",
         "legendgroup": "Kolkata Knight Riders",
         "marker": {
          "color": "#ab63fa",
          "pattern": {
           "shape": ""
          }
         },
         "name": "Kolkata Knight Riders",
         "orientation": "h",
         "showlegend": true,
         "textposition": "auto",
         "type": "bar",
         "x": {
          "bdata": "Bg==",
          "dtype": "i1"
         },
         "xaxis": "x",
         "y": [
          "Kolkata Knight Riders"
         ],
         "yaxis": "y"
        },
        {
         "hovertemplate": "Teams=%{y}<br>season=2019<br>Total Wins=%{x}<extra></extra>",
         "legendgroup": "Mumbai Indians",
         "marker": {
          "color": "#FFA15A",
          "pattern": {
           "shape": ""
          }
         },
         "name": "Mumbai Indians",
         "orientation": "h",
         "showlegend": true,
         "textposition": "auto",
         "type": "bar",
         "x": {
          "bdata": "Cg==",
          "dtype": "i1"
         },
         "xaxis": "x",
         "y": [
          "Mumbai Indians"
         ],
         "yaxis": "y"
        },
        {
         "hovertemplate": "Teams=%{y}<br>season=2019<br>Total Wins=%{x}<extra></extra>",
         "legendgroup": "Rajasthan Royals",
         "marker": {
          "color": "#19d3f3",
          "pattern": {
           "shape": ""
          }
         },
         "name": "Rajasthan Royals",
         "orientation": "h",
         "showlegend": true,
         "textposition": "auto",
         "type": "bar",
         "x": {
          "bdata": "BQ==",
          "dtype": "i1"
         },
         "xaxis": "x",
         "y": [
          "Rajasthan Royals"
         ],
         "yaxis": "y"
        },
        {
         "hovertemplate": "Teams=%{y}<br>season=2019<br>Total Wins=%{x}<extra></extra>",
         "legendgroup": "Royal Challengers Bangalore",
         "marker": {
          "color": "#FF6692",
          "pattern": {
           "shape": ""
          }
         },
         "name": "Royal Challengers Bangalore",
         "orientation": "h",
         "showlegend": true,
         "textposition": "auto",
         "type": "bar",
         "x": {
          "bdata": "BQ==",
          "dtype": "i1"
         },
         "xaxis": "x",
         "y": [
          "Royal Challengers Bangalore"
         ],
         "yaxis": "y"
        },
        {
         "hovertemplate": "Teams=%{y}<br>season=2019<br>Total Wins=%{x}<extra></extra>",
         "legendgroup": "Sunrisers Hyderabad",
         "marker": {
          "color": "#B6E880",
          "pattern": {
           "shape": ""
          }
         },
         "name": "Sunrisers Hyderabad",
         "orientation": "h",
         "showlegend": true,
         "textposition": "auto",
         "type": "bar",
         "x": {
          "bdata": "Bg==",
          "dtype": "i1"
         },
         "xaxis": "x",
         "y": [
          "Sunrisers Hyderabad"
         ],
         "yaxis": "y"
        },
        {
         "hovertemplate": "Teams=%{y}<br>season=2019<br>Total Wins=%{x}<extra></extra>",
         "legendgroup": "Unknown",
         "marker": {
          "color": "#FF97FF",
          "pattern": {
           "shape": ""
          }
         },
         "name": "Unknown",
         "orientation": "h",
         "showlegend": true,
         "textposition": "auto",
         "type": "bar",
         "x": {
          "bdata": "Aw==",
          "dtype": "i1"
         },
         "xaxis": "x",
         "y": [
          "Unknown"
         ],
         "yaxis": "y"
        }
       ],
       "frames": [
        {
         "data": [
          {
           "hovertemplate": "Teams=%{y}<br>season=2019<br>Total Wins=%{x}<extra></extra>",
           "legendgroup": "Chennai Super Kings",
           "marker": {
            "color": "#636efa",
            "pattern": {
             "shape": ""
            }
           },
           "name": "Chennai Super Kings",
           "orientation": "h",
           "showlegend": true,
           "textposition": "auto",
           "type": "bar",
           "x": {
            "bdata": "Cg==",
            "dtype": "i1"
           },
           "xaxis": "x",
           "y": [
            "Chennai Super Kings"
           ],
           "yaxis": "y"
          },
          {
           "hovertemplate": "Teams=%{y}<br>season=2019<br>Total Wins=%{x}<extra></extra>",
           "legendgroup": "Delhi Capitals",
           "marker": {
            "color": "#EF553B",
            "pattern": {
             "shape": ""
            }
           },
           "name": "Delhi Capitals",
           "orientation": "h",
           "showlegend": true,
           "textposition": "auto",
           "type": "bar",
           "x": {
            "bdata": "CQ==",
            "dtype": "i1"
           },
           "xaxis": "x",
           "y": [
            "Delhi Capitals"
           ],
           "yaxis": "y"
          },
          {
           "hovertemplate": "Teams=%{y}<br>season=2019<br>Total Wins=%{x}<extra></extra>",
           "legendgroup": "Kings XI Punjab",
           "marker": {
            "color": "#00cc96",
            "pattern": {
             "shape": ""
            }
           },
           "name": "Kings XI Punjab",
           "orientation": "h",
           "showlegend": true,
           "textposition": "auto",
           "type": "bar",
           "x": {
            "bdata": "Bg==",
            "dtype": "i1"
           },
           "xaxis": "x",
           "y": [
            "Kings XI Punjab"
           ],
           "yaxis": "y"
          },
          {
           "hovertemplate": "Teams=%{y}<br>season=2019<br>Total Wins=%{x}<extra></extra>",
           "legendgroup": "Kolkata Knight Riders",
           "marker": {
            "color": "#ab63fa",
            "pattern": {
             "shape": ""
            }
           },
           "name": "Kolkata Knight Riders",
           "orientation": "h",
           "showlegend": true,
           "textposition": "auto",
           "type": "bar",
           "x": {
            "bdata": "Bg==",
            "dtype": "i1"
           },
           "xaxis": "x",
           "y": [
            "Kolkata Knight Riders"
           ],
           "yaxis": "y"
          },
          {
           "hovertemplate": "Teams=%{y}<br>season=2019<br>Total Wins=%{x}<extra></extra>",
           "legendgroup": "Mumbai Indians",
           "marker": {
            "color": "#FFA15A",
            "pattern": {
             "shape": ""
            }
           },
           "name": "Mumbai Indians",
           "orientation": "h",
           "showlegend": true,
           "textposition": "auto",
           "type": "bar",
           "x": {
            "bdata": "Cg==",
            "dtype": "i1"
           },
           "xaxis": "x",
           "y": [
            "Mumbai Indians"
           ],
           "yaxis": "y"
          },
          {
           "hovertemplate": "Teams=%{y}<br>season=2019<br>Total Wins=%{x}<extra></extra>",
           "legendgroup": "Rajasthan Royals",
           "marker": {
            "color": "#19d3f3",
            "pattern": {
             "shape": ""
            }
           },
           "name": "Rajasthan Royals",
           "orientation": "h",
           "showlegend": true,
           "textposition": "auto",
           "type": "bar",
           "x": {
            "bdata": "BQ==",
            "dtype": "i1"
           },
           "xaxis": "x",
           "y": [
            "Rajasthan Royals"
           ],
           "yaxis": "y"
          },
          {
           "hovertemplate": "Teams=%{y}<br>season=2019<br>Total Wins=%{x}<extra></extra>",
           "legendgroup": "Royal Challengers Bangalore",
           "marker": {
            "color": "#FF6692",
            "pattern": {
             "shape": ""
            }
           },
           "name": "Royal Challengers Bangalore",
           "orientation": "h",
           "showlegend": true,
           "textposition": "auto",
           "type": "bar",
           "x": {
            "bdata": "BQ==",
            "dtype": "i1"
           },
           "xaxis": "x",
           "y": [
            "Royal Challengers Bangalore"
           ],
           "yaxis": "y"
          },
          {
           "hovertemplate": "Teams=%{y}<br>season=2019<br>Total Wins=%{x}<extra></extra>",
           "legendgroup": "Sunrisers Hyderabad",
           "marker": {
            "color": "#B6E880",
            "pattern": {
             "shape": ""
            }
           },
           "name": "Sunrisers Hyderabad",
           "orientation": "h",
           "showlegend": true,
           "textposition": "auto",
           "type": "bar",
           "x": {
            "bdata": "Bg==",
            "dtype": "i1"
           },
           "xaxis": "x",
           "y": [
            "Sunrisers Hyderabad"
           ],
           "yaxis": "y"
          },
          {
           "hovertemplate": "Teams=%{y}<br>season=2019<br>Total Wins=%{x}<extra></extra>",
           "legendgroup": "Unknown",
           "marker": {
            "color": "#FF97FF",
            "pattern": {
             "shape": ""
            }
           },
           "name": "Unknown",
           "orientation": "h",
           "showlegend": true,
           "textposition": "auto",
           "type": "bar",
           "x": {
            "bdata": "Aw==",
            "dtype": "i1"
           },
           "xaxis": "x",
           "y": [
            "Unknown"
           ],
           "yaxis": "y"
          }
         ],
         "name": "2019"
        },
        {
         "data": [
          {
           "hovertemplate": "Teams=%{y}<br>season=2020/21<br>Total Wins=%{x}<extra></extra>",
           "legendgroup": "Chennai Super Kings",
           "marker": {
            "color": "#636efa",
            "pattern": {
             "shape": ""
            }
           },
           "name": "Chennai Super Kings",
           "orientation": "h",
           "showlegend": true,
           "textposition": "auto",
           "type": "bar",
           "x": {
            "bdata": "Bg==",
            "dtype": "i1"
           },
           "xaxis": "x",
           "y": [
            "Chennai Super Kings"
           ],
           "yaxis": "y"
          },
          {
           "hovertemplate": "Teams=%{y}<br>season=2020/21<br>Total Wins=%{x}<extra></extra>",
           "legendgroup": "Delhi Capitals",
           "marker": {
            "color": "#EF553B",
            "pattern": {
             "shape": ""
            }
           },
           "name": "Delhi Capitals",
           "orientation": "h",
           "showlegend": true,
           "textposition": "auto",
           "type": "bar",
           "x": {
            "bdata": "CA==",
            "dtype": "i1"
           },
           "xaxis": "x",
           "y": [
            "Delhi Capitals"
           ],
           "yaxis": "y"
          },
          {
           "hovertemplate": "Teams=%{y}<br>season=2020/21<br>Total Wins=%{x}<extra></extra>",
           "legendgroup": "Kings XI Punjab",
           "marker": {
            "color": "#00cc96",
            "pattern": {
             "shape": ""
            }
           },
           "name": "Kings XI Punjab",
           "orientation": "h",
           "showlegend": true,
           "textposition": "auto",
           "type": "bar",
           "x": {
            "bdata": "BQ==",
            "dtype": "i1"
           },
           "xaxis": "x",
           "y": [
            "Kings XI Punjab"
           ],
           "yaxis": "y"
          },
          {
           "hovertemplate": "Teams=%{y}<br>season=2020/21<br>Total Wins=%{x}<extra></extra>",
           "legendgroup": "Kolkata Knight Riders",
           "marker": {
            "color": "#ab63fa",
            "pattern": {
             "shape": ""
            }
           },
           "name": "Kolkata Knight Riders",
           "orientation": "h",
           "showlegend": true,
           "textposition": "auto",
           "type": "bar",
           "x": {
            "bdata": "Bg==",
            "dtype": "i1"
           },
           "xaxis": "x",
           "y": [
            "Kolkata Knight Riders"
           ],
           "yaxis": "y"
          },
          {
           "hovertemplate": "Teams=%{y}<br>season=2020/21<br>Total Wins=%{x}<extra></extra>",
           "legendgroup": "Mumbai Indians",
           "marker": {
            "color": "#FFA15A",
            "pattern": {
             "shape": ""
            }
           },
           "name": "Mumbai Indians",
           "orientation": "h",
           "showlegend": true,
           "textposition": "auto",
           "type": "bar",
           "x": {
            "bdata": "Cw==",
            "dtype": "i1"
           },
           "xaxis": "x",
           "y": [
            "Mumbai Indians"
           ],
           "yaxis": "y"
          },
          {
           "hovertemplate": "Teams=%{y}<br>season=2020/21<br>Total Wins=%{x}<extra></extra>",
           "legendgroup": "Rajasthan Royals",
           "marker": {
            "color": "#19d3f3",
            "pattern": {
             "shape": ""
            }
           },
           "name": "Rajasthan Royals",
           "orientation": "h",
           "showlegend": true,
           "textposition": "auto",
           "type": "bar",
           "x": {
            "bdata": "Bg==",
            "dtype": "i1"
           },
           "xaxis": "x",
           "y": [
            "Rajasthan Royals"
           ],
           "yaxis": "y"
          },
          {
           "hovertemplate": "Teams=%{y}<br>season=2020/21<br>Total Wins=%{x}<extra></extra>",
           "legendgroup": "Royal Challengers Bangalore",
           "marker": {
            "color": "#FF6692",
            "pattern": {
             "shape": ""
            }
           },
           "name": "Royal Challengers Bangalore",
           "orientation": "h",
           "showlegend": true,
           "textposition": "auto",
           "type": "bar",
           "x": {
            "bdata": "Bg==",
            "dtype": "i1"
           },
           "xaxis": "x",
           "y": [
            "Royal Challengers Bangalore"
           ],
           "yaxis": "y"
          },
          {
           "hovertemplate": "Teams=%{y}<br>season=2020/21<br>Total Wins=%{x}<extra></extra>",
           "legendgroup": "Sunrisers Hyderabad",
           "marker": {
            "color": "#B6E880",
            "pattern": {
             "shape": ""
            }
           },
           "name": "Sunrisers Hyderabad",
           "orientation": "h",
           "showlegend": true,
           "textposition": "auto",
           "type": "bar",
           "x": {
            "bdata": "CA==",
            "dtype": "i1"
           },
           "xaxis": "x",
           "y": [
            "Sunrisers Hyderabad"
           ],
           "yaxis": "y"
          },
          {
           "hovertemplate": "Teams=%{y}<br>season=2020/21<br>Total Wins=%{x}<extra></extra>",
           "legendgroup": "Unknown",
           "marker": {
            "color": "#FF97FF",
            "pattern": {
             "shape": ""
            }
           },
           "name": "Unknown",
           "orientation": "h",
           "showlegend": true,
           "textposition": "auto",
           "type": "bar",
           "x": {
            "bdata": "BA==",
            "dtype": "i1"
           },
           "xaxis": "x",
           "y": [
            "Unknown"
           ],
           "yaxis": "y"
          }
         ],
         "name": "2020/21"
        },
        {
         "data": [
          {
           "hovertemplate": "Teams=%{y}<br>season=2021<br>Total Wins=%{x}<extra></extra>",
           "legendgroup": "Chennai Super Kings",
           "marker": {
            "color": "#636efa",
            "pattern": {
             "shape": ""
            }
           },
           "name": "Chennai Super Kings",
           "orientation": "h",
           "showlegend": true,
           "textposition": "auto",
           "type": "bar",
           "x": {
            "bdata": "Cw==",
            "dtype": "i1"
           },
           "xaxis": "x",
           "y": [
            "Chennai Super Kings"
           ],
           "yaxis": "y"
          },
          {
           "hovertemplate": "Teams=%{y}<br>season=2021<br>Total Wins=%{x}<extra></extra>",
           "legendgroup": "Delhi Capitals",
           "marker": {
            "color": "#EF553B",
            "pattern": {
             "shape": ""
            }
           },
           "name": "Delhi Capitals",
           "orientation": "h",
           "showlegend": true,
           "textposition": "auto",
           "type": "bar",
           "x": {
            "bdata": "CQ==",
            "dtype": "i1"
           },
           "xaxis": "x",
           "y": [
            "Delhi Capitals"
           ],
           "yaxis": "y"
          },
          {
           "hovertemplate": "Teams=%{y}<br>season=2021<br>Total Wins=%{x}<extra></extra>",
           "legendgroup": "Kolkata Knight Riders",
           "marker": {
            "color": "#ab63fa",
            "pattern": {
             "shape": ""
            }
           },
           "name": "Kolkata Knight Riders",
           "orientation": "h",
           "showlegend": true,
           "textposition": "auto",
           "type": "bar",
           "x": {
            "bdata": "CQ==",
            "dtype": "i1"
           },
           "xaxis": "x",
           "y": [
            "Kolkata Knight Riders"
           ],
           "yaxis": "y"
          },
          {
           "hovertemplate": "Teams=%{y}<br>season=2021<br>Total Wins=%{x}<extra></extra>",
           "legendgroup": "Mumbai Indians",
           "marker": {
            "color": "#FFA15A",
            "pattern": {
             "shape": ""
            }
           },
           "name": "Mumbai Indians",
           "orientation": "h",
           "showlegend": true,
           "textposition": "auto",
           "type": "bar",
           "x": {
            "bdata": "Bw==",
            "dtype": "i1"
           },
           "xaxis": "x",
           "y": [
            "Mumbai Indians"
           ],
           "yaxis": "y"
          },
          {
           "hovertemplate": "Teams=%{y}<br>season=2021<br>Total Wins=%{x}<extra></extra>",
           "legendgroup": "Rajasthan Royals",
           "marker": {
            "color": "#19d3f3",
            "pattern": {
             "shape": ""
            }
           },
           "name": "Rajasthan Royals",
           "orientation": "h",
           "showlegend": true,
           "textposition": "auto",
           "type": "bar",
           "x": {
            "bdata": "BQ==",
            "dtype": "i1"
           },
           "xaxis": "x",
           "y": [
            "Rajasthan Royals"
           ],
           "yaxis": "y"
          },
          {
           "hovertemplate": "Teams=%{y}<br>season=2021<br>Total Wins=%{x}<extra></extra>",
           "legendgroup": "Royal Challengers Bangalore",
           "marker": {
            "color": "#FF6692",
            "pattern": {
             "shape": ""
            }
           },
           "name": "Royal Challengers Bangalore",
           "orientation": "h",
           "showlegend": true,
           "textposition": "auto",
           "type": "bar",
           "x": {
            "bdata": "CQ==",
            "dtype": "i1"
           },
           "xaxis": "x",
           "y": [
            "Royal Challengers Bangalore"
           ],
           "yaxis": "y"
          },
          {
           "hovertemplate": "Teams=%{y}<br>season=2021<br>Total Wins=%{x}<extra></extra>",
           "legendgroup": "Sunrisers Hyderabad",
           "marker": {
            "color": "#B6E880",
            "pattern": {
             "shape": ""
            }
           },
           "name": "Sunrisers Hyderabad",
           "orientation": "h",
           "showlegend": true,
           "textposition": "auto",
           "type": "bar",
           "x": {
            "bdata": "Aw==",
            "dtype": "i1"
           },
           "xaxis": "x",
           "y": [
            "Sunrisers Hyderabad"
           ],
           "yaxis": "y"
          },
          {
           "hovertemplate": "Teams=%{y}<br>season=2021<br>Total Wins=%{x}<extra></extra>",
           "legendgroup": "Unknown",
           "marker": {
            "color": "#FF97FF",
            "pattern": {
             "shape": ""
            }
           },
           "name": "Unknown",
           "orientation": "h",
           "showlegend": true,
           "textposition": "auto",
           "type": "bar",
           "x": {
            "bdata": "AQ==",
            "dtype": "i1"
           },
           "xaxis": "x",
           "y": [
            "Unknown"
           ],
           "yaxis": "y"
          },
          {
           "hovertemplate": "Teams=%{y}<br>season=2021<br>Total Wins=%{x}<extra></extra>",
           "legendgroup": "Punjab Kings",
           "marker": {
            "color": "#FECB52",
            "pattern": {
             "shape": ""
            }
           },
           "name": "Punjab Kings",
           "orientation": "h",
           "showlegend": true,
           "textposition": "auto",
           "type": "bar",
           "x": {
            "bdata": "Bg==",
            "dtype": "i1"
           },
           "xaxis": "x",
           "y": [
            "Punjab Kings"
           ],
           "yaxis": "y"
          }
         ],
         "name": "2021"
        },
        {
         "data": [
          {
           "hovertemplate": "Teams=%{y}<br>season=2022<br>Total Wins=%{x}<extra></extra>",
           "legendgroup": "Chennai Super Kings",
           "marker": {
            "color": "#636efa",
            "pattern": {
             "shape": ""
            }
           },
           "name": "Chennai Super Kings",
           "orientation": "h",
           "showlegend": true,
           "textposition": "auto",
           "type": "bar",
           "x": {
            "bdata": "BA==",
            "dtype": "i1"
           },
           "xaxis": "x",
           "y": [
            "Chennai Super Kings"
           ],
           "yaxis": "y"
          },
          {
           "hovertemplate": "Teams=%{y}<br>season=2022<br>Total Wins=%{x}<extra></extra>",
           "legendgroup": "Delhi Capitals",
           "marker": {
            "color": "#EF553B",
            "pattern": {
             "shape": ""
            }
           },
           "name": "Delhi Capitals",
           "orientation": "h",
           "showlegend": true,
           "textposition": "auto",
           "type": "bar",
           "x": {
            "bdata": "Bw==",
            "dtype": "i1"
           },
           "xaxis": "x",
           "y": [
            "Delhi Capitals"
           ],
           "yaxis": "y"
          },
          {
           "hovertemplate": "Teams=%{y}<br>season=2022<br>Total Wins=%{x}<extra></extra>",
           "legendgroup": "Kolkata Knight Riders",
           "marker": {
            "color": "#ab63fa",
            "pattern": {
             "shape": ""
            }
           },
           "name": "Kolkata Knight Riders",
           "orientation": "h",
           "showlegend": true,
           "textposition": "auto",
           "type": "bar",
           "x": {
            "bdata": "Bg==",
            "dtype": "i1"
           },
           "xaxis": "x",
           "y": [
            "Kolkata Knight Riders"
           ],
           "yaxis": "y"
          },
          {
           "hovertemplate": "Teams=%{y}<br>season=2022<br>Total Wins=%{x}<extra></extra>",
           "legendgroup": "Mumbai Indians",
           "marker": {
            "color": "#FFA15A",
            "pattern": {
             "shape": ""
            }
           },
           "name": "Mumbai Indians",
           "orientation": "h",
           "showlegend": true,
           "textposition": "auto",
           "type": "bar",
           "x": {
            "bdata": "BA==",
            "dtype": "i1"
           },
           "xaxis": "x",
           "y": [
            "Mumbai Indians"
           ],
           "yaxis": "y"
          },
          {
           "hovertemplate": "Teams=%{y}<br>season=2022<br>Total Wins=%{x}<extra></extra>",
           "legendgroup": "Rajasthan Royals",
           "marker": {
            "color": "#19d3f3",
            "pattern": {
             "shape": ""
            }
           },
           "name": "Rajasthan Royals",
           "orientation": "h",
           "showlegend": true,
           "textposition": "auto",
           "type": "bar",
           "x": {
            "bdata": "Cg==",
            "dtype": "i1"
           },
           "xaxis": "x",
           "y": [
            "Rajasthan Royals"
           ],
           "yaxis": "y"
          },
          {
           "hovertemplate": "Teams=%{y}<br>season=2022<br>Total Wins=%{x}<extra></extra>",
           "legendgroup": "Royal Challengers Bangalore",
           "marker": {
            "color": "#FF6692",
            "pattern": {
             "shape": ""
            }
           },
           "name": "Royal Challengers Bangalore",
           "orientation": "h",
           "showlegend": true,
           "textposition": "auto",
           "type": "bar",
           "x": {
            "bdata": "CQ==",
            "dtype": "i1"
           },
           "xaxis": "x",
           "y": [
            "Royal Challengers Bangalore"
           ],
           "yaxis": "y"
          },
          {
           "hovertemplate": "Teams=%{y}<br>season=2022<br>Total Wins=%{x}<extra></extra>",
           "legendgroup": "Sunrisers Hyderabad",
           "marker": {
            "color": "#B6E880",
            "pattern": {
             "shape": ""
            }
           },
           "name": "Sunrisers Hyderabad",
           "orientation": "h",
           "showlegend": true,
           "textposition": "auto",
           "type": "bar",
           "x": {
            "bdata": "Bg==",
            "dtype": "i1"
           },
           "xaxis": "x",
           "y": [
            "Sunrisers Hyderabad"
           ],
           "yaxis": "y"
          },
          {
           "hovertemplate": "Teams=%{y}<br>season=2022<br>Total Wins=%{x}<extra></extra>",
           "legendgroup": "Punjab Kings",
           "marker": {
            "color": "#FECB52",
            "pattern": {
             "shape": ""
            }
           },
           "name": "Punjab Kings",
           "orientation": "h",
           "showlegend": true,
           "textposition": "auto",
           "type": "bar",
           "x": {
            "bdata": "Bw==",
            "dtype": "i1"
           },
           "xaxis": "x",
           "y": [
            "Punjab Kings"
           ],
           "yaxis": "y"
          },
          {
           "hovertemplate": "Teams=%{y}<br>season=2022<br>Total Wins=%{x}<extra></extra>",
           "legendgroup": "Gujarat Titans",
           "marker": {
            "color": "#636efa",
            "pattern": {
             "shape": ""
            }
           },
           "name": "Gujarat Titans",
           "orientation": "h",
           "showlegend": true,
           "textposition": "auto",
           "type": "bar",
           "x": {
            "bdata": "DA==",
            "dtype": "i1"
           },
           "xaxis": "x",
           "y": [
            "Gujarat Titans"
           ],
           "yaxis": "y"
          },
          {
           "hovertemplate": "Teams=%{y}<br>season=2022<br>Total Wins=%{x}<extra></extra>",
           "legendgroup": "Lucknow Super Giants",
           "marker": {
            "color": "#EF553B",
            "pattern": {
             "shape": ""
            }
           },
           "name": "Lucknow Super Giants",
           "orientation": "h",
           "showlegend": true,
           "textposition": "auto",
           "type": "bar",
           "x": {
            "bdata": "CQ==",
            "dtype": "i1"
           },
           "xaxis": "x",
           "y": [
            "Lucknow Super Giants"
           ],
           "yaxis": "y"
          }
         ],
         "name": "2022"
        },
        {
         "data": [
          {
           "hovertemplate": "Teams=%{y}<br>season=2023<br>Total Wins=%{x}<extra></extra>",
           "legendgroup": "Chennai Super Kings",
           "marker": {
            "color": "#636efa",
            "pattern": {
             "shape": ""
            }
           },
           "name": "Chennai Super Kings",
           "orientation": "h",
           "showlegend": true,
           "textposition": "auto",
           "type": "bar",
           "x": {
            "bdata": "Cg==",
            "dtype": "i1"
           },
           "xaxis": "x",
           "y": [
            "Chennai Super Kings"
           ],
           "yaxis": "y"
          },
          {
           "hovertemplate": "Teams=%{y}<br>season=2023<br>Total Wins=%{x}<extra></extra>",
           "legendgroup": "Delhi Capitals",
           "marker": {
            "color": "#EF553B",
            "pattern": {
             "shape": ""
            }
           },
           "name": "Delhi Capitals",
           "orientation": "h",
           "showlegend": true,
           "textposition": "auto",
           "type": "bar",
           "x": {
            "bdata": "BQ==",
            "dtype": "i1"
           },
           "xaxis": "x",
           "y": [
            "Delhi Capitals"
           ],
           "yaxis": "y"
          },
          {
           "hovertemplate": "Teams=%{y}<br>season=2023<br>Total Wins=%{x}<extra></extra>",
           "legendgroup": "Kolkata Knight Riders",
           "marker": {
            "color": "#ab63fa",
            "pattern": {
             "shape": ""
            }
           },
           "name": "Kolkata Knight Riders",
           "orientation": "h",
           "showlegend": true,
           "textposition": "auto",
           "type": "bar",
           "x": {
            "bdata": "Bg==",
            "dtype": "i1"
           },
           "xaxis": "x",
           "y": [
            "Kolkata Knight Riders"
           ],
           "yaxis": "y"
          },
          {
           "hovertemplate": "Teams=%{y}<br>season=2023<br>Total Wins=%{x}<extra></extra>",
           "legendgroup": "Mumbai Indians",
           "marker": {
            "color": "#FFA15A",
            "pattern": {
             "shape": ""
            }
           },
           "name": "Mumbai Indians",
           "orientation": "h",
           "showlegend": true,
           "textposition": "auto",
           "type": "bar",
           "x": {
            "bdata": "CQ==",
            "dtype": "i1"
           },
           "xaxis": "x",
           "y": [
            "Mumbai Indians"
           ],
           "yaxis": "y"
          },
          {
           "hovertemplate": "Teams=%{y}<br>season=2023<br>Total Wins=%{x}<extra></extra>",
           "legendgroup": "Rajasthan Royals",
           "marker": {
            "color": "#19d3f3",
            "pattern": {
             "shape": ""
            }
           },
           "name": "Rajasthan Royals",
           "orientation": "h",
           "showlegend": true,
           "textposition": "auto",
           "type": "bar",
           "x": {
            "bdata": "Bw==",
            "dtype": "i1"
           },
           "xaxis": "x",
           "y": [
            "Rajasthan Royals"
           ],
           "yaxis": "y"
          },
          {
           "hovertemplate": "Teams=%{y}<br>season=2023<br>Total Wins=%{x}<extra></extra>",
           "legendgroup": "Royal Challengers Bangalore",
           "marker": {
            "color": "#FF6692",
            "pattern": {
             "shape": ""
            }
           },
           "name": "Royal Challengers Bangalore",
           "orientation": "h",
           "showlegend": true,
           "textposition": "auto",
           "type": "bar",
           "x": {
            "bdata": "Bw==",
            "dtype": "i1"
           },
           "xaxis": "x",
           "y": [
            "Royal Challengers Bangalore"
           ],
           "yaxis": "y"
          },
          {
           "hovertemplate": "Teams=%{y}<br>season=2023<br>Total Wins=%{x}<extra></extra>",
           "legendgroup": "Sunrisers Hyderabad",
           "marker": {
            "color": "#B6E880",
            "pattern": {
             "shape": ""
            }
           },
           "name": "Sunrisers Hyderabad",
           "orientation": "h",
           "showlegend": true,
           "textposition": "auto",
           "type": "bar",
           "x": {
            "bdata": "BA==",
            "dtype": "i1"
           },
           "xaxis": "x",
           "y": [
            "Sunrisers Hyderabad"
           ],
           "yaxis": "y"
          },
          {
           "hovertemplate": "Teams=%{y}<br>season=2023<br>Total Wins=%{x}<extra></extra>",
           "legendgroup": "Unknown",
           "marker": {
            "color": "#FF97FF",
            "pattern": {
             "shape": ""
            }
           },
           "name": "Unknown",
           "orientation": "h",
           "showlegend": true,
           "textposition": "auto",
           "type": "bar",
           "x": {
            "bdata": "AQ==",
            "dtype": "i1"
           },
           "xaxis": "x",
           "y": [
            "Unknown"
           ],
           "yaxis": "y"
          },
          {
           "hovertemplate": "Teams=%{y}<br>season=2023<br>Total Wins=%{x}<extra></extra>",
           "legendgroup": "Punjab Kings",
           "marker": {
            "color": "#FECB52",
            "pattern": {
             "shape": ""
            }
           },
           "name": "Punjab Kings",
           "orientation": "h",
           "showlegend": true,
           "textposition": "auto",
           "type": "bar",
           "x": {
            "bdata": "Bg==",
            "dtype": "i1"
           },
           "xaxis": "x",
           "y": [
            "Punjab Kings"
           ],
           "yaxis": "y"
          },
          {
           "hovertemplate": "Teams=%{y}<br>season=2023<br>Total Wins=%{x}<extra></extra>",
           "legendgroup": "Gujarat Titans",
           "marker": {
            "color": "#636efa",
            "pattern": {
             "shape": ""
            }
           },
           "name": "Gujarat Titans",
           "orientation": "h",
           "showlegend": true,
           "textposition": "auto",
           "type": "bar",
           "x": {
            "bdata": "Cw==",
            "dtype": "i1"
           },
           "xaxis": "x",
           "y": [
            "Gujarat Titans"
           ],
           "yaxis": "y"
          },
          {
           "hovertemplate": "Teams=%{y}<br>season=2023<br>Total Wins=%{x}<extra></extra>",
           "legendgroup": "Lucknow Super Giants",
           "marker": {
            "color": "#EF553B",
            "pattern": {
             "shape": ""
            }
           },
           "name": "Lucknow Super Giants",
           "orientation": "h",
           "showlegend": true,
           "textposition": "auto",
           "type": "bar",
           "x": {
            "bdata": "CA==",
            "dtype": "i1"
           },
           "xaxis": "x",
           "y": [
            "Lucknow Super Giants"
           ],
           "yaxis": "y"
          }
         ],
         "name": "2023"
        }
       ],
       "layout": {
        "barmode": "relative",
        "legend": {
         "title": {
          "text": "Teams"
         },
         "tracegroupgap": 0
        },
        "sliders": [
         {
          "active": 0,
          "currentvalue": {
           "prefix": "season="
          },
          "len": 0.9,
          "pad": {
           "b": 10,
           "t": 60
          },
          "steps": [
           {
            "args": [
             [
              "2019"
             ],
             {
              "frame": {
               "duration": 0,
               "redraw": true
              },
              "fromcurrent": true,
              "mode": "immediate",
              "transition": {
               "duration": 0,
               "easing": "linear"
              }
             }
            ],
            "label": "2019",
            "method": "animate"
           },
           {
            "args": [
             [
              "2020/21"
             ],
             {
              "frame": {
               "duration": 0,
               "redraw": true
              },
              "fromcurrent": true,
              "mode": "immediate",
              "transition": {
               "duration": 0,
               "easing": "linear"
              }
             }
            ],
            "label": "2020/21",
            "method": "animate"
           },
           {
            "args": [
             [
              "2021"
             ],
             {
              "frame": {
               "duration": 0,
               "redraw": true
              },
              "fromcurrent": true,
              "mode": "immediate",
              "transition": {
               "duration": 0,
               "easing": "linear"
              }
             }
            ],
            "label": "2021",
            "method": "animate"
           },
           {
            "args": [
             [
              "2022"
             ],
             {
              "frame": {
               "duration": 0,
               "redraw": true
              },
              "fromcurrent": true,
              "mode": "immediate",
              "transition": {
               "duration": 0,
               "easing": "linear"
              }
             }
            ],
            "label": "2022",
            "method": "animate"
           },
           {
            "args": [
             [
              "2023"
             ],
             {
              "frame": {
               "duration": 0,
               "redraw": true
              },
              "fromcurrent": true,
              "mode": "immediate",
              "transition": {
               "duration": 0,
               "easing": "linear"
              }
             }
            ],
            "label": "2023",
            "method": "animate"
           }
          ],
          "x": 0.1,
          "xanchor": "left",
          "y": 0,
          "yanchor": "top"
         }
        ],
        "template": {
         "data": {
          "bar": [
           {
            "error_x": {
             "color": "#2a3f5f"
            },
            "error_y": {
             "color": "#2a3f5f"
            },
            "marker": {
             "line": {
              "color": "#E5ECF6",
              "width": 0.5
             },
             "pattern": {
              "fillmode": "overlay",
              "size": 10,
              "solidity": 0.2
             }
            },
            "type": "bar"
           }
          ],
          "barpolar": [
           {
            "marker": {
             "line": {
              "color": "#E5ECF6",
              "width": 0.5
             },
             "pattern": {
              "fillmode": "overlay",
              "size": 10,
              "solidity": 0.2
             }
            },
            "type": "barpolar"
           }
          ],
          "carpet": [
           {
            "aaxis": {
             "endlinecolor": "#2a3f5f",
             "gridcolor": "white",
             "linecolor": "white",
             "minorgridcolor": "white",
             "startlinecolor": "#2a3f5f"
            },
            "baxis": {
             "endlinecolor": "#2a3f5f",
             "gridcolor": "white",
             "linecolor": "white",
             "minorgridcolor": "white",
             "startlinecolor": "#2a3f5f"
            },
            "type": "carpet"
           }
          ],
          "choropleth": [
           {
            "colorbar": {
             "outlinewidth": 0,
             "ticks": ""
            },
            "type": "choropleth"
           }
          ],
          "contour": [
           {
            "colorbar": {
             "outlinewidth": 0,
             "ticks": ""
            },
            "colorscale": [
             [
              0,
              "#0d0887"
             ],
             [
              0.1111111111111111,
              "#46039f"
             ],
             [
              0.2222222222222222,
              "#7201a8"
             ],
             [
              0.3333333333333333,
              "#9c179e"
             ],
             [
              0.4444444444444444,
              "#bd3786"
             ],
             [
              0.5555555555555556,
              "#d8576b"
             ],
             [
              0.6666666666666666,
              "#ed7953"
             ],
             [
              0.7777777777777778,
              "#fb9f3a"
             ],
             [
              0.8888888888888888,
              "#fdca26"
             ],
             [
              1,
              "#f0f921"
             ]
            ],
            "type": "contour"
           }
          ],
          "contourcarpet": [
           {
            "colorbar": {
             "outlinewidth": 0,
             "ticks": ""
            },
            "type": "contourcarpet"
           }
          ],
          "heatmap": [
           {
            "colorbar": {
             "outlinewidth": 0,
             "ticks": ""
            },
            "colorscale": [
             [
              0,
              "#0d0887"
             ],
             [
              0.1111111111111111,
              "#46039f"
             ],
             [
              0.2222222222222222,
              "#7201a8"
             ],
             [
              0.3333333333333333,
              "#9c179e"
             ],
             [
              0.4444444444444444,
              "#bd3786"
             ],
             [
              0.5555555555555556,
              "#d8576b"
             ],
             [
              0.6666666666666666,
              "#ed7953"
             ],
             [
              0.7777777777777778,
              "#fb9f3a"
             ],
             [
              0.8888888888888888,
              "#fdca26"
             ],
             [
              1,
              "#f0f921"
             ]
            ],
            "type": "heatmap"
           }
          ],
          "histogram": [
           {
            "marker": {
             "pattern": {
              "fillmode": "overlay",
              "size": 10,
              "solidity": 0.2
             }
            },
            "type": "histogram"
           }
          ],
          "histogram2d": [
           {
            "colorbar": {
             "outlinewidth": 0,
             "ticks": ""
            },
            "colorscale": [
             [
              0,
              "#0d0887"
             ],
             [
              0.1111111111111111,
              "#46039f"
             ],
             [
              0.2222222222222222,
              "#7201a8"
             ],
             [
              0.3333333333333333,
              "#9c179e"
             ],
             [
              0.4444444444444444,
              "#bd3786"
             ],
             [
              0.5555555555555556,
              "#d8576b"
             ],
             [
              0.6666666666666666,
              "#ed7953"
             ],
             [
              0.7777777777777778,
              "#fb9f3a"
             ],
             [
              0.8888888888888888,
              "#fdca26"
             ],
             [
              1,
              "#f0f921"
             ]
            ],
            "type": "histogram2d"
           }
          ],
          "histogram2dcontour": [
           {
            "colorbar": {
             "outlinewidth": 0,
             "ticks": ""
            },
            "colorscale": [
             [
              0,
              "#0d0887"
             ],
             [
              0.1111111111111111,
              "#46039f"
             ],
             [
              0.2222222222222222,
              "#7201a8"
             ],
             [
              0.3333333333333333,
              "#9c179e"
             ],
             [
              0.4444444444444444,
              "#bd3786"
             ],
             [
              0.5555555555555556,
              "#d8576b"
             ],
             [
              0.6666666666666666,
              "#ed7953"
             ],
             [
              0.7777777777777778,
              "#fb9f3a"
             ],
             [
              0.8888888888888888,
              "#fdca26"
             ],
             [
              1,
              "#f0f921"
             ]
            ],
            "type": "histogram2dcontour"
           }
          ],
          "mesh3d": [
           {
            "colorbar": {
             "outlinewidth": 0,
             "ticks": ""
            },
            "type": "mesh3d"
           }
          ],
          "parcoords": [
           {
            "line": {
             "colorbar": {
              "outlinewidth": 0,
              "ticks": ""
             }
            },
            "type": "parcoords"
           }
          ],
          "pie": [
           {
            "automargin": true,
            "type": "pie"
           }
          ],
          "scatter": [
           {
            "fillpattern": {
             "fillmode": "overlay",
             "size": 10,
             "solidity": 0.2
            },
            "type": "scatter"
           }
          ],
          "scatter3d": [
           {
            "line": {
             "colorbar": {
              "outlinewidth": 0,
              "ticks": ""
             }
            },
            "marker": {
             "colorbar": {
              "outlinewidth": 0,
              "ticks": ""
             }
            },
            "type": "scatter3d"
           }
          ],
          "scattercarpet": [
           {
            "marker": {
             "colorbar": {
              "outlinewidth": 0,
              "ticks": ""
             }
            },
            "type": "scattercarpet"
           }
          ],
          "scattergeo": [
           {
            "marker": {
             "colorbar": {
              "outlinewidth": 0,
              "ticks": ""
             }
            },
            "type": "scattergeo"
           }
          ],
          "scattergl": [
           {
            "marker": {
             "colorbar": {
              "outlinewidth": 0,
              "ticks": ""
             }
            },
            "type": "scattergl"
           }
          ],
          "scattermap": [
           {
            "marker": {
             "colorbar": {
              "outlinewidth": 0,
              "ticks": ""
             }
            },
            "type": "scattermap"
           }
          ],
          "scattermapbox": [
           {
            "marker": {
             "colorbar": {
              "outlinewidth": 0,
              "ticks": ""
             }
            },
            "type": "scattermapbox"
           }
          ],
          "scatterpolar": [
           {
            "marker": {
             "colorbar": {
              "outlinewidth": 0,
              "ticks": ""
             }
            },
            "type": "scatterpolar"
           }
          ],
          "scatterpolargl": [
           {
            "marker": {
             "colorbar": {
              "outlinewidth": 0,
              "ticks": ""
             }
            },
            "type": "scatterpolargl"
           }
          ],
          "scatterternary": [
           {
            "marker": {
             "colorbar": {
              "outlinewidth": 0,
              "ticks": ""
             }
            },
            "type": "scatterternary"
           }
          ],
          "surface": [
           {
            "colorbar": {
             "outlinewidth": 0,
             "ticks": ""
            },
            "colorscale": [
             [
              0,
              "#0d0887"
             ],
             [
              0.1111111111111111,
              "#46039f"
             ],
             [
              0.2222222222222222,
              "#7201a8"
             ],
             [
              0.3333333333333333,
              "#9c179e"
             ],
             [
              0.4444444444444444,
              "#bd3786"
             ],
             [
              0.5555555555555556,
              "#d8576b"
             ],
             [
              0.6666666666666666,
              "#ed7953"
             ],
             [
              0.7777777777777778,
              "#fb9f3a"
             ],
             [
              0.8888888888888888,
              "#fdca26"
             ],
             [
              1,
              "#f0f921"
             ]
            ],
            "type": "surface"
           }
          ],
          "table": [
           {
            "cells": {
             "fill": {
              "color": "#EBF0F8"
             },
             "line": {
              "color": "white"
             }
            },
            "header": {
             "fill": {
              "color": "#C8D4E3"
             },
             "line": {
              "color": "white"
             }
            },
            "type": "table"
           }
          ]
         },
         "layout": {
          "annotationdefaults": {
           "arrowcolor": "#2a3f5f",
           "arrowhead": 0,
           "arrowwidth": 1
          },
          "autotypenumbers": "strict",
          "coloraxis": {
           "colorbar": {
            "outlinewidth": 0,
            "ticks": ""
           }
          },
          "colorscale": {
           "diverging": [
            [
             0,
             "#8e0152"
            ],
            [
             0.1,
             "#c51b7d"
            ],
            [
             0.2,
             "#de77ae"
            ],
            [
             0.3,
             "#f1b6da"
            ],
            [
             0.4,
             "#fde0ef"
            ],
            [
             0.5,
             "#f7f7f7"
            ],
            [
             0.6,
             "#e6f5d0"
            ],
            [
             0.7,
             "#b8e186"
            ],
            [
             0.8,
             "#7fbc41"
            ],
            [
             0.9,
             "#4d9221"
            ],
            [
             1,
             "#276419"
            ]
           ],
           "sequential": [
            [
             0,
             "#0d0887"
            ],
            [
             0.1111111111111111,
             "#46039f"
            ],
            [
             0.2222222222222222,
             "#7201a8"
            ],
            [
             0.3333333333333333,
             "#9c179e"
            ],
            [
             0.4444444444444444,
             "#bd3786"
            ],
            [
             0.5555555555555556,
             "#d8576b"
            ],
            [
             0.6666666666666666,
             "#ed7953"
            ],
            [
             0.7777777777777778,
             "#fb9f3a"
            ],
            [
             0.8888888888888888,
             "#fdca26"
            ],
            [
             1,
             "#f0f921"
            ]
           ],
           "sequentialminus": [
            [
             0,
             "#0d0887"
            ],
            [
             0.1111111111111111,
             "#46039f"
            ],
            [
             0.2222222222222222,
             "#7201a8"
            ],
            [
             0.3333333333333333,
             "#9c179e"
            ],
            [
             0.4444444444444444,
             "#bd3786"
            ],
            [
             0.5555555555555556,
             "#d8576b"
            ],
            [
             0.6666666666666666,
             "#ed7953"
            ],
            [
             0.7777777777777778,
             "#fb9f3a"
            ],
            [
             0.8888888888888888,
             "#fdca26"
            ],
            [
             1,
             "#f0f921"
            ]
           ]
          },
          "colorway": [
           "#636efa",
           "#EF553B",
           "#00cc96",
           "#ab63fa",
           "#FFA15A",
           "#19d3f3",
           "#FF6692",
           "#B6E880",
           "#FF97FF",
           "#FECB52"
          ],
          "font": {
           "color": "#2a3f5f"
          },
          "geo": {
           "bgcolor": "white",
           "lakecolor": "white",
           "landcolor": "#E5ECF6",
           "showlakes": true,
           "showland": true,
           "subunitcolor": "white"
          },
          "hoverlabel": {
           "align": "left"
          },
          "hovermode": "closest",
          "mapbox": {
           "style": "light"
          },
          "paper_bgcolor": "white",
          "plot_bgcolor": "#E5ECF6",
          "polar": {
           "angularaxis": {
            "gridcolor": "white",
            "linecolor": "white",
            "ticks": ""
           },
           "bgcolor": "#E5ECF6",
           "radialaxis": {
            "gridcolor": "white",
            "linecolor": "white",
            "ticks": ""
           }
          },
          "scene": {
           "xaxis": {
            "backgroundcolor": "#E5ECF6",
            "gridcolor": "white",
            "gridwidth": 2,
            "linecolor": "white",
            "showbackground": true,
            "ticks": "",
            "zerolinecolor": "white"
           },
           "yaxis": {
            "backgroundcolor": "#E5ECF6",
            "gridcolor": "white",
            "gridwidth": 2,
            "linecolor": "white",
            "showbackground": true,
            "ticks": "",
            "zerolinecolor": "white"
           },
           "zaxis": {
            "backgroundcolor": "#E5ECF6",
            "gridcolor": "white",
            "gridwidth": 2,
            "linecolor": "white",
            "showbackground": true,
            "ticks": "",
            "zerolinecolor": "white"
           }
          },
          "shapedefaults": {
           "line": {
            "color": "#2a3f5f"
           }
          },
          "ternary": {
           "aaxis": {
            "gridcolor": "white",
            "linecolor": "white",
            "ticks": ""
           },
           "baxis": {
            "gridcolor": "white",
            "linecolor": "white",
            "ticks": ""
           },
           "bgcolor": "#E5ECF6",
           "caxis": {
            "gridcolor": "white",
            "linecolor": "white",
            "ticks": ""
           }
          },
          "title": {
           "x": 0.05
          },
          "xaxis": {
           "automargin": true,
           "gridcolor": "white",
           "linecolor": "white",
           "ticks": "",
           "title": {
            "standoff": 15
           },
           "zerolinecolor": "white",
           "zerolinewidth": 2
          },
          "yaxis": {
           "automargin": true,
           "gridcolor": "white",
           "linecolor": "white",
           "ticks": "",
           "title": {
            "standoff": 15
           },
           "zerolinecolor": "white",
           "zerolinewidth": 2
          }
         }
        },
        "title": {
         "text": "IPL Team Wins Over the Years (Animated Bar Chart Race)"
        },
        "updatemenus": [
         {
          "buttons": [
           {
            "args": [
             null,
             {
              "frame": {
               "duration": 500,
               "redraw": true
              },
              "fromcurrent": true,
              "mode": "immediate",
              "transition": {
               "duration": 500,
               "easing": "linear"
              }
             }
            ],
            "label": "&#9654;",
            "method": "animate"
           },
           {
            "args": [
             [
              null
             ],
             {
              "frame": {
               "duration": 0,
               "redraw": true
              },
              "fromcurrent": true,
              "mode": "immediate",
              "transition": {
               "duration": 0,
               "easing": "linear"
              }
             }
            ],
            "label": "&#9724;",
            "method": "animate"
           }
          ],
          "direction": "left",
          "pad": {
           "r": 10,
           "t": 70
          },
          "showactive": false,
          "type": "buttons",
          "x": 0.1,
          "xanchor": "right",
          "y": 0,
          "yanchor": "top"
         }
        ],
        "xaxis": {
         "anchor": "y",
         "domain": [
          0,
          1
         ],
         "title": {
          "text": "Total Wins"
         }
        },
        "yaxis": {
         "anchor": "x",
         "categoryarray": [
          "Lucknow Super Giants",
          "Gujarat Titans",
          "Punjab Kings",
          "Unknown",
          "Sunrisers Hyderabad",
          "Royal Challengers Bangalore",
          "Rajasthan Royals",
          "Mumbai Indians",
          "Kolkata Knight Riders",
          "Kings XI Punjab",
          "Delhi Capitals",
          "Chennai Super Kings"
         ],
         "categoryorder": "array",
         "domain": [
          0,
          1
         ],
         "title": {
          "text": "Teams"
         }
        }
       }
      }
     },
     "metadata": {},
     "output_type": "display_data"
    }
   ],
   "source": [
    "import plotly.express as px\n",
    "\n",
    "# Count Wins per Team per Year\n",
    "team_wins_yearly = ipl_recent.groupby([\"season\", \"match_winner\"]).size().reset_index(name=\"wins\")\n",
    "\n",
    "# Animated Bar Chart Race\n",
    "fig = px.bar(\n",
    "    team_wins_yearly, \n",
    "    x=\"wins\", \n",
    "    y=\"match_winner\", \n",
    "    color=\"match_winner\",\n",
    "    animation_frame=\"season\",\n",
    "    orientation=\"h\",\n",
    "    title=\"IPL Team Wins Over the Years (Animated Bar Chart Race)\",\n",
    "    labels={\"wins\": \"Total Wins\", \"match_winner\": \"Teams\"},\n",
    ")\n",
    "\n",
    "fig.update_layout(xaxis_title=\"Total Wins\", yaxis_title=\"Teams\")\n",
    "fig.show()\n"
   ]
  },
  {
   "cell_type": "code",
   "execution_count": 15,
   "metadata": {},
   "outputs": [
    {
     "data": {
      "application/vnd.plotly.v1+json": {
       "config": {
        "plotlyServerURL": "https://plot.ly"
       },
       "data": [
        {
         "hovertemplate": "match_winner=Chennai Super Kings<br>Year=%{x}<br>Total Wins=%{y}<extra></extra>",
         "legendgroup": "Chennai Super Kings",
         "line": {
          "color": "#636efa",
          "dash": "solid",
          "shape": "spline"
         },
         "marker": {
          "symbol": "circle"
         },
         "mode": "lines+markers",
         "name": "Chennai Super Kings",
         "orientation": "v",
         "showlegend": true,
         "type": "scatter",
         "x": [
          "2019"
         ],
         "xaxis": "x",
         "y": {
          "bdata": "Cg==",
          "dtype": "i1"
         },
         "yaxis": "y"
        },
        {
         "hovertemplate": "match_winner=Delhi Capitals<br>Year=%{x}<br>Total Wins=%{y}<extra></extra>",
         "legendgroup": "Delhi Capitals",
         "line": {
          "color": "#EF553B",
          "dash": "solid",
          "shape": "spline"
         },
         "marker": {
          "symbol": "circle"
         },
         "mode": "lines+markers",
         "name": "Delhi Capitals",
         "orientation": "v",
         "showlegend": true,
         "type": "scatter",
         "x": [
          "2019"
         ],
         "xaxis": "x",
         "y": {
          "bdata": "CQ==",
          "dtype": "i1"
         },
         "yaxis": "y"
        },
        {
         "hovertemplate": "match_winner=Kings XI Punjab<br>Year=%{x}<br>Total Wins=%{y}<extra></extra>",
         "legendgroup": "Kings XI Punjab",
         "line": {
          "color": "#00cc96",
          "dash": "solid",
          "shape": "spline"
         },
         "marker": {
          "symbol": "circle"
         },
         "mode": "lines+markers",
         "name": "Kings XI Punjab",
         "orientation": "v",
         "showlegend": true,
         "type": "scatter",
         "x": [
          "2019"
         ],
         "xaxis": "x",
         "y": {
          "bdata": "Bg==",
          "dtype": "i1"
         },
         "yaxis": "y"
        },
        {
         "hovertemplate": "match_winner=Kolkata Knight Riders<br>Year=%{x}<br>Total Wins=%{y}<extra></extra>",
         "legendgroup": "Kolkata Knight Riders",
         "line": {
          "color": "#ab63fa",
          "dash": "solid",
          "shape": "spline"
         },
         "marker": {
          "symbol": "circle"
         },
         "mode": "lines+markers",
         "name": "Kolkata Knight Riders",
         "orientation": "v",
         "showlegend": true,
         "type": "scatter",
         "x": [
          "2019"
         ],
         "xaxis": "x",
         "y": {
          "bdata": "Bg==",
          "dtype": "i1"
         },
         "yaxis": "y"
        },
        {
         "hovertemplate": "match_winner=Mumbai Indians<br>Year=%{x}<br>Total Wins=%{y}<extra></extra>",
         "legendgroup": "Mumbai Indians",
         "line": {
          "color": "#FFA15A",
          "dash": "solid",
          "shape": "spline"
         },
         "marker": {
          "symbol": "circle"
         },
         "mode": "lines+markers",
         "name": "Mumbai Indians",
         "orientation": "v",
         "showlegend": true,
         "type": "scatter",
         "x": [
          "2019"
         ],
         "xaxis": "x",
         "y": {
          "bdata": "Cg==",
          "dtype": "i1"
         },
         "yaxis": "y"
        },
        {
         "hovertemplate": "match_winner=Rajasthan Royals<br>Year=%{x}<br>Total Wins=%{y}<extra></extra>",
         "legendgroup": "Rajasthan Royals",
         "line": {
          "color": "#19d3f3",
          "dash": "solid",
          "shape": "spline"
         },
         "marker": {
          "symbol": "circle"
         },
         "mode": "lines+markers",
         "name": "Rajasthan Royals",
         "orientation": "v",
         "showlegend": true,
         "type": "scatter",
         "x": [
          "2019"
         ],
         "xaxis": "x",
         "y": {
          "bdata": "BQ==",
          "dtype": "i1"
         },
         "yaxis": "y"
        },
        {
         "hovertemplate": "match_winner=Royal Challengers Bangalore<br>Year=%{x}<br>Total Wins=%{y}<extra></extra>",
         "legendgroup": "Royal Challengers Bangalore",
         "line": {
          "color": "#FF6692",
          "dash": "solid",
          "shape": "spline"
         },
         "marker": {
          "symbol": "circle"
         },
         "mode": "lines+markers",
         "name": "Royal Challengers Bangalore",
         "orientation": "v",
         "showlegend": true,
         "type": "scatter",
         "x": [
          "2019"
         ],
         "xaxis": "x",
         "y": {
          "bdata": "BQ==",
          "dtype": "i1"
         },
         "yaxis": "y"
        },
        {
         "hovertemplate": "match_winner=Sunrisers Hyderabad<br>Year=%{x}<br>Total Wins=%{y}<extra></extra>",
         "legendgroup": "Sunrisers Hyderabad",
         "line": {
          "color": "#B6E880",
          "dash": "solid",
          "shape": "spline"
         },
         "marker": {
          "symbol": "circle"
         },
         "mode": "lines+markers",
         "name": "Sunrisers Hyderabad",
         "orientation": "v",
         "showlegend": true,
         "type": "scatter",
         "x": [
          "2019"
         ],
         "xaxis": "x",
         "y": {
          "bdata": "Bg==",
          "dtype": "i1"
         },
         "yaxis": "y"
        },
        {
         "hovertemplate": "match_winner=Unknown<br>Year=%{x}<br>Total Wins=%{y}<extra></extra>",
         "legendgroup": "Unknown",
         "line": {
          "color": "#FF97FF",
          "dash": "solid",
          "shape": "spline"
         },
         "marker": {
          "symbol": "circle"
         },
         "mode": "lines+markers",
         "name": "Unknown",
         "orientation": "v",
         "showlegend": true,
         "type": "scatter",
         "x": [
          "2019"
         ],
         "xaxis": "x",
         "y": {
          "bdata": "Aw==",
          "dtype": "i1"
         },
         "yaxis": "y"
        }
       ],
       "frames": [
        {
         "data": [
          {
           "hovertemplate": "match_winner=Chennai Super Kings<br>Year=%{x}<br>Total Wins=%{y}<extra></extra>",
           "legendgroup": "Chennai Super Kings",
           "line": {
            "color": "#636efa",
            "dash": "solid",
            "shape": "spline"
           },
           "marker": {
            "symbol": "circle"
           },
           "mode": "lines+markers",
           "name": "Chennai Super Kings",
           "orientation": "v",
           "showlegend": true,
           "type": "scatter",
           "x": [
            "2019"
           ],
           "xaxis": "x",
           "y": {
            "bdata": "Cg==",
            "dtype": "i1"
           },
           "yaxis": "y"
          },
          {
           "hovertemplate": "match_winner=Delhi Capitals<br>Year=%{x}<br>Total Wins=%{y}<extra></extra>",
           "legendgroup": "Delhi Capitals",
           "line": {
            "color": "#EF553B",
            "dash": "solid",
            "shape": "spline"
           },
           "marker": {
            "symbol": "circle"
           },
           "mode": "lines+markers",
           "name": "Delhi Capitals",
           "orientation": "v",
           "showlegend": true,
           "type": "scatter",
           "x": [
            "2019"
           ],
           "xaxis": "x",
           "y": {
            "bdata": "CQ==",
            "dtype": "i1"
           },
           "yaxis": "y"
          },
          {
           "hovertemplate": "match_winner=Kings XI Punjab<br>Year=%{x}<br>Total Wins=%{y}<extra></extra>",
           "legendgroup": "Kings XI Punjab",
           "line": {
            "color": "#00cc96",
            "dash": "solid",
            "shape": "spline"
           },
           "marker": {
            "symbol": "circle"
           },
           "mode": "lines+markers",
           "name": "Kings XI Punjab",
           "orientation": "v",
           "showlegend": true,
           "type": "scatter",
           "x": [
            "2019"
           ],
           "xaxis": "x",
           "y": {
            "bdata": "Bg==",
            "dtype": "i1"
           },
           "yaxis": "y"
          },
          {
           "hovertemplate": "match_winner=Kolkata Knight Riders<br>Year=%{x}<br>Total Wins=%{y}<extra></extra>",
           "legendgroup": "Kolkata Knight Riders",
           "line": {
            "color": "#ab63fa",
            "dash": "solid",
            "shape": "spline"
           },
           "marker": {
            "symbol": "circle"
           },
           "mode": "lines+markers",
           "name": "Kolkata Knight Riders",
           "orientation": "v",
           "showlegend": true,
           "type": "scatter",
           "x": [
            "2019"
           ],
           "xaxis": "x",
           "y": {
            "bdata": "Bg==",
            "dtype": "i1"
           },
           "yaxis": "y"
          },
          {
           "hovertemplate": "match_winner=Mumbai Indians<br>Year=%{x}<br>Total Wins=%{y}<extra></extra>",
           "legendgroup": "Mumbai Indians",
           "line": {
            "color": "#FFA15A",
            "dash": "solid",
            "shape": "spline"
           },
           "marker": {
            "symbol": "circle"
           },
           "mode": "lines+markers",
           "name": "Mumbai Indians",
           "orientation": "v",
           "showlegend": true,
           "type": "scatter",
           "x": [
            "2019"
           ],
           "xaxis": "x",
           "y": {
            "bdata": "Cg==",
            "dtype": "i1"
           },
           "yaxis": "y"
          },
          {
           "hovertemplate": "match_winner=Rajasthan Royals<br>Year=%{x}<br>Total Wins=%{y}<extra></extra>",
           "legendgroup": "Rajasthan Royals",
           "line": {
            "color": "#19d3f3",
            "dash": "solid",
            "shape": "spline"
           },
           "marker": {
            "symbol": "circle"
           },
           "mode": "lines+markers",
           "name": "Rajasthan Royals",
           "orientation": "v",
           "showlegend": true,
           "type": "scatter",
           "x": [
            "2019"
           ],
           "xaxis": "x",
           "y": {
            "bdata": "BQ==",
            "dtype": "i1"
           },
           "yaxis": "y"
          },
          {
           "hovertemplate": "match_winner=Royal Challengers Bangalore<br>Year=%{x}<br>Total Wins=%{y}<extra></extra>",
           "legendgroup": "Royal Challengers Bangalore",
           "line": {
            "color": "#FF6692",
            "dash": "solid",
            "shape": "spline"
           },
           "marker": {
            "symbol": "circle"
           },
           "mode": "lines+markers",
           "name": "Royal Challengers Bangalore",
           "orientation": "v",
           "showlegend": true,
           "type": "scatter",
           "x": [
            "2019"
           ],
           "xaxis": "x",
           "y": {
            "bdata": "BQ==",
            "dtype": "i1"
           },
           "yaxis": "y"
          },
          {
           "hovertemplate": "match_winner=Sunrisers Hyderabad<br>Year=%{x}<br>Total Wins=%{y}<extra></extra>",
           "legendgroup": "Sunrisers Hyderabad",
           "line": {
            "color": "#B6E880",
            "dash": "solid",
            "shape": "spline"
           },
           "marker": {
            "symbol": "circle"
           },
           "mode": "lines+markers",
           "name": "Sunrisers Hyderabad",
           "orientation": "v",
           "showlegend": true,
           "type": "scatter",
           "x": [
            "2019"
           ],
           "xaxis": "x",
           "y": {
            "bdata": "Bg==",
            "dtype": "i1"
           },
           "yaxis": "y"
          },
          {
           "hovertemplate": "match_winner=Unknown<br>Year=%{x}<br>Total Wins=%{y}<extra></extra>",
           "legendgroup": "Unknown",
           "line": {
            "color": "#FF97FF",
            "dash": "solid",
            "shape": "spline"
           },
           "marker": {
            "symbol": "circle"
           },
           "mode": "lines+markers",
           "name": "Unknown",
           "orientation": "v",
           "showlegend": true,
           "type": "scatter",
           "x": [
            "2019"
           ],
           "xaxis": "x",
           "y": {
            "bdata": "Aw==",
            "dtype": "i1"
           },
           "yaxis": "y"
          }
         ],
         "name": "2019"
        },
        {
         "data": [
          {
           "hovertemplate": "match_winner=Chennai Super Kings<br>Year=%{x}<br>Total Wins=%{y}<extra></extra>",
           "legendgroup": "Chennai Super Kings",
           "line": {
            "color": "#636efa",
            "dash": "solid",
            "shape": "spline"
           },
           "marker": {
            "symbol": "circle"
           },
           "mode": "lines+markers",
           "name": "Chennai Super Kings",
           "orientation": "v",
           "showlegend": true,
           "type": "scatter",
           "x": [
            "2020/21"
           ],
           "xaxis": "x",
           "y": {
            "bdata": "EA==",
            "dtype": "i1"
           },
           "yaxis": "y"
          },
          {
           "hovertemplate": "match_winner=Delhi Capitals<br>Year=%{x}<br>Total Wins=%{y}<extra></extra>",
           "legendgroup": "Delhi Capitals",
           "line": {
            "color": "#EF553B",
            "dash": "solid",
            "shape": "spline"
           },
           "marker": {
            "symbol": "circle"
           },
           "mode": "lines+markers",
           "name": "Delhi Capitals",
           "orientation": "v",
           "showlegend": true,
           "type": "scatter",
           "x": [
            "2020/21"
           ],
           "xaxis": "x",
           "y": {
            "bdata": "EQ==",
            "dtype": "i1"
           },
           "yaxis": "y"
          },
          {
           "hovertemplate": "match_winner=Kings XI Punjab<br>Year=%{x}<br>Total Wins=%{y}<extra></extra>",
           "legendgroup": "Kings XI Punjab",
           "line": {
            "color": "#00cc96",
            "dash": "solid",
            "shape": "spline"
           },
           "marker": {
            "symbol": "circle"
           },
           "mode": "lines+markers",
           "name": "Kings XI Punjab",
           "orientation": "v",
           "showlegend": true,
           "type": "scatter",
           "x": [
            "2020/21"
           ],
           "xaxis": "x",
           "y": {
            "bdata": "Cw==",
            "dtype": "i1"
           },
           "yaxis": "y"
          },
          {
           "hovertemplate": "match_winner=Kolkata Knight Riders<br>Year=%{x}<br>Total Wins=%{y}<extra></extra>",
           "legendgroup": "Kolkata Knight Riders",
           "line": {
            "color": "#ab63fa",
            "dash": "solid",
            "shape": "spline"
           },
           "marker": {
            "symbol": "circle"
           },
           "mode": "lines+markers",
           "name": "Kolkata Knight Riders",
           "orientation": "v",
           "showlegend": true,
           "type": "scatter",
           "x": [
            "2020/21"
           ],
           "xaxis": "x",
           "y": {
            "bdata": "DA==",
            "dtype": "i1"
           },
           "yaxis": "y"
          },
          {
           "hovertemplate": "match_winner=Mumbai Indians<br>Year=%{x}<br>Total Wins=%{y}<extra></extra>",
           "legendgroup": "Mumbai Indians",
           "line": {
            "color": "#FFA15A",
            "dash": "solid",
            "shape": "spline"
           },
           "marker": {
            "symbol": "circle"
           },
           "mode": "lines+markers",
           "name": "Mumbai Indians",
           "orientation": "v",
           "showlegend": true,
           "type": "scatter",
           "x": [
            "2020/21"
           ],
           "xaxis": "x",
           "y": {
            "bdata": "FQ==",
            "dtype": "i1"
           },
           "yaxis": "y"
          },
          {
           "hovertemplate": "match_winner=Rajasthan Royals<br>Year=%{x}<br>Total Wins=%{y}<extra></extra>",
           "legendgroup": "Rajasthan Royals",
           "line": {
            "color": "#19d3f3",
            "dash": "solid",
            "shape": "spline"
           },
           "marker": {
            "symbol": "circle"
           },
           "mode": "lines+markers",
           "name": "Rajasthan Royals",
           "orientation": "v",
           "showlegend": true,
           "type": "scatter",
           "x": [
            "2020/21"
           ],
           "xaxis": "x",
           "y": {
            "bdata": "Cw==",
            "dtype": "i1"
           },
           "yaxis": "y"
          },
          {
           "hovertemplate": "match_winner=Royal Challengers Bangalore<br>Year=%{x}<br>Total Wins=%{y}<extra></extra>",
           "legendgroup": "Royal Challengers Bangalore",
           "line": {
            "color": "#FF6692",
            "dash": "solid",
            "shape": "spline"
           },
           "marker": {
            "symbol": "circle"
           },
           "mode": "lines+markers",
           "name": "Royal Challengers Bangalore",
           "orientation": "v",
           "showlegend": true,
           "type": "scatter",
           "x": [
            "2020/21"
           ],
           "xaxis": "x",
           "y": {
            "bdata": "Cw==",
            "dtype": "i1"
           },
           "yaxis": "y"
          },
          {
           "hovertemplate": "match_winner=Sunrisers Hyderabad<br>Year=%{x}<br>Total Wins=%{y}<extra></extra>",
           "legendgroup": "Sunrisers Hyderabad",
           "line": {
            "color": "#B6E880",
            "dash": "solid",
            "shape": "spline"
           },
           "marker": {
            "symbol": "circle"
           },
           "mode": "lines+markers",
           "name": "Sunrisers Hyderabad",
           "orientation": "v",
           "showlegend": true,
           "type": "scatter",
           "x": [
            "2020/21"
           ],
           "xaxis": "x",
           "y": {
            "bdata": "Dg==",
            "dtype": "i1"
           },
           "yaxis": "y"
          },
          {
           "hovertemplate": "match_winner=Unknown<br>Year=%{x}<br>Total Wins=%{y}<extra></extra>",
           "legendgroup": "Unknown",
           "line": {
            "color": "#FF97FF",
            "dash": "solid",
            "shape": "spline"
           },
           "marker": {
            "symbol": "circle"
           },
           "mode": "lines+markers",
           "name": "Unknown",
           "orientation": "v",
           "showlegend": true,
           "type": "scatter",
           "x": [
            "2020/21"
           ],
           "xaxis": "x",
           "y": {
            "bdata": "Bw==",
            "dtype": "i1"
           },
           "yaxis": "y"
          }
         ],
         "name": "2020/21"
        },
        {
         "data": [
          {
           "hovertemplate": "match_winner=Chennai Super Kings<br>Year=%{x}<br>Total Wins=%{y}<extra></extra>",
           "legendgroup": "Chennai Super Kings",
           "line": {
            "color": "#636efa",
            "dash": "solid",
            "shape": "spline"
           },
           "marker": {
            "symbol": "circle"
           },
           "mode": "lines+markers",
           "name": "Chennai Super Kings",
           "orientation": "v",
           "showlegend": true,
           "type": "scatter",
           "x": [
            "2021"
           ],
           "xaxis": "x",
           "y": {
            "bdata": "Gw==",
            "dtype": "i1"
           },
           "yaxis": "y"
          },
          {
           "hovertemplate": "match_winner=Delhi Capitals<br>Year=%{x}<br>Total Wins=%{y}<extra></extra>",
           "legendgroup": "Delhi Capitals",
           "line": {
            "color": "#EF553B",
            "dash": "solid",
            "shape": "spline"
           },
           "marker": {
            "symbol": "circle"
           },
           "mode": "lines+markers",
           "name": "Delhi Capitals",
           "orientation": "v",
           "showlegend": true,
           "type": "scatter",
           "x": [
            "2021"
           ],
           "xaxis": "x",
           "y": {
            "bdata": "Gg==",
            "dtype": "i1"
           },
           "yaxis": "y"
          },
          {
           "hovertemplate": "match_winner=Kolkata Knight Riders<br>Year=%{x}<br>Total Wins=%{y}<extra></extra>",
           "legendgroup": "Kolkata Knight Riders",
           "line": {
            "color": "#ab63fa",
            "dash": "solid",
            "shape": "spline"
           },
           "marker": {
            "symbol": "circle"
           },
           "mode": "lines+markers",
           "name": "Kolkata Knight Riders",
           "orientation": "v",
           "showlegend": true,
           "type": "scatter",
           "x": [
            "2021"
           ],
           "xaxis": "x",
           "y": {
            "bdata": "FQ==",
            "dtype": "i1"
           },
           "yaxis": "y"
          },
          {
           "hovertemplate": "match_winner=Mumbai Indians<br>Year=%{x}<br>Total Wins=%{y}<extra></extra>",
           "legendgroup": "Mumbai Indians",
           "line": {
            "color": "#FFA15A",
            "dash": "solid",
            "shape": "spline"
           },
           "marker": {
            "symbol": "circle"
           },
           "mode": "lines+markers",
           "name": "Mumbai Indians",
           "orientation": "v",
           "showlegend": true,
           "type": "scatter",
           "x": [
            "2021"
           ],
           "xaxis": "x",
           "y": {
            "bdata": "HA==",
            "dtype": "i1"
           },
           "yaxis": "y"
          },
          {
           "hovertemplate": "match_winner=Rajasthan Royals<br>Year=%{x}<br>Total Wins=%{y}<extra></extra>",
           "legendgroup": "Rajasthan Royals",
           "line": {
            "color": "#19d3f3",
            "dash": "solid",
            "shape": "spline"
           },
           "marker": {
            "symbol": "circle"
           },
           "mode": "lines+markers",
           "name": "Rajasthan Royals",
           "orientation": "v",
           "showlegend": true,
           "type": "scatter",
           "x": [
            "2021"
           ],
           "xaxis": "x",
           "y": {
            "bdata": "EA==",
            "dtype": "i1"
           },
           "yaxis": "y"
          },
          {
           "hovertemplate": "match_winner=Royal Challengers Bangalore<br>Year=%{x}<br>Total Wins=%{y}<extra></extra>",
           "legendgroup": "Royal Challengers Bangalore",
           "line": {
            "color": "#FF6692",
            "dash": "solid",
            "shape": "spline"
           },
           "marker": {
            "symbol": "circle"
           },
           "mode": "lines+markers",
           "name": "Royal Challengers Bangalore",
           "orientation": "v",
           "showlegend": true,
           "type": "scatter",
           "x": [
            "2021"
           ],
           "xaxis": "x",
           "y": {
            "bdata": "FA==",
            "dtype": "i1"
           },
           "yaxis": "y"
          },
          {
           "hovertemplate": "match_winner=Sunrisers Hyderabad<br>Year=%{x}<br>Total Wins=%{y}<extra></extra>",
           "legendgroup": "Sunrisers Hyderabad",
           "line": {
            "color": "#B6E880",
            "dash": "solid",
            "shape": "spline"
           },
           "marker": {
            "symbol": "circle"
           },
           "mode": "lines+markers",
           "name": "Sunrisers Hyderabad",
           "orientation": "v",
           "showlegend": true,
           "type": "scatter",
           "x": [
            "2021"
           ],
           "xaxis": "x",
           "y": {
            "bdata": "EQ==",
            "dtype": "i1"
           },
           "yaxis": "y"
          },
          {
           "hovertemplate": "match_winner=Unknown<br>Year=%{x}<br>Total Wins=%{y}<extra></extra>",
           "legendgroup": "Unknown",
           "line": {
            "color": "#FF97FF",
            "dash": "solid",
            "shape": "spline"
           },
           "marker": {
            "symbol": "circle"
           },
           "mode": "lines+markers",
           "name": "Unknown",
           "orientation": "v",
           "showlegend": true,
           "type": "scatter",
           "x": [
            "2021"
           ],
           "xaxis": "x",
           "y": {
            "bdata": "CA==",
            "dtype": "i1"
           },
           "yaxis": "y"
          },
          {
           "hovertemplate": "match_winner=Punjab Kings<br>Year=%{x}<br>Total Wins=%{y}<extra></extra>",
           "legendgroup": "Punjab Kings",
           "line": {
            "color": "#FECB52",
            "dash": "solid",
            "shape": "spline"
           },
           "marker": {
            "symbol": "circle"
           },
           "mode": "lines+markers",
           "name": "Punjab Kings",
           "orientation": "v",
           "showlegend": true,
           "type": "scatter",
           "x": [
            "2021"
           ],
           "xaxis": "x",
           "y": {
            "bdata": "Bg==",
            "dtype": "i1"
           },
           "yaxis": "y"
          }
         ],
         "name": "2021"
        },
        {
         "data": [
          {
           "hovertemplate": "match_winner=Chennai Super Kings<br>Year=%{x}<br>Total Wins=%{y}<extra></extra>",
           "legendgroup": "Chennai Super Kings",
           "line": {
            "color": "#636efa",
            "dash": "solid",
            "shape": "spline"
           },
           "marker": {
            "symbol": "circle"
           },
           "mode": "lines+markers",
           "name": "Chennai Super Kings",
           "orientation": "v",
           "showlegend": true,
           "type": "scatter",
           "x": [
            "2022"
           ],
           "xaxis": "x",
           "y": {
            "bdata": "Hw==",
            "dtype": "i1"
           },
           "yaxis": "y"
          },
          {
           "hovertemplate": "match_winner=Delhi Capitals<br>Year=%{x}<br>Total Wins=%{y}<extra></extra>",
           "legendgroup": "Delhi Capitals",
           "line": {
            "color": "#EF553B",
            "dash": "solid",
            "shape": "spline"
           },
           "marker": {
            "symbol": "circle"
           },
           "mode": "lines+markers",
           "name": "Delhi Capitals",
           "orientation": "v",
           "showlegend": true,
           "type": "scatter",
           "x": [
            "2022"
           ],
           "xaxis": "x",
           "y": {
            "bdata": "IQ==",
            "dtype": "i1"
           },
           "yaxis": "y"
          },
          {
           "hovertemplate": "match_winner=Kolkata Knight Riders<br>Year=%{x}<br>Total Wins=%{y}<extra></extra>",
           "legendgroup": "Kolkata Knight Riders",
           "line": {
            "color": "#ab63fa",
            "dash": "solid",
            "shape": "spline"
           },
           "marker": {
            "symbol": "circle"
           },
           "mode": "lines+markers",
           "name": "Kolkata Knight Riders",
           "orientation": "v",
           "showlegend": true,
           "type": "scatter",
           "x": [
            "2022"
           ],
           "xaxis": "x",
           "y": {
            "bdata": "Gw==",
            "dtype": "i1"
           },
           "yaxis": "y"
          },
          {
           "hovertemplate": "match_winner=Mumbai Indians<br>Year=%{x}<br>Total Wins=%{y}<extra></extra>",
           "legendgroup": "Mumbai Indians",
           "line": {
            "color": "#FFA15A",
            "dash": "solid",
            "shape": "spline"
           },
           "marker": {
            "symbol": "circle"
           },
           "mode": "lines+markers",
           "name": "Mumbai Indians",
           "orientation": "v",
           "showlegend": true,
           "type": "scatter",
           "x": [
            "2022"
           ],
           "xaxis": "x",
           "y": {
            "bdata": "IA==",
            "dtype": "i1"
           },
           "yaxis": "y"
          },
          {
           "hovertemplate": "match_winner=Rajasthan Royals<br>Year=%{x}<br>Total Wins=%{y}<extra></extra>",
           "legendgroup": "Rajasthan Royals",
           "line": {
            "color": "#19d3f3",
            "dash": "solid",
            "shape": "spline"
           },
           "marker": {
            "symbol": "circle"
           },
           "mode": "lines+markers",
           "name": "Rajasthan Royals",
           "orientation": "v",
           "showlegend": true,
           "type": "scatter",
           "x": [
            "2022"
           ],
           "xaxis": "x",
           "y": {
            "bdata": "Gg==",
            "dtype": "i1"
           },
           "yaxis": "y"
          },
          {
           "hovertemplate": "match_winner=Royal Challengers Bangalore<br>Year=%{x}<br>Total Wins=%{y}<extra></extra>",
           "legendgroup": "Royal Challengers Bangalore",
           "line": {
            "color": "#FF6692",
            "dash": "solid",
            "shape": "spline"
           },
           "marker": {
            "symbol": "circle"
           },
           "mode": "lines+markers",
           "name": "Royal Challengers Bangalore",
           "orientation": "v",
           "showlegend": true,
           "type": "scatter",
           "x": [
            "2022"
           ],
           "xaxis": "x",
           "y": {
            "bdata": "HQ==",
            "dtype": "i1"
           },
           "yaxis": "y"
          },
          {
           "hovertemplate": "match_winner=Sunrisers Hyderabad<br>Year=%{x}<br>Total Wins=%{y}<extra></extra>",
           "legendgroup": "Sunrisers Hyderabad",
           "line": {
            "color": "#B6E880",
            "dash": "solid",
            "shape": "spline"
           },
           "marker": {
            "symbol": "circle"
           },
           "mode": "lines+markers",
           "name": "Sunrisers Hyderabad",
           "orientation": "v",
           "showlegend": true,
           "type": "scatter",
           "x": [
            "2022"
           ],
           "xaxis": "x",
           "y": {
            "bdata": "Fw==",
            "dtype": "i1"
           },
           "yaxis": "y"
          },
          {
           "hovertemplate": "match_winner=Punjab Kings<br>Year=%{x}<br>Total Wins=%{y}<extra></extra>",
           "legendgroup": "Punjab Kings",
           "line": {
            "color": "#FECB52",
            "dash": "solid",
            "shape": "spline"
           },
           "marker": {
            "symbol": "circle"
           },
           "mode": "lines+markers",
           "name": "Punjab Kings",
           "orientation": "v",
           "showlegend": true,
           "type": "scatter",
           "x": [
            "2022"
           ],
           "xaxis": "x",
           "y": {
            "bdata": "DQ==",
            "dtype": "i1"
           },
           "yaxis": "y"
          },
          {
           "hovertemplate": "match_winner=Gujarat Titans<br>Year=%{x}<br>Total Wins=%{y}<extra></extra>",
           "legendgroup": "Gujarat Titans",
           "line": {
            "color": "#636efa",
            "dash": "solid",
            "shape": "spline"
           },
           "marker": {
            "symbol": "circle"
           },
           "mode": "lines+markers",
           "name": "Gujarat Titans",
           "orientation": "v",
           "showlegend": true,
           "type": "scatter",
           "x": [
            "2022"
           ],
           "xaxis": "x",
           "y": {
            "bdata": "DA==",
            "dtype": "i1"
           },
           "yaxis": "y"
          },
          {
           "hovertemplate": "match_winner=Lucknow Super Giants<br>Year=%{x}<br>Total Wins=%{y}<extra></extra>",
           "legendgroup": "Lucknow Super Giants",
           "line": {
            "color": "#EF553B",
            "dash": "solid",
            "shape": "spline"
           },
           "marker": {
            "symbol": "circle"
           },
           "mode": "lines+markers",
           "name": "Lucknow Super Giants",
           "orientation": "v",
           "showlegend": true,
           "type": "scatter",
           "x": [
            "2022"
           ],
           "xaxis": "x",
           "y": {
            "bdata": "CQ==",
            "dtype": "i1"
           },
           "yaxis": "y"
          }
         ],
         "name": "2022"
        },
        {
         "data": [
          {
           "hovertemplate": "match_winner=Chennai Super Kings<br>Year=%{x}<br>Total Wins=%{y}<extra></extra>",
           "legendgroup": "Chennai Super Kings",
           "line": {
            "color": "#636efa",
            "dash": "solid",
            "shape": "spline"
           },
           "marker": {
            "symbol": "circle"
           },
           "mode": "lines+markers",
           "name": "Chennai Super Kings",
           "orientation": "v",
           "showlegend": true,
           "type": "scatter",
           "x": [
            "2023"
           ],
           "xaxis": "x",
           "y": {
            "bdata": "KQ==",
            "dtype": "i1"
           },
           "yaxis": "y"
          },
          {
           "hovertemplate": "match_winner=Delhi Capitals<br>Year=%{x}<br>Total Wins=%{y}<extra></extra>",
           "legendgroup": "Delhi Capitals",
           "line": {
            "color": "#EF553B",
            "dash": "solid",
            "shape": "spline"
           },
           "marker": {
            "symbol": "circle"
           },
           "mode": "lines+markers",
           "name": "Delhi Capitals",
           "orientation": "v",
           "showlegend": true,
           "type": "scatter",
           "x": [
            "2023"
           ],
           "xaxis": "x",
           "y": {
            "bdata": "Jg==",
            "dtype": "i1"
           },
           "yaxis": "y"
          },
          {
           "hovertemplate": "match_winner=Kolkata Knight Riders<br>Year=%{x}<br>Total Wins=%{y}<extra></extra>",
           "legendgroup": "Kolkata Knight Riders",
           "line": {
            "color": "#ab63fa",
            "dash": "solid",
            "shape": "spline"
           },
           "marker": {
            "symbol": "circle"
           },
           "mode": "lines+markers",
           "name": "Kolkata Knight Riders",
           "orientation": "v",
           "showlegend": true,
           "type": "scatter",
           "x": [
            "2023"
           ],
           "xaxis": "x",
           "y": {
            "bdata": "IQ==",
            "dtype": "i1"
           },
           "yaxis": "y"
          },
          {
           "hovertemplate": "match_winner=Mumbai Indians<br>Year=%{x}<br>Total Wins=%{y}<extra></extra>",
           "legendgroup": "Mumbai Indians",
           "line": {
            "color": "#FFA15A",
            "dash": "solid",
            "shape": "spline"
           },
           "marker": {
            "symbol": "circle"
           },
           "mode": "lines+markers",
           "name": "Mumbai Indians",
           "orientation": "v",
           "showlegend": true,
           "type": "scatter",
           "x": [
            "2023"
           ],
           "xaxis": "x",
           "y": {
            "bdata": "KQ==",
            "dtype": "i1"
           },
           "yaxis": "y"
          },
          {
           "hovertemplate": "match_winner=Rajasthan Royals<br>Year=%{x}<br>Total Wins=%{y}<extra></extra>",
           "legendgroup": "Rajasthan Royals",
           "line": {
            "color": "#19d3f3",
            "dash": "solid",
            "shape": "spline"
           },
           "marker": {
            "symbol": "circle"
           },
           "mode": "lines+markers",
           "name": "Rajasthan Royals",
           "orientation": "v",
           "showlegend": true,
           "type": "scatter",
           "x": [
            "2023"
           ],
           "xaxis": "x",
           "y": {
            "bdata": "IQ==",
            "dtype": "i1"
           },
           "yaxis": "y"
          },
          {
           "hovertemplate": "match_winner=Royal Challengers Bangalore<br>Year=%{x}<br>Total Wins=%{y}<extra></extra>",
           "legendgroup": "Royal Challengers Bangalore",
           "line": {
            "color": "#FF6692",
            "dash": "solid",
            "shape": "spline"
           },
           "marker": {
            "symbol": "circle"
           },
           "mode": "lines+markers",
           "name": "Royal Challengers Bangalore",
           "orientation": "v",
           "showlegend": true,
           "type": "scatter",
           "x": [
            "2023"
           ],
           "xaxis": "x",
           "y": {
            "bdata": "JA==",
            "dtype": "i1"
           },
           "yaxis": "y"
          },
          {
           "hovertemplate": "match_winner=Sunrisers Hyderabad<br>Year=%{x}<br>Total Wins=%{y}<extra></extra>",
           "legendgroup": "Sunrisers Hyderabad",
           "line": {
            "color": "#B6E880",
            "dash": "solid",
            "shape": "spline"
           },
           "marker": {
            "symbol": "circle"
           },
           "mode": "lines+markers",
           "name": "Sunrisers Hyderabad",
           "orientation": "v",
           "showlegend": true,
           "type": "scatter",
           "x": [
            "2023"
           ],
           "xaxis": "x",
           "y": {
            "bdata": "Gw==",
            "dtype": "i1"
           },
           "yaxis": "y"
          },
          {
           "hovertemplate": "match_winner=Unknown<br>Year=%{x}<br>Total Wins=%{y}<extra></extra>",
           "legendgroup": "Unknown",
           "line": {
            "color": "#FF97FF",
            "dash": "solid",
            "shape": "spline"
           },
           "marker": {
            "symbol": "circle"
           },
           "mode": "lines+markers",
           "name": "Unknown",
           "orientation": "v",
           "showlegend": true,
           "type": "scatter",
           "x": [
            "2023"
           ],
           "xaxis": "x",
           "y": {
            "bdata": "CQ==",
            "dtype": "i1"
           },
           "yaxis": "y"
          },
          {
           "hovertemplate": "match_winner=Punjab Kings<br>Year=%{x}<br>Total Wins=%{y}<extra></extra>",
           "legendgroup": "Punjab Kings",
           "line": {
            "color": "#FECB52",
            "dash": "solid",
            "shape": "spline"
           },
           "marker": {
            "symbol": "circle"
           },
           "mode": "lines+markers",
           "name": "Punjab Kings",
           "orientation": "v",
           "showlegend": true,
           "type": "scatter",
           "x": [
            "2023"
           ],
           "xaxis": "x",
           "y": {
            "bdata": "Ew==",
            "dtype": "i1"
           },
           "yaxis": "y"
          },
          {
           "hovertemplate": "match_winner=Gujarat Titans<br>Year=%{x}<br>Total Wins=%{y}<extra></extra>",
           "legendgroup": "Gujarat Titans",
           "line": {
            "color": "#636efa",
            "dash": "solid",
            "shape": "spline"
           },
           "marker": {
            "symbol": "circle"
           },
           "mode": "lines+markers",
           "name": "Gujarat Titans",
           "orientation": "v",
           "showlegend": true,
           "type": "scatter",
           "x": [
            "2023"
           ],
           "xaxis": "x",
           "y": {
            "bdata": "Fw==",
            "dtype": "i1"
           },
           "yaxis": "y"
          },
          {
           "hovertemplate": "match_winner=Lucknow Super Giants<br>Year=%{x}<br>Total Wins=%{y}<extra></extra>",
           "legendgroup": "Lucknow Super Giants",
           "line": {
            "color": "#EF553B",
            "dash": "solid",
            "shape": "spline"
           },
           "marker": {
            "symbol": "circle"
           },
           "mode": "lines+markers",
           "name": "Lucknow Super Giants",
           "orientation": "v",
           "showlegend": true,
           "type": "scatter",
           "x": [
            "2023"
           ],
           "xaxis": "x",
           "y": {
            "bdata": "EQ==",
            "dtype": "i1"
           },
           "yaxis": "y"
          }
         ],
         "name": "2023"
        }
       ],
       "layout": {
        "legend": {
         "title": {
          "text": "match_winner"
         },
         "tracegroupgap": 0
        },
        "sliders": [
         {
          "active": 0,
          "currentvalue": {
           "prefix": "Year="
          },
          "len": 0.9,
          "pad": {
           "b": 10,
           "t": 60
          },
          "steps": [
           {
            "args": [
             [
              "2019"
             ],
             {
              "frame": {
               "duration": 0,
               "redraw": false
              },
              "fromcurrent": true,
              "mode": "immediate",
              "transition": {
               "duration": 0,
               "easing": "linear"
              }
             }
            ],
            "label": "2019",
            "method": "animate"
           },
           {
            "args": [
             [
              "2020/21"
             ],
             {
              "frame": {
               "duration": 0,
               "redraw": false
              },
              "fromcurrent": true,
              "mode": "immediate",
              "transition": {
               "duration": 0,
               "easing": "linear"
              }
             }
            ],
            "label": "2020/21",
            "method": "animate"
           },
           {
            "args": [
             [
              "2021"
             ],
             {
              "frame": {
               "duration": 0,
               "redraw": false
              },
              "fromcurrent": true,
              "mode": "immediate",
              "transition": {
               "duration": 0,
               "easing": "linear"
              }
             }
            ],
            "label": "2021",
            "method": "animate"
           },
           {
            "args": [
             [
              "2022"
             ],
             {
              "frame": {
               "duration": 0,
               "redraw": false
              },
              "fromcurrent": true,
              "mode": "immediate",
              "transition": {
               "duration": 0,
               "easing": "linear"
              }
             }
            ],
            "label": "2022",
            "method": "animate"
           },
           {
            "args": [
             [
              "2023"
             ],
             {
              "frame": {
               "duration": 0,
               "redraw": false
              },
              "fromcurrent": true,
              "mode": "immediate",
              "transition": {
               "duration": 0,
               "easing": "linear"
              }
             }
            ],
            "label": "2023",
            "method": "animate"
           }
          ],
          "x": 0.1,
          "xanchor": "left",
          "y": 0,
          "yanchor": "top"
         }
        ],
        "template": {
         "data": {
          "bar": [
           {
            "error_x": {
             "color": "#2a3f5f"
            },
            "error_y": {
             "color": "#2a3f5f"
            },
            "marker": {
             "line": {
              "color": "#E5ECF6",
              "width": 0.5
             },
             "pattern": {
              "fillmode": "overlay",
              "size": 10,
              "solidity": 0.2
             }
            },
            "type": "bar"
           }
          ],
          "barpolar": [
           {
            "marker": {
             "line": {
              "color": "#E5ECF6",
              "width": 0.5
             },
             "pattern": {
              "fillmode": "overlay",
              "size": 10,
              "solidity": 0.2
             }
            },
            "type": "barpolar"
           }
          ],
          "carpet": [
           {
            "aaxis": {
             "endlinecolor": "#2a3f5f",
             "gridcolor": "white",
             "linecolor": "white",
             "minorgridcolor": "white",
             "startlinecolor": "#2a3f5f"
            },
            "baxis": {
             "endlinecolor": "#2a3f5f",
             "gridcolor": "white",
             "linecolor": "white",
             "minorgridcolor": "white",
             "startlinecolor": "#2a3f5f"
            },
            "type": "carpet"
           }
          ],
          "choropleth": [
           {
            "colorbar": {
             "outlinewidth": 0,
             "ticks": ""
            },
            "type": "choropleth"
           }
          ],
          "contour": [
           {
            "colorbar": {
             "outlinewidth": 0,
             "ticks": ""
            },
            "colorscale": [
             [
              0,
              "#0d0887"
             ],
             [
              0.1111111111111111,
              "#46039f"
             ],
             [
              0.2222222222222222,
              "#7201a8"
             ],
             [
              0.3333333333333333,
              "#9c179e"
             ],
             [
              0.4444444444444444,
              "#bd3786"
             ],
             [
              0.5555555555555556,
              "#d8576b"
             ],
             [
              0.6666666666666666,
              "#ed7953"
             ],
             [
              0.7777777777777778,
              "#fb9f3a"
             ],
             [
              0.8888888888888888,
              "#fdca26"
             ],
             [
              1,
              "#f0f921"
             ]
            ],
            "type": "contour"
           }
          ],
          "contourcarpet": [
           {
            "colorbar": {
             "outlinewidth": 0,
             "ticks": ""
            },
            "type": "contourcarpet"
           }
          ],
          "heatmap": [
           {
            "colorbar": {
             "outlinewidth": 0,
             "ticks": ""
            },
            "colorscale": [
             [
              0,
              "#0d0887"
             ],
             [
              0.1111111111111111,
              "#46039f"
             ],
             [
              0.2222222222222222,
              "#7201a8"
             ],
             [
              0.3333333333333333,
              "#9c179e"
             ],
             [
              0.4444444444444444,
              "#bd3786"
             ],
             [
              0.5555555555555556,
              "#d8576b"
             ],
             [
              0.6666666666666666,
              "#ed7953"
             ],
             [
              0.7777777777777778,
              "#fb9f3a"
             ],
             [
              0.8888888888888888,
              "#fdca26"
             ],
             [
              1,
              "#f0f921"
             ]
            ],
            "type": "heatmap"
           }
          ],
          "histogram": [
           {
            "marker": {
             "pattern": {
              "fillmode": "overlay",
              "size": 10,
              "solidity": 0.2
             }
            },
            "type": "histogram"
           }
          ],
          "histogram2d": [
           {
            "colorbar": {
             "outlinewidth": 0,
             "ticks": ""
            },
            "colorscale": [
             [
              0,
              "#0d0887"
             ],
             [
              0.1111111111111111,
              "#46039f"
             ],
             [
              0.2222222222222222,
              "#7201a8"
             ],
             [
              0.3333333333333333,
              "#9c179e"
             ],
             [
              0.4444444444444444,
              "#bd3786"
             ],
             [
              0.5555555555555556,
              "#d8576b"
             ],
             [
              0.6666666666666666,
              "#ed7953"
             ],
             [
              0.7777777777777778,
              "#fb9f3a"
             ],
             [
              0.8888888888888888,
              "#fdca26"
             ],
             [
              1,
              "#f0f921"
             ]
            ],
            "type": "histogram2d"
           }
          ],
          "histogram2dcontour": [
           {
            "colorbar": {
             "outlinewidth": 0,
             "ticks": ""
            },
            "colorscale": [
             [
              0,
              "#0d0887"
             ],
             [
              0.1111111111111111,
              "#46039f"
             ],
             [
              0.2222222222222222,
              "#7201a8"
             ],
             [
              0.3333333333333333,
              "#9c179e"
             ],
             [
              0.4444444444444444,
              "#bd3786"
             ],
             [
              0.5555555555555556,
              "#d8576b"
             ],
             [
              0.6666666666666666,
              "#ed7953"
             ],
             [
              0.7777777777777778,
              "#fb9f3a"
             ],
             [
              0.8888888888888888,
              "#fdca26"
             ],
             [
              1,
              "#f0f921"
             ]
            ],
            "type": "histogram2dcontour"
           }
          ],
          "mesh3d": [
           {
            "colorbar": {
             "outlinewidth": 0,
             "ticks": ""
            },
            "type": "mesh3d"
           }
          ],
          "parcoords": [
           {
            "line": {
             "colorbar": {
              "outlinewidth": 0,
              "ticks": ""
             }
            },
            "type": "parcoords"
           }
          ],
          "pie": [
           {
            "automargin": true,
            "type": "pie"
           }
          ],
          "scatter": [
           {
            "fillpattern": {
             "fillmode": "overlay",
             "size": 10,
             "solidity": 0.2
            },
            "type": "scatter"
           }
          ],
          "scatter3d": [
           {
            "line": {
             "colorbar": {
              "outlinewidth": 0,
              "ticks": ""
             }
            },
            "marker": {
             "colorbar": {
              "outlinewidth": 0,
              "ticks": ""
             }
            },
            "type": "scatter3d"
           }
          ],
          "scattercarpet": [
           {
            "marker": {
             "colorbar": {
              "outlinewidth": 0,
              "ticks": ""
             }
            },
            "type": "scattercarpet"
           }
          ],
          "scattergeo": [
           {
            "marker": {
             "colorbar": {
              "outlinewidth": 0,
              "ticks": ""
             }
            },
            "type": "scattergeo"
           }
          ],
          "scattergl": [
           {
            "marker": {
             "colorbar": {
              "outlinewidth": 0,
              "ticks": ""
             }
            },
            "type": "scattergl"
           }
          ],
          "scattermap": [
           {
            "marker": {
             "colorbar": {
              "outlinewidth": 0,
              "ticks": ""
             }
            },
            "type": "scattermap"
           }
          ],
          "scattermapbox": [
           {
            "marker": {
             "colorbar": {
              "outlinewidth": 0,
              "ticks": ""
             }
            },
            "type": "scattermapbox"
           }
          ],
          "scatterpolar": [
           {
            "marker": {
             "colorbar": {
              "outlinewidth": 0,
              "ticks": ""
             }
            },
            "type": "scatterpolar"
           }
          ],
          "scatterpolargl": [
           {
            "marker": {
             "colorbar": {
              "outlinewidth": 0,
              "ticks": ""
             }
            },
            "type": "scatterpolargl"
           }
          ],
          "scatterternary": [
           {
            "marker": {
             "colorbar": {
              "outlinewidth": 0,
              "ticks": ""
             }
            },
            "type": "scatterternary"
           }
          ],
          "surface": [
           {
            "colorbar": {
             "outlinewidth": 0,
             "ticks": ""
            },
            "colorscale": [
             [
              0,
              "#0d0887"
             ],
             [
              0.1111111111111111,
              "#46039f"
             ],
             [
              0.2222222222222222,
              "#7201a8"
             ],
             [
              0.3333333333333333,
              "#9c179e"
             ],
             [
              0.4444444444444444,
              "#bd3786"
             ],
             [
              0.5555555555555556,
              "#d8576b"
             ],
             [
              0.6666666666666666,
              "#ed7953"
             ],
             [
              0.7777777777777778,
              "#fb9f3a"
             ],
             [
              0.8888888888888888,
              "#fdca26"
             ],
             [
              1,
              "#f0f921"
             ]
            ],
            "type": "surface"
           }
          ],
          "table": [
           {
            "cells": {
             "fill": {
              "color": "#EBF0F8"
             },
             "line": {
              "color": "white"
             }
            },
            "header": {
             "fill": {
              "color": "#C8D4E3"
             },
             "line": {
              "color": "white"
             }
            },
            "type": "table"
           }
          ]
         },
         "layout": {
          "annotationdefaults": {
           "arrowcolor": "#2a3f5f",
           "arrowhead": 0,
           "arrowwidth": 1
          },
          "autotypenumbers": "strict",
          "coloraxis": {
           "colorbar": {
            "outlinewidth": 0,
            "ticks": ""
           }
          },
          "colorscale": {
           "diverging": [
            [
             0,
             "#8e0152"
            ],
            [
             0.1,
             "#c51b7d"
            ],
            [
             0.2,
             "#de77ae"
            ],
            [
             0.3,
             "#f1b6da"
            ],
            [
             0.4,
             "#fde0ef"
            ],
            [
             0.5,
             "#f7f7f7"
            ],
            [
             0.6,
             "#e6f5d0"
            ],
            [
             0.7,
             "#b8e186"
            ],
            [
             0.8,
             "#7fbc41"
            ],
            [
             0.9,
             "#4d9221"
            ],
            [
             1,
             "#276419"
            ]
           ],
           "sequential": [
            [
             0,
             "#0d0887"
            ],
            [
             0.1111111111111111,
             "#46039f"
            ],
            [
             0.2222222222222222,
             "#7201a8"
            ],
            [
             0.3333333333333333,
             "#9c179e"
            ],
            [
             0.4444444444444444,
             "#bd3786"
            ],
            [
             0.5555555555555556,
             "#d8576b"
            ],
            [
             0.6666666666666666,
             "#ed7953"
            ],
            [
             0.7777777777777778,
             "#fb9f3a"
            ],
            [
             0.8888888888888888,
             "#fdca26"
            ],
            [
             1,
             "#f0f921"
            ]
           ],
           "sequentialminus": [
            [
             0,
             "#0d0887"
            ],
            [
             0.1111111111111111,
             "#46039f"
            ],
            [
             0.2222222222222222,
             "#7201a8"
            ],
            [
             0.3333333333333333,
             "#9c179e"
            ],
            [
             0.4444444444444444,
             "#bd3786"
            ],
            [
             0.5555555555555556,
             "#d8576b"
            ],
            [
             0.6666666666666666,
             "#ed7953"
            ],
            [
             0.7777777777777778,
             "#fb9f3a"
            ],
            [
             0.8888888888888888,
             "#fdca26"
            ],
            [
             1,
             "#f0f921"
            ]
           ]
          },
          "colorway": [
           "#636efa",
           "#EF553B",
           "#00cc96",
           "#ab63fa",
           "#FFA15A",
           "#19d3f3",
           "#FF6692",
           "#B6E880",
           "#FF97FF",
           "#FECB52"
          ],
          "font": {
           "color": "#2a3f5f"
          },
          "geo": {
           "bgcolor": "white",
           "lakecolor": "white",
           "landcolor": "#E5ECF6",
           "showlakes": true,
           "showland": true,
           "subunitcolor": "white"
          },
          "hoverlabel": {
           "align": "left"
          },
          "hovermode": "closest",
          "mapbox": {
           "style": "light"
          },
          "paper_bgcolor": "white",
          "plot_bgcolor": "#E5ECF6",
          "polar": {
           "angularaxis": {
            "gridcolor": "white",
            "linecolor": "white",
            "ticks": ""
           },
           "bgcolor": "#E5ECF6",
           "radialaxis": {
            "gridcolor": "white",
            "linecolor": "white",
            "ticks": ""
           }
          },
          "scene": {
           "xaxis": {
            "backgroundcolor": "#E5ECF6",
            "gridcolor": "white",
            "gridwidth": 2,
            "linecolor": "white",
            "showbackground": true,
            "ticks": "",
            "zerolinecolor": "white"
           },
           "yaxis": {
            "backgroundcolor": "#E5ECF6",
            "gridcolor": "white",
            "gridwidth": 2,
            "linecolor": "white",
            "showbackground": true,
            "ticks": "",
            "zerolinecolor": "white"
           },
           "zaxis": {
            "backgroundcolor": "#E5ECF6",
            "gridcolor": "white",
            "gridwidth": 2,
            "linecolor": "white",
            "showbackground": true,
            "ticks": "",
            "zerolinecolor": "white"
           }
          },
          "shapedefaults": {
           "line": {
            "color": "#2a3f5f"
           }
          },
          "ternary": {
           "aaxis": {
            "gridcolor": "white",
            "linecolor": "white",
            "ticks": ""
           },
           "baxis": {
            "gridcolor": "white",
            "linecolor": "white",
            "ticks": ""
           },
           "bgcolor": "#E5ECF6",
           "caxis": {
            "gridcolor": "white",
            "linecolor": "white",
            "ticks": ""
           }
          },
          "title": {
           "x": 0.05
          },
          "xaxis": {
           "automargin": true,
           "gridcolor": "white",
           "linecolor": "white",
           "ticks": "",
           "title": {
            "standoff": 15
           },
           "zerolinecolor": "white",
           "zerolinewidth": 2
          },
          "yaxis": {
           "automargin": true,
           "gridcolor": "white",
           "linecolor": "white",
           "ticks": "",
           "title": {
            "standoff": 15
           },
           "zerolinecolor": "white",
           "zerolinewidth": 2
          }
         }
        },
        "title": {
         "text": "Cumulative Wins by IPL Teams Over the Years"
        },
        "updatemenus": [
         {
          "buttons": [
           {
            "args": [
             null,
             {
              "frame": {
               "duration": 500,
               "redraw": false
              },
              "fromcurrent": true,
              "mode": "immediate",
              "transition": {
               "duration": 500,
               "easing": "linear"
              }
             }
            ],
            "label": "&#9654;",
            "method": "animate"
           },
           {
            "args": [
             [
              null
             ],
             {
              "frame": {
               "duration": 0,
               "redraw": false
              },
              "fromcurrent": true,
              "mode": "immediate",
              "transition": {
               "duration": 0,
               "easing": "linear"
              }
             }
            ],
            "label": "&#9724;",
            "method": "animate"
           }
          ],
          "direction": "left",
          "pad": {
           "r": 10,
           "t": 70
          },
          "showactive": false,
          "type": "buttons",
          "x": 0.1,
          "xanchor": "right",
          "y": 0,
          "yanchor": "top"
         }
        ],
        "xaxis": {
         "anchor": "y",
         "categoryarray": [
          "2019",
          "2020/21",
          "2021",
          "2022",
          "2023"
         ],
         "categoryorder": "array",
         "domain": [
          0,
          1
         ],
         "title": {
          "text": "Year"
         }
        },
        "yaxis": {
         "anchor": "x",
         "domain": [
          0,
          1
         ],
         "title": {
          "text": "Total Wins"
         }
        }
       }
      }
     },
     "metadata": {},
     "output_type": "display_data"
    }
   ],
   "source": [
    "import plotly.express as px\n",
    "\n",
    "# Calculate Cumulative Wins\n",
    "team_wins_yearly[\"cumulative_wins\"] = team_wins_yearly.groupby(\"match_winner\")[\"wins\"].cumsum()\n",
    "\n",
    "# Animated Line Chart\n",
    "fig = px.line(\n",
    "    team_wins_yearly, \n",
    "    x=\"season\", \n",
    "    y=\"cumulative_wins\", \n",
    "    color=\"match_winner\",\n",
    "    animation_frame=\"season\",\n",
    "    markers=True,\n",
    "    title=\"Cumulative Wins by IPL Teams Over the Years\",\n",
    "    labels={\"cumulative_wins\": \"Total Wins\", \"season\": \"Year\"},\n",
    "    line_shape=\"spline\"  # Smooth lines\n",
    ")\n",
    "\n",
    "fig.show()\n"
   ]
  },
  {
   "cell_type": "code",
   "execution_count": 16,
   "metadata": {},
   "outputs": [
    {
     "data": {
      "application/vnd.plotly.v1+json": {
       "config": {
        "plotlyServerURL": "https://plot.ly"
       },
       "data": [
        {
         "hovertemplate": "match_winner=Chennai Super Kings<br>season=2019<br>Total Matches Played=%{x}<br>Total Wins=%{marker.size}<extra></extra>",
         "legendgroup": "Chennai Super Kings",
         "marker": {
          "color": "#636efa",
          "size": {
           "bdata": "Cg==",
           "dtype": "i1"
          },
          "sizemode": "area",
          "sizeref": 0.0048,
          "symbol": "circle"
         },
         "mode": "markers",
         "name": "Chennai Super Kings",
         "orientation": "v",
         "showlegend": true,
         "type": "scatter",
         "x": {
          "bdata": "Bg==",
          "dtype": "i1"
         },
         "xaxis": "x",
         "y": {
          "bdata": "Cg==",
          "dtype": "i1"
         },
         "yaxis": "y"
        },
        {
         "hovertemplate": "match_winner=Delhi Capitals<br>season=2019<br>Total Matches Played=%{x}<br>Total Wins=%{marker.size}<extra></extra>",
         "legendgroup": "Delhi Capitals",
         "marker": {
          "color": "#EF553B",
          "size": {
           "bdata": "CQ==",
           "dtype": "i1"
          },
          "sizemode": "area",
          "sizeref": 0.0048,
          "symbol": "circle"
         },
         "mode": "markers",
         "name": "Delhi Capitals",
         "orientation": "v",
         "showlegend": true,
         "type": "scatter",
         "x": {
          "bdata": "Bg==",
          "dtype": "i1"
         },
         "xaxis": "x",
         "y": {
          "bdata": "CQ==",
          "dtype": "i1"
         },
         "yaxis": "y"
        },
        {
         "hovertemplate": "match_winner=Kings XI Punjab<br>season=2019<br>Total Matches Played=%{x}<br>Total Wins=%{marker.size}<extra></extra>",
         "legendgroup": "Kings XI Punjab",
         "marker": {
          "color": "#00cc96",
          "size": {
           "bdata": "Bg==",
           "dtype": "i1"
          },
          "sizemode": "area",
          "sizeref": 0.0048,
          "symbol": "circle"
         },
         "mode": "markers",
         "name": "Kings XI Punjab",
         "orientation": "v",
         "showlegend": true,
         "type": "scatter",
         "x": {
          "bdata": "Bw==",
          "dtype": "i1"
         },
         "xaxis": "x",
         "y": {
          "bdata": "Bg==",
          "dtype": "i1"
         },
         "yaxis": "y"
        },
        {
         "hovertemplate": "match_winner=Kolkata Knight Riders<br>season=2019<br>Total Matches Played=%{x}<br>Total Wins=%{marker.size}<extra></extra>",
         "legendgroup": "Kolkata Knight Riders",
         "marker": {
          "color": "#ab63fa",
          "size": {
           "bdata": "Bg==",
           "dtype": "i1"
          },
          "sizemode": "area",
          "sizeref": 0.0048,
          "symbol": "circle"
         },
         "mode": "markers",
         "name": "Kolkata Knight Riders",
         "orientation": "v",
         "showlegend": true,
         "type": "scatter",
         "x": {
          "bdata": "CQ==",
          "dtype": "i1"
         },
         "xaxis": "x",
         "y": {
          "bdata": "Bg==",
          "dtype": "i1"
         },
         "yaxis": "y"
        },
        {
         "hovertemplate": "match_winner=Mumbai Indians<br>season=2019<br>Total Matches Played=%{x}<br>Total Wins=%{marker.size}<extra></extra>",
         "legendgroup": "Mumbai Indians",
         "marker": {
          "color": "#FFA15A",
          "size": {
           "bdata": "Cg==",
           "dtype": "i1"
          },
          "sizemode": "area",
          "sizeref": 0.0048,
          "symbol": "circle"
         },
         "mode": "markers",
         "name": "Mumbai Indians",
         "orientation": "v",
         "showlegend": true,
         "type": "scatter",
         "x": {
          "bdata": "Cg==",
          "dtype": "i1"
         },
         "xaxis": "x",
         "y": {
          "bdata": "Cg==",
          "dtype": "i1"
         },
         "yaxis": "y"
        },
        {
         "hovertemplate": "match_winner=Rajasthan Royals<br>season=2019<br>Total Matches Played=%{x}<br>Total Wins=%{marker.size}<extra></extra>",
         "legendgroup": "Rajasthan Royals",
         "marker": {
          "color": "#19d3f3",
          "size": {
           "bdata": "BQ==",
           "dtype": "i1"
          },
          "sizemode": "area",
          "sizeref": 0.0048,
          "symbol": "circle"
         },
         "mode": "markers",
         "name": "Rajasthan Royals",
         "orientation": "v",
         "showlegend": true,
         "type": "scatter",
         "x": {
          "bdata": "BQ==",
          "dtype": "i1"
         },
         "xaxis": "x",
         "y": {
          "bdata": "BQ==",
          "dtype": "i1"
         },
         "yaxis": "y"
        },
        {
         "hovertemplate": "match_winner=Royal Challengers Bangalore<br>season=2019<br>Total Matches Played=%{x}<br>Total Wins=%{marker.size}<extra></extra>",
         "legendgroup": "Royal Challengers Bangalore",
         "marker": {
          "color": "#FF6692",
          "size": {
           "bdata": "BQ==",
           "dtype": "i1"
          },
          "sizemode": "area",
          "sizeref": 0.0048,
          "symbol": "circle"
         },
         "mode": "markers",
         "name": "Royal Challengers Bangalore",
         "orientation": "v",
         "showlegend": true,
         "type": "scatter",
         "x": {
          "bdata": "CQ==",
          "dtype": "i1"
         },
         "xaxis": "x",
         "y": {
          "bdata": "BQ==",
          "dtype": "i1"
         },
         "yaxis": "y"
        },
        {
         "hovertemplate": "match_winner=Sunrisers Hyderabad<br>season=2019<br>Total Matches Played=%{x}<br>Total Wins=%{marker.size}<extra></extra>",
         "legendgroup": "Sunrisers Hyderabad",
         "marker": {
          "color": "#B6E880",
          "size": {
           "bdata": "Bg==",
           "dtype": "i1"
          },
          "sizemode": "area",
          "sizeref": 0.0048,
          "symbol": "circle"
         },
         "mode": "markers",
         "name": "Sunrisers Hyderabad",
         "orientation": "v",
         "showlegend": true,
         "type": "scatter",
         "x": {
          "bdata": "CA==",
          "dtype": "i1"
         },
         "xaxis": "x",
         "y": {
          "bdata": "Bg==",
          "dtype": "i1"
         },
         "yaxis": "y"
        }
       ],
       "frames": [
        {
         "data": [
          {
           "hovertemplate": "match_winner=Chennai Super Kings<br>season=2019<br>Total Matches Played=%{x}<br>Total Wins=%{marker.size}<extra></extra>",
           "legendgroup": "Chennai Super Kings",
           "marker": {
            "color": "#636efa",
            "size": {
             "bdata": "Cg==",
             "dtype": "i1"
            },
            "sizemode": "area",
            "sizeref": 0.0048,
            "symbol": "circle"
           },
           "mode": "markers",
           "name": "Chennai Super Kings",
           "orientation": "v",
           "showlegend": true,
           "type": "scatter",
           "x": {
            "bdata": "Bg==",
            "dtype": "i1"
           },
           "xaxis": "x",
           "y": {
            "bdata": "Cg==",
            "dtype": "i1"
           },
           "yaxis": "y"
          },
          {
           "hovertemplate": "match_winner=Delhi Capitals<br>season=2019<br>Total Matches Played=%{x}<br>Total Wins=%{marker.size}<extra></extra>",
           "legendgroup": "Delhi Capitals",
           "marker": {
            "color": "#EF553B",
            "size": {
             "bdata": "CQ==",
             "dtype": "i1"
            },
            "sizemode": "area",
            "sizeref": 0.0048,
            "symbol": "circle"
           },
           "mode": "markers",
           "name": "Delhi Capitals",
           "orientation": "v",
           "showlegend": true,
           "type": "scatter",
           "x": {
            "bdata": "Bg==",
            "dtype": "i1"
           },
           "xaxis": "x",
           "y": {
            "bdata": "CQ==",
            "dtype": "i1"
           },
           "yaxis": "y"
          },
          {
           "hovertemplate": "match_winner=Kings XI Punjab<br>season=2019<br>Total Matches Played=%{x}<br>Total Wins=%{marker.size}<extra></extra>",
           "legendgroup": "Kings XI Punjab",
           "marker": {
            "color": "#00cc96",
            "size": {
             "bdata": "Bg==",
             "dtype": "i1"
            },
            "sizemode": "area",
            "sizeref": 0.0048,
            "symbol": "circle"
           },
           "mode": "markers",
           "name": "Kings XI Punjab",
           "orientation": "v",
           "showlegend": true,
           "type": "scatter",
           "x": {
            "bdata": "Bw==",
            "dtype": "i1"
           },
           "xaxis": "x",
           "y": {
            "bdata": "Bg==",
            "dtype": "i1"
           },
           "yaxis": "y"
          },
          {
           "hovertemplate": "match_winner=Kolkata Knight Riders<br>season=2019<br>Total Matches Played=%{x}<br>Total Wins=%{marker.size}<extra></extra>",
           "legendgroup": "Kolkata Knight Riders",
           "marker": {
            "color": "#ab63fa",
            "size": {
             "bdata": "Bg==",
             "dtype": "i1"
            },
            "sizemode": "area",
            "sizeref": 0.0048,
            "symbol": "circle"
           },
           "mode": "markers",
           "name": "Kolkata Knight Riders",
           "orientation": "v",
           "showlegend": true,
           "type": "scatter",
           "x": {
            "bdata": "CQ==",
            "dtype": "i1"
           },
           "xaxis": "x",
           "y": {
            "bdata": "Bg==",
            "dtype": "i1"
           },
           "yaxis": "y"
          },
          {
           "hovertemplate": "match_winner=Mumbai Indians<br>season=2019<br>Total Matches Played=%{x}<br>Total Wins=%{marker.size}<extra></extra>",
           "legendgroup": "Mumbai Indians",
           "marker": {
            "color": "#FFA15A",
            "size": {
             "bdata": "Cg==",
             "dtype": "i1"
            },
            "sizemode": "area",
            "sizeref": 0.0048,
            "symbol": "circle"
           },
           "mode": "markers",
           "name": "Mumbai Indians",
           "orientation": "v",
           "showlegend": true,
           "type": "scatter",
           "x": {
            "bdata": "Cg==",
            "dtype": "i1"
           },
           "xaxis": "x",
           "y": {
            "bdata": "Cg==",
            "dtype": "i1"
           },
           "yaxis": "y"
          },
          {
           "hovertemplate": "match_winner=Rajasthan Royals<br>season=2019<br>Total Matches Played=%{x}<br>Total Wins=%{marker.size}<extra></extra>",
           "legendgroup": "Rajasthan Royals",
           "marker": {
            "color": "#19d3f3",
            "size": {
             "bdata": "BQ==",
             "dtype": "i1"
            },
            "sizemode": "area",
            "sizeref": 0.0048,
            "symbol": "circle"
           },
           "mode": "markers",
           "name": "Rajasthan Royals",
           "orientation": "v",
           "showlegend": true,
           "type": "scatter",
           "x": {
            "bdata": "BQ==",
            "dtype": "i1"
           },
           "xaxis": "x",
           "y": {
            "bdata": "BQ==",
            "dtype": "i1"
           },
           "yaxis": "y"
          },
          {
           "hovertemplate": "match_winner=Royal Challengers Bangalore<br>season=2019<br>Total Matches Played=%{x}<br>Total Wins=%{marker.size}<extra></extra>",
           "legendgroup": "Royal Challengers Bangalore",
           "marker": {
            "color": "#FF6692",
            "size": {
             "bdata": "BQ==",
             "dtype": "i1"
            },
            "sizemode": "area",
            "sizeref": 0.0048,
            "symbol": "circle"
           },
           "mode": "markers",
           "name": "Royal Challengers Bangalore",
           "orientation": "v",
           "showlegend": true,
           "type": "scatter",
           "x": {
            "bdata": "CQ==",
            "dtype": "i1"
           },
           "xaxis": "x",
           "y": {
            "bdata": "BQ==",
            "dtype": "i1"
           },
           "yaxis": "y"
          },
          {
           "hovertemplate": "match_winner=Sunrisers Hyderabad<br>season=2019<br>Total Matches Played=%{x}<br>Total Wins=%{marker.size}<extra></extra>",
           "legendgroup": "Sunrisers Hyderabad",
           "marker": {
            "color": "#B6E880",
            "size": {
             "bdata": "Bg==",
             "dtype": "i1"
            },
            "sizemode": "area",
            "sizeref": 0.0048,
            "symbol": "circle"
           },
           "mode": "markers",
           "name": "Sunrisers Hyderabad",
           "orientation": "v",
           "showlegend": true,
           "type": "scatter",
           "x": {
            "bdata": "CA==",
            "dtype": "i1"
           },
           "xaxis": "x",
           "y": {
            "bdata": "Bg==",
            "dtype": "i1"
           },
           "yaxis": "y"
          }
         ],
         "name": "2019"
        },
        {
         "data": [
          {
           "hovertemplate": "match_winner=Chennai Super Kings<br>season=2020/21<br>Total Matches Played=%{x}<br>Total Wins=%{marker.size}<extra></extra>",
           "legendgroup": "Chennai Super Kings",
           "marker": {
            "color": "#636efa",
            "size": {
             "bdata": "Bg==",
             "dtype": "i1"
            },
            "sizemode": "area",
            "sizeref": 0.0048,
            "symbol": "circle"
           },
           "mode": "markers",
           "name": "Chennai Super Kings",
           "orientation": "v",
           "showlegend": true,
           "type": "scatter",
           "x": {
            "bdata": "BA==",
            "dtype": "i1"
           },
           "xaxis": "x",
           "y": {
            "bdata": "Bg==",
            "dtype": "i1"
           },
           "yaxis": "y"
          },
          {
           "hovertemplate": "match_winner=Delhi Capitals<br>season=2020/21<br>Total Matches Played=%{x}<br>Total Wins=%{marker.size}<extra></extra>",
           "legendgroup": "Delhi Capitals",
           "marker": {
            "color": "#EF553B",
            "size": {
             "bdata": "CA==",
             "dtype": "i1"
            },
            "sizemode": "area",
            "sizeref": 0.0048,
            "symbol": "circle"
           },
           "mode": "markers",
           "name": "Delhi Capitals",
           "orientation": "v",
           "showlegend": true,
           "type": "scatter",
           "x": {
            "bdata": "Cw==",
            "dtype": "i1"
           },
           "xaxis": "x",
           "y": {
            "bdata": "CA==",
            "dtype": "i1"
           },
           "yaxis": "y"
          },
          {
           "hovertemplate": "match_winner=Kings XI Punjab<br>season=2020/21<br>Total Matches Played=%{x}<br>Total Wins=%{marker.size}<extra></extra>",
           "legendgroup": "Kings XI Punjab",
           "marker": {
            "color": "#00cc96",
            "size": {
             "bdata": "BQ==",
             "dtype": "i1"
            },
            "sizemode": "area",
            "sizeref": 0.0048,
            "symbol": "circle"
           },
           "mode": "markers",
           "name": "Kings XI Punjab",
           "orientation": "v",
           "showlegend": true,
           "type": "scatter",
           "x": {
            "bdata": "Bg==",
            "dtype": "i1"
           },
           "xaxis": "x",
           "y": {
            "bdata": "BQ==",
            "dtype": "i1"
           },
           "yaxis": "y"
          },
          {
           "hovertemplate": "match_winner=Kolkata Knight Riders<br>season=2020/21<br>Total Matches Played=%{x}<br>Total Wins=%{marker.size}<extra></extra>",
           "legendgroup": "Kolkata Knight Riders",
           "marker": {
            "color": "#ab63fa",
            "size": {
             "bdata": "Bg==",
             "dtype": "i1"
            },
            "sizemode": "area",
            "sizeref": 0.0048,
            "symbol": "circle"
           },
           "mode": "markers",
           "name": "Kolkata Knight Riders",
           "orientation": "v",
           "showlegend": true,
           "type": "scatter",
           "x": {
            "bdata": "Cg==",
            "dtype": "i1"
           },
           "xaxis": "x",
           "y": {
            "bdata": "Bg==",
            "dtype": "i1"
           },
           "yaxis": "y"
          },
          {
           "hovertemplate": "match_winner=Mumbai Indians<br>season=2020/21<br>Total Matches Played=%{x}<br>Total Wins=%{marker.size}<extra></extra>",
           "legendgroup": "Mumbai Indians",
           "marker": {
            "color": "#FFA15A",
            "size": {
             "bdata": "Cw==",
             "dtype": "i1"
            },
            "sizemode": "area",
            "sizeref": 0.0048,
            "symbol": "circle"
           },
           "mode": "markers",
           "name": "Mumbai Indians",
           "orientation": "v",
           "showlegend": true,
           "type": "scatter",
           "x": {
            "bdata": "CQ==",
            "dtype": "i1"
           },
           "xaxis": "x",
           "y": {
            "bdata": "Cw==",
            "dtype": "i1"
           },
           "yaxis": "y"
          },
          {
           "hovertemplate": "match_winner=Rajasthan Royals<br>season=2020/21<br>Total Matches Played=%{x}<br>Total Wins=%{marker.size}<extra></extra>",
           "legendgroup": "Rajasthan Royals",
           "marker": {
            "color": "#19d3f3",
            "size": {
             "bdata": "Bg==",
             "dtype": "i1"
            },
            "sizemode": "area",
            "sizeref": 0.0048,
            "symbol": "circle"
           },
           "mode": "markers",
           "name": "Rajasthan Royals",
           "orientation": "v",
           "showlegend": true,
           "type": "scatter",
           "x": {
            "bdata": "BA==",
            "dtype": "i1"
           },
           "xaxis": "x",
           "y": {
            "bdata": "Bg==",
            "dtype": "i1"
           },
           "yaxis": "y"
          },
          {
           "hovertemplate": "match_winner=Royal Challengers Bangalore<br>season=2020/21<br>Total Matches Played=%{x}<br>Total Wins=%{marker.size}<extra></extra>",
           "legendgroup": "Royal Challengers Bangalore",
           "marker": {
            "color": "#FF6692",
            "size": {
             "bdata": "Bg==",
             "dtype": "i1"
            },
            "sizemode": "area",
            "sizeref": 0.0048,
            "symbol": "circle"
           },
           "mode": "markers",
           "name": "Royal Challengers Bangalore",
           "orientation": "v",
           "showlegend": true,
           "type": "scatter",
           "x": {
            "bdata": "Cg==",
            "dtype": "i1"
           },
           "xaxis": "x",
           "y": {
            "bdata": "Bg==",
            "dtype": "i1"
           },
           "yaxis": "y"
          },
          {
           "hovertemplate": "match_winner=Sunrisers Hyderabad<br>season=2020/21<br>Total Matches Played=%{x}<br>Total Wins=%{marker.size}<extra></extra>",
           "legendgroup": "Sunrisers Hyderabad",
           "marker": {
            "color": "#B6E880",
            "size": {
             "bdata": "CA==",
             "dtype": "i1"
            },
            "sizemode": "area",
            "sizeref": 0.0048,
            "symbol": "circle"
           },
           "mode": "markers",
           "name": "Sunrisers Hyderabad",
           "orientation": "v",
           "showlegend": true,
           "type": "scatter",
           "x": {
            "bdata": "Bg==",
            "dtype": "i1"
           },
           "xaxis": "x",
           "y": {
            "bdata": "CA==",
            "dtype": "i1"
           },
           "yaxis": "y"
          }
         ],
         "name": "2020/21"
        },
        {
         "data": [
          {
           "hovertemplate": "match_winner=Chennai Super Kings<br>season=2021<br>Total Matches Played=%{x}<br>Total Wins=%{marker.size}<extra></extra>",
           "legendgroup": "Chennai Super Kings",
           "marker": {
            "color": "#636efa",
            "size": {
             "bdata": "Cw==",
             "dtype": "i1"
            },
            "sizemode": "area",
            "sizeref": 0.0048,
            "symbol": "circle"
           },
           "mode": "markers",
           "name": "Chennai Super Kings",
           "orientation": "v",
           "showlegend": true,
           "type": "scatter",
           "x": {
            "bdata": "Cg==",
            "dtype": "i1"
           },
           "xaxis": "x",
           "y": {
            "bdata": "Cw==",
            "dtype": "i1"
           },
           "yaxis": "y"
          },
          {
           "hovertemplate": "match_winner=Delhi Capitals<br>season=2021<br>Total Matches Played=%{x}<br>Total Wins=%{marker.size}<extra></extra>",
           "legendgroup": "Delhi Capitals",
           "marker": {
            "color": "#EF553B",
            "size": {
             "bdata": "CQ==",
             "dtype": "i1"
            },
            "sizemode": "area",
            "sizeref": 0.0048,
            "symbol": "circle"
           },
           "mode": "markers",
           "name": "Delhi Capitals",
           "orientation": "v",
           "showlegend": true,
           "type": "scatter",
           "x": {
            "bdata": "Bw==",
            "dtype": "i1"
           },
           "xaxis": "x",
           "y": {
            "bdata": "CQ==",
            "dtype": "i1"
           },
           "yaxis": "y"
          },
          {
           "hovertemplate": "match_winner=Kolkata Knight Riders<br>season=2021<br>Total Matches Played=%{x}<br>Total Wins=%{marker.size}<extra></extra>",
           "legendgroup": "Kolkata Knight Riders",
           "marker": {
            "color": "#ab63fa",
            "size": {
             "bdata": "CQ==",
             "dtype": "i1"
            },
            "sizemode": "area",
            "sizeref": 0.0048,
            "symbol": "circle"
           },
           "mode": "markers",
           "name": "Kolkata Knight Riders",
           "orientation": "v",
           "showlegend": true,
           "type": "scatter",
           "x": {
            "bdata": "Bg==",
            "dtype": "i1"
           },
           "xaxis": "x",
           "y": {
            "bdata": "CQ==",
            "dtype": "i1"
           },
           "yaxis": "y"
          },
          {
           "hovertemplate": "match_winner=Mumbai Indians<br>season=2021<br>Total Matches Played=%{x}<br>Total Wins=%{marker.size}<extra></extra>",
           "legendgroup": "Mumbai Indians",
           "marker": {
            "color": "#FFA15A",
            "size": {
             "bdata": "Bw==",
             "dtype": "i1"
            },
            "sizemode": "area",
            "sizeref": 0.0048,
            "symbol": "circle"
           },
           "mode": "markers",
           "name": "Mumbai Indians",
           "orientation": "v",
           "showlegend": true,
           "type": "scatter",
           "x": {
            "bdata": "CA==",
            "dtype": "i1"
           },
           "xaxis": "x",
           "y": {
            "bdata": "Bw==",
            "dtype": "i1"
           },
           "yaxis": "y"
          },
          {
           "hovertemplate": "match_winner=Rajasthan Royals<br>season=2021<br>Total Matches Played=%{x}<br>Total Wins=%{marker.size}<extra></extra>",
           "legendgroup": "Rajasthan Royals",
           "marker": {
            "color": "#19d3f3",
            "size": {
             "bdata": "BQ==",
             "dtype": "i1"
            },
            "sizemode": "area",
            "sizeref": 0.0048,
            "symbol": "circle"
           },
           "mode": "markers",
           "name": "Rajasthan Royals",
           "orientation": "v",
           "showlegend": true,
           "type": "scatter",
           "x": {
            "bdata": "Bw==",
            "dtype": "i1"
           },
           "xaxis": "x",
           "y": {
            "bdata": "BQ==",
            "dtype": "i1"
           },
           "yaxis": "y"
          },
          {
           "hovertemplate": "match_winner=Royal Challengers Bangalore<br>season=2021<br>Total Matches Played=%{x}<br>Total Wins=%{marker.size}<extra></extra>",
           "legendgroup": "Royal Challengers Bangalore",
           "marker": {
            "color": "#FF6692",
            "size": {
             "bdata": "CQ==",
             "dtype": "i1"
            },
            "sizemode": "area",
            "sizeref": 0.0048,
            "symbol": "circle"
           },
           "mode": "markers",
           "name": "Royal Challengers Bangalore",
           "orientation": "v",
           "showlegend": true,
           "type": "scatter",
           "x": {
            "bdata": "CA==",
            "dtype": "i1"
           },
           "xaxis": "x",
           "y": {
            "bdata": "CQ==",
            "dtype": "i1"
           },
           "yaxis": "y"
          },
          {
           "hovertemplate": "match_winner=Sunrisers Hyderabad<br>season=2021<br>Total Matches Played=%{x}<br>Total Wins=%{marker.size}<extra></extra>",
           "legendgroup": "Sunrisers Hyderabad",
           "marker": {
            "color": "#B6E880",
            "size": {
             "bdata": "Aw==",
             "dtype": "i1"
            },
            "sizemode": "area",
            "sizeref": 0.0048,
            "symbol": "circle"
           },
           "mode": "markers",
           "name": "Sunrisers Hyderabad",
           "orientation": "v",
           "showlegend": true,
           "type": "scatter",
           "x": {
            "bdata": "BQ==",
            "dtype": "i1"
           },
           "xaxis": "x",
           "y": {
            "bdata": "Aw==",
            "dtype": "i1"
           },
           "yaxis": "y"
          },
          {
           "hovertemplate": "match_winner=Punjab Kings<br>season=2021<br>Total Matches Played=%{x}<br>Total Wins=%{marker.size}<extra></extra>",
           "legendgroup": "Punjab Kings",
           "marker": {
            "color": "#FF97FF",
            "size": {
             "bdata": "Bg==",
             "dtype": "i1"
            },
            "sizemode": "area",
            "sizeref": 0.0048,
            "symbol": "circle"
           },
           "mode": "markers",
           "name": "Punjab Kings",
           "orientation": "v",
           "showlegend": true,
           "type": "scatter",
           "x": {
            "bdata": "CQ==",
            "dtype": "i1"
           },
           "xaxis": "x",
           "y": {
            "bdata": "Bg==",
            "dtype": "i1"
           },
           "yaxis": "y"
          }
         ],
         "name": "2021"
        },
        {
         "data": [
          {
           "hovertemplate": "match_winner=Chennai Super Kings<br>season=2022<br>Total Matches Played=%{x}<br>Total Wins=%{marker.size}<extra></extra>",
           "legendgroup": "Chennai Super Kings",
           "marker": {
            "color": "#636efa",
            "size": {
             "bdata": "BA==",
             "dtype": "i1"
            },
            "sizemode": "area",
            "sizeref": 0.0048,
            "symbol": "circle"
           },
           "mode": "markers",
           "name": "Chennai Super Kings",
           "orientation": "v",
           "showlegend": true,
           "type": "scatter",
           "x": {
            "bdata": "Cg==",
            "dtype": "i1"
           },
           "xaxis": "x",
           "y": {
            "bdata": "BA==",
            "dtype": "i1"
           },
           "yaxis": "y"
          },
          {
           "hovertemplate": "match_winner=Delhi Capitals<br>season=2022<br>Total Matches Played=%{x}<br>Total Wins=%{marker.size}<extra></extra>",
           "legendgroup": "Delhi Capitals",
           "marker": {
            "color": "#EF553B",
            "size": {
             "bdata": "Bw==",
             "dtype": "i1"
            },
            "sizemode": "area",
            "sizeref": 0.0048,
            "symbol": "circle"
           },
           "mode": "markers",
           "name": "Delhi Capitals",
           "orientation": "v",
           "showlegend": true,
           "type": "scatter",
           "x": {
            "bdata": "BQ==",
            "dtype": "i1"
           },
           "xaxis": "x",
           "y": {
            "bdata": "Bw==",
            "dtype": "i1"
           },
           "yaxis": "y"
          },
          {
           "hovertemplate": "match_winner=Kolkata Knight Riders<br>season=2022<br>Total Matches Played=%{x}<br>Total Wins=%{marker.size}<extra></extra>",
           "legendgroup": "Kolkata Knight Riders",
           "marker": {
            "color": "#ab63fa",
            "size": {
             "bdata": "Bg==",
             "dtype": "i1"
            },
            "sizemode": "area",
            "sizeref": 0.0048,
            "symbol": "circle"
           },
           "mode": "markers",
           "name": "Kolkata Knight Riders",
           "orientation": "v",
           "showlegend": true,
           "type": "scatter",
           "x": {
            "bdata": "BQ==",
            "dtype": "i1"
           },
           "xaxis": "x",
           "y": {
            "bdata": "Bg==",
            "dtype": "i1"
           },
           "yaxis": "y"
          },
          {
           "hovertemplate": "match_winner=Mumbai Indians<br>season=2022<br>Total Matches Played=%{x}<br>Total Wins=%{marker.size}<extra></extra>",
           "legendgroup": "Mumbai Indians",
           "marker": {
            "color": "#FFA15A",
            "size": {
             "bdata": "BA==",
             "dtype": "i1"
            },
            "sizemode": "area",
            "sizeref": 0.0048,
            "symbol": "circle"
           },
           "mode": "markers",
           "name": "Mumbai Indians",
           "orientation": "v",
           "showlegend": true,
           "type": "scatter",
           "x": {
            "bdata": "BQ==",
            "dtype": "i1"
           },
           "xaxis": "x",
           "y": {
            "bdata": "BA==",
            "dtype": "i1"
           },
           "yaxis": "y"
          },
          {
           "hovertemplate": "match_winner=Rajasthan Royals<br>season=2022<br>Total Matches Played=%{x}<br>Total Wins=%{marker.size}<extra></extra>",
           "legendgroup": "Rajasthan Royals",
           "marker": {
            "color": "#19d3f3",
            "size": {
             "bdata": "Cg==",
             "dtype": "i1"
            },
            "sizemode": "area",
            "sizeref": 0.0048,
            "symbol": "circle"
           },
           "mode": "markers",
           "name": "Rajasthan Royals",
           "orientation": "v",
           "showlegend": true,
           "type": "scatter",
           "x": {
            "bdata": "DQ==",
            "dtype": "i1"
           },
           "xaxis": "x",
           "y": {
            "bdata": "Cg==",
            "dtype": "i1"
           },
           "yaxis": "y"
          },
          {
           "hovertemplate": "match_winner=Royal Challengers Bangalore<br>season=2022<br>Total Matches Played=%{x}<br>Total Wins=%{marker.size}<extra></extra>",
           "legendgroup": "Royal Challengers Bangalore",
           "marker": {
            "color": "#FF6692",
            "size": {
             "bdata": "CQ==",
             "dtype": "i1"
            },
            "sizemode": "area",
            "sizeref": 0.0048,
            "symbol": "circle"
           },
           "mode": "markers",
           "name": "Royal Challengers Bangalore",
           "orientation": "v",
           "showlegend": true,
           "type": "scatter",
           "x": {
            "bdata": "CQ==",
            "dtype": "i1"
           },
           "xaxis": "x",
           "y": {
            "bdata": "CQ==",
            "dtype": "i1"
           },
           "yaxis": "y"
          },
          {
           "hovertemplate": "match_winner=Sunrisers Hyderabad<br>season=2022<br>Total Matches Played=%{x}<br>Total Wins=%{marker.size}<extra></extra>",
           "legendgroup": "Sunrisers Hyderabad",
           "marker": {
            "color": "#B6E880",
            "size": {
             "bdata": "Bg==",
             "dtype": "i1"
            },
            "sizemode": "area",
            "sizeref": 0.0048,
            "symbol": "circle"
           },
           "mode": "markers",
           "name": "Sunrisers Hyderabad",
           "orientation": "v",
           "showlegend": true,
           "type": "scatter",
           "x": {
            "bdata": "Aw==",
            "dtype": "i1"
           },
           "xaxis": "x",
           "y": {
            "bdata": "Bg==",
            "dtype": "i1"
           },
           "yaxis": "y"
          },
          {
           "hovertemplate": "match_winner=Punjab Kings<br>season=2022<br>Total Matches Played=%{x}<br>Total Wins=%{marker.size}<extra></extra>",
           "legendgroup": "Punjab Kings",
           "marker": {
            "color": "#FF97FF",
            "size": {
             "bdata": "Bw==",
             "dtype": "i1"
            },
            "sizemode": "area",
            "sizeref": 0.0048,
            "symbol": "circle"
           },
           "mode": "markers",
           "name": "Punjab Kings",
           "orientation": "v",
           "showlegend": true,
           "type": "scatter",
           "x": {
            "bdata": "CQ==",
            "dtype": "i1"
           },
           "xaxis": "x",
           "y": {
            "bdata": "Bw==",
            "dtype": "i1"
           },
           "yaxis": "y"
          },
          {
           "hovertemplate": "match_winner=Gujarat Titans<br>season=2022<br>Total Matches Played=%{x}<br>Total Wins=%{marker.size}<extra></extra>",
           "legendgroup": "Gujarat Titans",
           "marker": {
            "color": "#FECB52",
            "size": {
             "bdata": "DA==",
             "dtype": "i1"
            },
            "sizemode": "area",
            "sizeref": 0.0048,
            "symbol": "circle"
           },
           "mode": "markers",
           "name": "Gujarat Titans",
           "orientation": "v",
           "showlegend": true,
           "type": "scatter",
           "x": {
            "bdata": "Bw==",
            "dtype": "i1"
           },
           "xaxis": "x",
           "y": {
            "bdata": "DA==",
            "dtype": "i1"
           },
           "yaxis": "y"
          },
          {
           "hovertemplate": "match_winner=Lucknow Super Giants<br>season=2022<br>Total Matches Played=%{x}<br>Total Wins=%{marker.size}<extra></extra>",
           "legendgroup": "Lucknow Super Giants",
           "marker": {
            "color": "#636efa",
            "size": {
             "bdata": "CQ==",
             "dtype": "i1"
            },
            "sizemode": "area",
            "sizeref": 0.0048,
            "symbol": "circle"
           },
           "mode": "markers",
           "name": "Lucknow Super Giants",
           "orientation": "v",
           "showlegend": true,
           "type": "scatter",
           "x": {
            "bdata": "CA==",
            "dtype": "i1"
           },
           "xaxis": "x",
           "y": {
            "bdata": "CQ==",
            "dtype": "i1"
           },
           "yaxis": "y"
          }
         ],
         "name": "2022"
        },
        {
         "data": [
          {
           "hovertemplate": "match_winner=Chennai Super Kings<br>season=2023<br>Total Matches Played=%{x}<br>Total Wins=%{marker.size}<extra></extra>",
           "legendgroup": "Chennai Super Kings",
           "marker": {
            "color": "#636efa",
            "size": {
             "bdata": "Cg==",
             "dtype": "i1"
            },
            "sizemode": "area",
            "sizeref": 0.0048,
            "symbol": "circle"
           },
           "mode": "markers",
           "name": "Chennai Super Kings",
           "orientation": "v",
           "showlegend": true,
           "type": "scatter",
           "x": {
            "bdata": "CQ==",
            "dtype": "i1"
           },
           "xaxis": "x",
           "y": {
            "bdata": "Cg==",
            "dtype": "i1"
           },
           "yaxis": "y"
          },
          {
           "hovertemplate": "match_winner=Delhi Capitals<br>season=2023<br>Total Matches Played=%{x}<br>Total Wins=%{marker.size}<extra></extra>",
           "legendgroup": "Delhi Capitals",
           "marker": {
            "color": "#EF553B",
            "size": {
             "bdata": "BQ==",
             "dtype": "i1"
            },
            "sizemode": "area",
            "sizeref": 0.0048,
            "symbol": "circle"
           },
           "mode": "markers",
           "name": "Delhi Capitals",
           "orientation": "v",
           "showlegend": true,
           "type": "scatter",
           "x": {
            "bdata": "BQ==",
            "dtype": "i1"
           },
           "xaxis": "x",
           "y": {
            "bdata": "BQ==",
            "dtype": "i1"
           },
           "yaxis": "y"
          },
          {
           "hovertemplate": "match_winner=Kolkata Knight Riders<br>season=2023<br>Total Matches Played=%{x}<br>Total Wins=%{marker.size}<extra></extra>",
           "legendgroup": "Kolkata Knight Riders",
           "marker": {
            "color": "#ab63fa",
            "size": {
             "bdata": "Bg==",
             "dtype": "i1"
            },
            "sizemode": "area",
            "sizeref": 0.0048,
            "symbol": "circle"
           },
           "mode": "markers",
           "name": "Kolkata Knight Riders",
           "orientation": "v",
           "showlegend": true,
           "type": "scatter",
           "x": {
            "bdata": "Bw==",
            "dtype": "i1"
           },
           "xaxis": "x",
           "y": {
            "bdata": "Bg==",
            "dtype": "i1"
           },
           "yaxis": "y"
          },
          {
           "hovertemplate": "match_winner=Mumbai Indians<br>season=2023<br>Total Matches Played=%{x}<br>Total Wins=%{marker.size}<extra></extra>",
           "legendgroup": "Mumbai Indians",
           "marker": {
            "color": "#FFA15A",
            "size": {
             "bdata": "CQ==",
             "dtype": "i1"
            },
            "sizemode": "area",
            "sizeref": 0.0048,
            "symbol": "circle"
           },
           "mode": "markers",
           "name": "Mumbai Indians",
           "orientation": "v",
           "showlegend": true,
           "type": "scatter",
           "x": {
            "bdata": "Bg==",
            "dtype": "i1"
           },
           "xaxis": "x",
           "y": {
            "bdata": "CQ==",
            "dtype": "i1"
           },
           "yaxis": "y"
          },
          {
           "hovertemplate": "match_winner=Rajasthan Royals<br>season=2023<br>Total Matches Played=%{x}<br>Total Wins=%{marker.size}<extra></extra>",
           "legendgroup": "Rajasthan Royals",
           "marker": {
            "color": "#19d3f3",
            "size": {
             "bdata": "Bw==",
             "dtype": "i1"
            },
            "sizemode": "area",
            "sizeref": 0.0048,
            "symbol": "circle"
           },
           "mode": "markers",
           "name": "Rajasthan Royals",
           "orientation": "v",
           "showlegend": true,
           "type": "scatter",
           "x": {
            "bdata": "Bw==",
            "dtype": "i1"
           },
           "xaxis": "x",
           "y": {
            "bdata": "Bw==",
            "dtype": "i1"
           },
           "yaxis": "y"
          },
          {
           "hovertemplate": "match_winner=Royal Challengers Bangalore<br>season=2023<br>Total Matches Played=%{x}<br>Total Wins=%{marker.size}<extra></extra>",
           "legendgroup": "Royal Challengers Bangalore",
           "marker": {
            "color": "#FF6692",
            "size": {
             "bdata": "Bw==",
             "dtype": "i1"
            },
            "sizemode": "area",
            "sizeref": 0.0048,
            "symbol": "circle"
           },
           "mode": "markers",
           "name": "Royal Challengers Bangalore",
           "orientation": "v",
           "showlegend": true,
           "type": "scatter",
           "x": {
            "bdata": "CQ==",
            "dtype": "i1"
           },
           "xaxis": "x",
           "y": {
            "bdata": "Bw==",
            "dtype": "i1"
           },
           "yaxis": "y"
          },
          {
           "hovertemplate": "match_winner=Sunrisers Hyderabad<br>season=2023<br>Total Matches Played=%{x}<br>Total Wins=%{marker.size}<extra></extra>",
           "legendgroup": "Sunrisers Hyderabad",
           "marker": {
            "color": "#B6E880",
            "size": {
             "bdata": "BA==",
             "dtype": "i1"
            },
            "sizemode": "area",
            "sizeref": 0.0048,
            "symbol": "circle"
           },
           "mode": "markers",
           "name": "Sunrisers Hyderabad",
           "orientation": "v",
           "showlegend": true,
           "type": "scatter",
           "x": {
            "bdata": "Bw==",
            "dtype": "i1"
           },
           "xaxis": "x",
           "y": {
            "bdata": "BA==",
            "dtype": "i1"
           },
           "yaxis": "y"
          },
          {
           "hovertemplate": "match_winner=Punjab Kings<br>season=2023<br>Total Matches Played=%{x}<br>Total Wins=%{marker.size}<extra></extra>",
           "legendgroup": "Punjab Kings",
           "marker": {
            "color": "#FF97FF",
            "size": {
             "bdata": "Bg==",
             "dtype": "i1"
            },
            "sizemode": "area",
            "sizeref": 0.0048,
            "symbol": "circle"
           },
           "mode": "markers",
           "name": "Punjab Kings",
           "orientation": "v",
           "showlegend": true,
           "type": "scatter",
           "x": {
            "bdata": "CQ==",
            "dtype": "i1"
           },
           "xaxis": "x",
           "y": {
            "bdata": "Bg==",
            "dtype": "i1"
           },
           "yaxis": "y"
          },
          {
           "hovertemplate": "match_winner=Gujarat Titans<br>season=2023<br>Total Matches Played=%{x}<br>Total Wins=%{marker.size}<extra></extra>",
           "legendgroup": "Gujarat Titans",
           "marker": {
            "color": "#FECB52",
            "size": {
             "bdata": "Cw==",
             "dtype": "i1"
            },
            "sizemode": "area",
            "sizeref": 0.0048,
            "symbol": "circle"
           },
           "mode": "markers",
           "name": "Gujarat Titans",
           "orientation": "v",
           "showlegend": true,
           "type": "scatter",
           "x": {
            "bdata": "CA==",
            "dtype": "i1"
           },
           "xaxis": "x",
           "y": {
            "bdata": "Cw==",
            "dtype": "i1"
           },
           "yaxis": "y"
          },
          {
           "hovertemplate": "match_winner=Lucknow Super Giants<br>season=2023<br>Total Matches Played=%{x}<br>Total Wins=%{marker.size}<extra></extra>",
           "legendgroup": "Lucknow Super Giants",
           "marker": {
            "color": "#636efa",
            "size": {
             "bdata": "CA==",
             "dtype": "i1"
            },
            "sizemode": "area",
            "sizeref": 0.0048,
            "symbol": "circle"
           },
           "mode": "markers",
           "name": "Lucknow Super Giants",
           "orientation": "v",
           "showlegend": true,
           "type": "scatter",
           "x": {
            "bdata": "Bw==",
            "dtype": "i1"
           },
           "xaxis": "x",
           "y": {
            "bdata": "CA==",
            "dtype": "i1"
           },
           "yaxis": "y"
          }
         ],
         "name": "2023"
        }
       ],
       "layout": {
        "legend": {
         "itemsizing": "constant",
         "title": {
          "text": "match_winner"
         },
         "tracegroupgap": 0
        },
        "sliders": [
         {
          "active": 0,
          "currentvalue": {
           "prefix": "season="
          },
          "len": 0.9,
          "pad": {
           "b": 10,
           "t": 60
          },
          "steps": [
           {
            "args": [
             [
              "2019"
             ],
             {
              "frame": {
               "duration": 0,
               "redraw": false
              },
              "fromcurrent": true,
              "mode": "immediate",
              "transition": {
               "duration": 0,
               "easing": "linear"
              }
             }
            ],
            "label": "2019",
            "method": "animate"
           },
           {
            "args": [
             [
              "2020/21"
             ],
             {
              "frame": {
               "duration": 0,
               "redraw": false
              },
              "fromcurrent": true,
              "mode": "immediate",
              "transition": {
               "duration": 0,
               "easing": "linear"
              }
             }
            ],
            "label": "2020/21",
            "method": "animate"
           },
           {
            "args": [
             [
              "2021"
             ],
             {
              "frame": {
               "duration": 0,
               "redraw": false
              },
              "fromcurrent": true,
              "mode": "immediate",
              "transition": {
               "duration": 0,
               "easing": "linear"
              }
             }
            ],
            "label": "2021",
            "method": "animate"
           },
           {
            "args": [
             [
              "2022"
             ],
             {
              "frame": {
               "duration": 0,
               "redraw": false
              },
              "fromcurrent": true,
              "mode": "immediate",
              "transition": {
               "duration": 0,
               "easing": "linear"
              }
             }
            ],
            "label": "2022",
            "method": "animate"
           },
           {
            "args": [
             [
              "2023"
             ],
             {
              "frame": {
               "duration": 0,
               "redraw": false
              },
              "fromcurrent": true,
              "mode": "immediate",
              "transition": {
               "duration": 0,
               "easing": "linear"
              }
             }
            ],
            "label": "2023",
            "method": "animate"
           }
          ],
          "x": 0.1,
          "xanchor": "left",
          "y": 0,
          "yanchor": "top"
         }
        ],
        "template": {
         "data": {
          "bar": [
           {
            "error_x": {
             "color": "#2a3f5f"
            },
            "error_y": {
             "color": "#2a3f5f"
            },
            "marker": {
             "line": {
              "color": "#E5ECF6",
              "width": 0.5
             },
             "pattern": {
              "fillmode": "overlay",
              "size": 10,
              "solidity": 0.2
             }
            },
            "type": "bar"
           }
          ],
          "barpolar": [
           {
            "marker": {
             "line": {
              "color": "#E5ECF6",
              "width": 0.5
             },
             "pattern": {
              "fillmode": "overlay",
              "size": 10,
              "solidity": 0.2
             }
            },
            "type": "barpolar"
           }
          ],
          "carpet": [
           {
            "aaxis": {
             "endlinecolor": "#2a3f5f",
             "gridcolor": "white",
             "linecolor": "white",
             "minorgridcolor": "white",
             "startlinecolor": "#2a3f5f"
            },
            "baxis": {
             "endlinecolor": "#2a3f5f",
             "gridcolor": "white",
             "linecolor": "white",
             "minorgridcolor": "white",
             "startlinecolor": "#2a3f5f"
            },
            "type": "carpet"
           }
          ],
          "choropleth": [
           {
            "colorbar": {
             "outlinewidth": 0,
             "ticks": ""
            },
            "type": "choropleth"
           }
          ],
          "contour": [
           {
            "colorbar": {
             "outlinewidth": 0,
             "ticks": ""
            },
            "colorscale": [
             [
              0,
              "#0d0887"
             ],
             [
              0.1111111111111111,
              "#46039f"
             ],
             [
              0.2222222222222222,
              "#7201a8"
             ],
             [
              0.3333333333333333,
              "#9c179e"
             ],
             [
              0.4444444444444444,
              "#bd3786"
             ],
             [
              0.5555555555555556,
              "#d8576b"
             ],
             [
              0.6666666666666666,
              "#ed7953"
             ],
             [
              0.7777777777777778,
              "#fb9f3a"
             ],
             [
              0.8888888888888888,
              "#fdca26"
             ],
             [
              1,
              "#f0f921"
             ]
            ],
            "type": "contour"
           }
          ],
          "contourcarpet": [
           {
            "colorbar": {
             "outlinewidth": 0,
             "ticks": ""
            },
            "type": "contourcarpet"
           }
          ],
          "heatmap": [
           {
            "colorbar": {
             "outlinewidth": 0,
             "ticks": ""
            },
            "colorscale": [
             [
              0,
              "#0d0887"
             ],
             [
              0.1111111111111111,
              "#46039f"
             ],
             [
              0.2222222222222222,
              "#7201a8"
             ],
             [
              0.3333333333333333,
              "#9c179e"
             ],
             [
              0.4444444444444444,
              "#bd3786"
             ],
             [
              0.5555555555555556,
              "#d8576b"
             ],
             [
              0.6666666666666666,
              "#ed7953"
             ],
             [
              0.7777777777777778,
              "#fb9f3a"
             ],
             [
              0.8888888888888888,
              "#fdca26"
             ],
             [
              1,
              "#f0f921"
             ]
            ],
            "type": "heatmap"
           }
          ],
          "histogram": [
           {
            "marker": {
             "pattern": {
              "fillmode": "overlay",
              "size": 10,
              "solidity": 0.2
             }
            },
            "type": "histogram"
           }
          ],
          "histogram2d": [
           {
            "colorbar": {
             "outlinewidth": 0,
             "ticks": ""
            },
            "colorscale": [
             [
              0,
              "#0d0887"
             ],
             [
              0.1111111111111111,
              "#46039f"
             ],
             [
              0.2222222222222222,
              "#7201a8"
             ],
             [
              0.3333333333333333,
              "#9c179e"
             ],
             [
              0.4444444444444444,
              "#bd3786"
             ],
             [
              0.5555555555555556,
              "#d8576b"
             ],
             [
              0.6666666666666666,
              "#ed7953"
             ],
             [
              0.7777777777777778,
              "#fb9f3a"
             ],
             [
              0.8888888888888888,
              "#fdca26"
             ],
             [
              1,
              "#f0f921"
             ]
            ],
            "type": "histogram2d"
           }
          ],
          "histogram2dcontour": [
           {
            "colorbar": {
             "outlinewidth": 0,
             "ticks": ""
            },
            "colorscale": [
             [
              0,
              "#0d0887"
             ],
             [
              0.1111111111111111,
              "#46039f"
             ],
             [
              0.2222222222222222,
              "#7201a8"
             ],
             [
              0.3333333333333333,
              "#9c179e"
             ],
             [
              0.4444444444444444,
              "#bd3786"
             ],
             [
              0.5555555555555556,
              "#d8576b"
             ],
             [
              0.6666666666666666,
              "#ed7953"
             ],
             [
              0.7777777777777778,
              "#fb9f3a"
             ],
             [
              0.8888888888888888,
              "#fdca26"
             ],
             [
              1,
              "#f0f921"
             ]
            ],
            "type": "histogram2dcontour"
           }
          ],
          "mesh3d": [
           {
            "colorbar": {
             "outlinewidth": 0,
             "ticks": ""
            },
            "type": "mesh3d"
           }
          ],
          "parcoords": [
           {
            "line": {
             "colorbar": {
              "outlinewidth": 0,
              "ticks": ""
             }
            },
            "type": "parcoords"
           }
          ],
          "pie": [
           {
            "automargin": true,
            "type": "pie"
           }
          ],
          "scatter": [
           {
            "fillpattern": {
             "fillmode": "overlay",
             "size": 10,
             "solidity": 0.2
            },
            "type": "scatter"
           }
          ],
          "scatter3d": [
           {
            "line": {
             "colorbar": {
              "outlinewidth": 0,
              "ticks": ""
             }
            },
            "marker": {
             "colorbar": {
              "outlinewidth": 0,
              "ticks": ""
             }
            },
            "type": "scatter3d"
           }
          ],
          "scattercarpet": [
           {
            "marker": {
             "colorbar": {
              "outlinewidth": 0,
              "ticks": ""
             }
            },
            "type": "scattercarpet"
           }
          ],
          "scattergeo": [
           {
            "marker": {
             "colorbar": {
              "outlinewidth": 0,
              "ticks": ""
             }
            },
            "type": "scattergeo"
           }
          ],
          "scattergl": [
           {
            "marker": {
             "colorbar": {
              "outlinewidth": 0,
              "ticks": ""
             }
            },
            "type": "scattergl"
           }
          ],
          "scattermap": [
           {
            "marker": {
             "colorbar": {
              "outlinewidth": 0,
              "ticks": ""
             }
            },
            "type": "scattermap"
           }
          ],
          "scattermapbox": [
           {
            "marker": {
             "colorbar": {
              "outlinewidth": 0,
              "ticks": ""
             }
            },
            "type": "scattermapbox"
           }
          ],
          "scatterpolar": [
           {
            "marker": {
             "colorbar": {
              "outlinewidth": 0,
              "ticks": ""
             }
            },
            "type": "scatterpolar"
           }
          ],
          "scatterpolargl": [
           {
            "marker": {
             "colorbar": {
              "outlinewidth": 0,
              "ticks": ""
             }
            },
            "type": "scatterpolargl"
           }
          ],
          "scatterternary": [
           {
            "marker": {
             "colorbar": {
              "outlinewidth": 0,
              "ticks": ""
             }
            },
            "type": "scatterternary"
           }
          ],
          "surface": [
           {
            "colorbar": {
             "outlinewidth": 0,
             "ticks": ""
            },
            "colorscale": [
             [
              0,
              "#0d0887"
             ],
             [
              0.1111111111111111,
              "#46039f"
             ],
             [
              0.2222222222222222,
              "#7201a8"
             ],
             [
              0.3333333333333333,
              "#9c179e"
             ],
             [
              0.4444444444444444,
              "#bd3786"
             ],
             [
              0.5555555555555556,
              "#d8576b"
             ],
             [
              0.6666666666666666,
              "#ed7953"
             ],
             [
              0.7777777777777778,
              "#fb9f3a"
             ],
             [
              0.8888888888888888,
              "#fdca26"
             ],
             [
              1,
              "#f0f921"
             ]
            ],
            "type": "surface"
           }
          ],
          "table": [
           {
            "cells": {
             "fill": {
              "color": "#EBF0F8"
             },
             "line": {
              "color": "white"
             }
            },
            "header": {
             "fill": {
              "color": "#C8D4E3"
             },
             "line": {
              "color": "white"
             }
            },
            "type": "table"
           }
          ]
         },
         "layout": {
          "annotationdefaults": {
           "arrowcolor": "#2a3f5f",
           "arrowhead": 0,
           "arrowwidth": 1
          },
          "autotypenumbers": "strict",
          "coloraxis": {
           "colorbar": {
            "outlinewidth": 0,
            "ticks": ""
           }
          },
          "colorscale": {
           "diverging": [
            [
             0,
             "#8e0152"
            ],
            [
             0.1,
             "#c51b7d"
            ],
            [
             0.2,
             "#de77ae"
            ],
            [
             0.3,
             "#f1b6da"
            ],
            [
             0.4,
             "#fde0ef"
            ],
            [
             0.5,
             "#f7f7f7"
            ],
            [
             0.6,
             "#e6f5d0"
            ],
            [
             0.7,
             "#b8e186"
            ],
            [
             0.8,
             "#7fbc41"
            ],
            [
             0.9,
             "#4d9221"
            ],
            [
             1,
             "#276419"
            ]
           ],
           "sequential": [
            [
             0,
             "#0d0887"
            ],
            [
             0.1111111111111111,
             "#46039f"
            ],
            [
             0.2222222222222222,
             "#7201a8"
            ],
            [
             0.3333333333333333,
             "#9c179e"
            ],
            [
             0.4444444444444444,
             "#bd3786"
            ],
            [
             0.5555555555555556,
             "#d8576b"
            ],
            [
             0.6666666666666666,
             "#ed7953"
            ],
            [
             0.7777777777777778,
             "#fb9f3a"
            ],
            [
             0.8888888888888888,
             "#fdca26"
            ],
            [
             1,
             "#f0f921"
            ]
           ],
           "sequentialminus": [
            [
             0,
             "#0d0887"
            ],
            [
             0.1111111111111111,
             "#46039f"
            ],
            [
             0.2222222222222222,
             "#7201a8"
            ],
            [
             0.3333333333333333,
             "#9c179e"
            ],
            [
             0.4444444444444444,
             "#bd3786"
            ],
            [
             0.5555555555555556,
             "#d8576b"
            ],
            [
             0.6666666666666666,
             "#ed7953"
            ],
            [
             0.7777777777777778,
             "#fb9f3a"
            ],
            [
             0.8888888888888888,
             "#fdca26"
            ],
            [
             1,
             "#f0f921"
            ]
           ]
          },
          "colorway": [
           "#636efa",
           "#EF553B",
           "#00cc96",
           "#ab63fa",
           "#FFA15A",
           "#19d3f3",
           "#FF6692",
           "#B6E880",
           "#FF97FF",
           "#FECB52"
          ],
          "font": {
           "color": "#2a3f5f"
          },
          "geo": {
           "bgcolor": "white",
           "lakecolor": "white",
           "landcolor": "#E5ECF6",
           "showlakes": true,
           "showland": true,
           "subunitcolor": "white"
          },
          "hoverlabel": {
           "align": "left"
          },
          "hovermode": "closest",
          "mapbox": {
           "style": "light"
          },
          "paper_bgcolor": "white",
          "plot_bgcolor": "#E5ECF6",
          "polar": {
           "angularaxis": {
            "gridcolor": "white",
            "linecolor": "white",
            "ticks": ""
           },
           "bgcolor": "#E5ECF6",
           "radialaxis": {
            "gridcolor": "white",
            "linecolor": "white",
            "ticks": ""
           }
          },
          "scene": {
           "xaxis": {
            "backgroundcolor": "#E5ECF6",
            "gridcolor": "white",
            "gridwidth": 2,
            "linecolor": "white",
            "showbackground": true,
            "ticks": "",
            "zerolinecolor": "white"
           },
           "yaxis": {
            "backgroundcolor": "#E5ECF6",
            "gridcolor": "white",
            "gridwidth": 2,
            "linecolor": "white",
            "showbackground": true,
            "ticks": "",
            "zerolinecolor": "white"
           },
           "zaxis": {
            "backgroundcolor": "#E5ECF6",
            "gridcolor": "white",
            "gridwidth": 2,
            "linecolor": "white",
            "showbackground": true,
            "ticks": "",
            "zerolinecolor": "white"
           }
          },
          "shapedefaults": {
           "line": {
            "color": "#2a3f5f"
           }
          },
          "ternary": {
           "aaxis": {
            "gridcolor": "white",
            "linecolor": "white",
            "ticks": ""
           },
           "baxis": {
            "gridcolor": "white",
            "linecolor": "white",
            "ticks": ""
           },
           "bgcolor": "#E5ECF6",
           "caxis": {
            "gridcolor": "white",
            "linecolor": "white",
            "ticks": ""
           }
          },
          "title": {
           "x": 0.05
          },
          "xaxis": {
           "automargin": true,
           "gridcolor": "white",
           "linecolor": "white",
           "ticks": "",
           "title": {
            "standoff": 15
           },
           "zerolinecolor": "white",
           "zerolinewidth": 2
          },
          "yaxis": {
           "automargin": true,
           "gridcolor": "white",
           "linecolor": "white",
           "ticks": "",
           "title": {
            "standoff": 15
           },
           "zerolinecolor": "white",
           "zerolinewidth": 2
          }
         }
        },
        "title": {
         "text": "IPL Team Wins vs. Matches Played Over the Years"
        },
        "updatemenus": [
         {
          "buttons": [
           {
            "args": [
             null,
             {
              "frame": {
               "duration": 500,
               "redraw": false
              },
              "fromcurrent": true,
              "mode": "immediate",
              "transition": {
               "duration": 500,
               "easing": "linear"
              }
             }
            ],
            "label": "&#9654;",
            "method": "animate"
           },
           {
            "args": [
             [
              null
             ],
             {
              "frame": {
               "duration": 0,
               "redraw": false
              },
              "fromcurrent": true,
              "mode": "immediate",
              "transition": {
               "duration": 0,
               "easing": "linear"
              }
             }
            ],
            "label": "&#9724;",
            "method": "animate"
           }
          ],
          "direction": "left",
          "pad": {
           "r": 10,
           "t": 70
          },
          "showactive": false,
          "type": "buttons",
          "x": 0.1,
          "xanchor": "right",
          "y": 0,
          "yanchor": "top"
         }
        ],
        "xaxis": {
         "anchor": "y",
         "domain": [
          0,
          1
         ],
         "title": {
          "text": "Total Matches Played"
         }
        },
        "yaxis": {
         "anchor": "x",
         "domain": [
          0,
          1
         ],
         "title": {
          "text": "Total Wins"
         }
        }
       }
      }
     },
     "metadata": {},
     "output_type": "display_data"
    }
   ],
   "source": [
    "import plotly.express as px\n",
    "\n",
    "# Count Matches Played Per Team\n",
    "matches_per_team = ipl_recent.groupby([\"season\", \"match_winner\"]).size().reset_index(name=\"wins\")\n",
    "matches_played = ipl_recent.groupby([\"season\", \"team_1\"]).size().reset_index(name=\"matches\")\n",
    "\n",
    "# Merge Wins & Matches Played\n",
    "team_stats = matches_per_team.merge(matches_played, left_on=[\"season\", \"match_winner\"], right_on=[\"season\", \"team_1\"])\n",
    "team_stats.drop(columns=[\"team_1\"], inplace=True)\n",
    "\n",
    "# Animated Scatter Plot (Wins vs. Matches)\n",
    "fig = px.scatter(\n",
    "    team_stats, \n",
    "    x=\"matches\", \n",
    "    y=\"wins\", \n",
    "    color=\"match_winner\",\n",
    "    animation_frame=\"season\",\n",
    "    size=\"wins\",\n",
    "    title=\"IPL Team Wins vs. Matches Played Over the Years\",\n",
    "    labels={\"matches\": \"Total Matches Played\", \"wins\": \"Total Wins\"},\n",
    "    size_max=50\n",
    ")\n",
    "\n",
    "fig.show()\n"
   ]
  },
  {
   "cell_type": "code",
   "execution_count": 17,
   "metadata": {},
   "outputs": [
    {
     "data": {
      "application/vnd.plotly.v1+json": {
       "config": {
        "plotlyServerURL": "https://plot.ly"
       },
       "data": [
        {
         "coloraxis": "coloraxis",
         "hovertemplate": "Season: %{x}<br>Teams: %{y}<br>Total Wins: %{z}<extra></extra>",
         "name": "0",
         "type": "heatmap",
         "x": [
          "2019",
          "2020/21",
          "2021",
          "2022",
          "2023"
         ],
         "xaxis": "x",
         "y": [
          "Chennai Super Kings",
          "Delhi Capitals",
          "Gujarat Titans",
          "Kings XI Punjab",
          "Kolkata Knight Riders",
          "Lucknow Super Giants",
          "Mumbai Indians",
          "Punjab Kings",
          "Rajasthan Royals",
          "Royal Challengers Bangalore",
          "Sunrisers Hyderabad",
          "Unknown"
         ],
         "yaxis": "y",
         "z": {
          "bdata": "AAAAAAAAJEAAAAAAAAAYQAAAAAAAACZAAAAAAAAAEEAAAAAAAAAkQAAAAAAAACJAAAAAAAAAIEAAAAAAAAAiQAAAAAAAABxAAAAAAAAAFEAAAAAAAAD4fwAAAAAAAPh/AAAAAAAA+H8AAAAAAAAoQAAAAAAAACZAAAAAAAAAGEAAAAAAAAAUQAAAAAAAAPh/AAAAAAAA+H8AAAAAAAD4fwAAAAAAABhAAAAAAAAAGEAAAAAAAAAiQAAAAAAAABhAAAAAAAAAGEAAAAAAAAD4fwAAAAAAAPh/AAAAAAAA+H8AAAAAAAAiQAAAAAAAACBAAAAAAAAAJEAAAAAAAAAmQAAAAAAAABxAAAAAAAAAEEAAAAAAAAAiQAAAAAAAAPh/AAAAAAAA+H8AAAAAAAAYQAAAAAAAABxAAAAAAAAAGEAAAAAAAAAUQAAAAAAAABhAAAAAAAAAFEAAAAAAAAAkQAAAAAAAABxAAAAAAAAAFEAAAAAAAAAYQAAAAAAAACJAAAAAAAAAIkAAAAAAAAAcQAAAAAAAABhAAAAAAAAAIEAAAAAAAAAIQAAAAAAAABhAAAAAAAAAEEAAAAAAAAAIQAAAAAAAABBAAAAAAAAA8D8AAAAAAAD4fwAAAAAAAPA/",
          "dtype": "f8",
          "shape": "12, 5"
         }
        }
       ],
       "layout": {
        "coloraxis": {
         "colorbar": {
          "title": {
           "text": "Total Wins"
          }
         },
         "colorscale": [
          [
           0,
           "#440154"
          ],
          [
           0.1111111111111111,
           "#482878"
          ],
          [
           0.2222222222222222,
           "#3e4989"
          ],
          [
           0.3333333333333333,
           "#31688e"
          ],
          [
           0.4444444444444444,
           "#26828e"
          ],
          [
           0.5555555555555556,
           "#1f9e89"
          ],
          [
           0.6666666666666666,
           "#35b779"
          ],
          [
           0.7777777777777778,
           "#6ece58"
          ],
          [
           0.8888888888888888,
           "#b5de2b"
          ],
          [
           1,
           "#fde725"
          ]
         ]
        },
        "template": {
         "data": {
          "bar": [
           {
            "error_x": {
             "color": "#2a3f5f"
            },
            "error_y": {
             "color": "#2a3f5f"
            },
            "marker": {
             "line": {
              "color": "#E5ECF6",
              "width": 0.5
             },
             "pattern": {
              "fillmode": "overlay",
              "size": 10,
              "solidity": 0.2
             }
            },
            "type": "bar"
           }
          ],
          "barpolar": [
           {
            "marker": {
             "line": {
              "color": "#E5ECF6",
              "width": 0.5
             },
             "pattern": {
              "fillmode": "overlay",
              "size": 10,
              "solidity": 0.2
             }
            },
            "type": "barpolar"
           }
          ],
          "carpet": [
           {
            "aaxis": {
             "endlinecolor": "#2a3f5f",
             "gridcolor": "white",
             "linecolor": "white",
             "minorgridcolor": "white",
             "startlinecolor": "#2a3f5f"
            },
            "baxis": {
             "endlinecolor": "#2a3f5f",
             "gridcolor": "white",
             "linecolor": "white",
             "minorgridcolor": "white",
             "startlinecolor": "#2a3f5f"
            },
            "type": "carpet"
           }
          ],
          "choropleth": [
           {
            "colorbar": {
             "outlinewidth": 0,
             "ticks": ""
            },
            "type": "choropleth"
           }
          ],
          "contour": [
           {
            "colorbar": {
             "outlinewidth": 0,
             "ticks": ""
            },
            "colorscale": [
             [
              0,
              "#0d0887"
             ],
             [
              0.1111111111111111,
              "#46039f"
             ],
             [
              0.2222222222222222,
              "#7201a8"
             ],
             [
              0.3333333333333333,
              "#9c179e"
             ],
             [
              0.4444444444444444,
              "#bd3786"
             ],
             [
              0.5555555555555556,
              "#d8576b"
             ],
             [
              0.6666666666666666,
              "#ed7953"
             ],
             [
              0.7777777777777778,
              "#fb9f3a"
             ],
             [
              0.8888888888888888,
              "#fdca26"
             ],
             [
              1,
              "#f0f921"
             ]
            ],
            "type": "contour"
           }
          ],
          "contourcarpet": [
           {
            "colorbar": {
             "outlinewidth": 0,
             "ticks": ""
            },
            "type": "contourcarpet"
           }
          ],
          "heatmap": [
           {
            "colorbar": {
             "outlinewidth": 0,
             "ticks": ""
            },
            "colorscale": [
             [
              0,
              "#0d0887"
             ],
             [
              0.1111111111111111,
              "#46039f"
             ],
             [
              0.2222222222222222,
              "#7201a8"
             ],
             [
              0.3333333333333333,
              "#9c179e"
             ],
             [
              0.4444444444444444,
              "#bd3786"
             ],
             [
              0.5555555555555556,
              "#d8576b"
             ],
             [
              0.6666666666666666,
              "#ed7953"
             ],
             [
              0.7777777777777778,
              "#fb9f3a"
             ],
             [
              0.8888888888888888,
              "#fdca26"
             ],
             [
              1,
              "#f0f921"
             ]
            ],
            "type": "heatmap"
           }
          ],
          "histogram": [
           {
            "marker": {
             "pattern": {
              "fillmode": "overlay",
              "size": 10,
              "solidity": 0.2
             }
            },
            "type": "histogram"
           }
          ],
          "histogram2d": [
           {
            "colorbar": {
             "outlinewidth": 0,
             "ticks": ""
            },
            "colorscale": [
             [
              0,
              "#0d0887"
             ],
             [
              0.1111111111111111,
              "#46039f"
             ],
             [
              0.2222222222222222,
              "#7201a8"
             ],
             [
              0.3333333333333333,
              "#9c179e"
             ],
             [
              0.4444444444444444,
              "#bd3786"
             ],
             [
              0.5555555555555556,
              "#d8576b"
             ],
             [
              0.6666666666666666,
              "#ed7953"
             ],
             [
              0.7777777777777778,
              "#fb9f3a"
             ],
             [
              0.8888888888888888,
              "#fdca26"
             ],
             [
              1,
              "#f0f921"
             ]
            ],
            "type": "histogram2d"
           }
          ],
          "histogram2dcontour": [
           {
            "colorbar": {
             "outlinewidth": 0,
             "ticks": ""
            },
            "colorscale": [
             [
              0,
              "#0d0887"
             ],
             [
              0.1111111111111111,
              "#46039f"
             ],
             [
              0.2222222222222222,
              "#7201a8"
             ],
             [
              0.3333333333333333,
              "#9c179e"
             ],
             [
              0.4444444444444444,
              "#bd3786"
             ],
             [
              0.5555555555555556,
              "#d8576b"
             ],
             [
              0.6666666666666666,
              "#ed7953"
             ],
             [
              0.7777777777777778,
              "#fb9f3a"
             ],
             [
              0.8888888888888888,
              "#fdca26"
             ],
             [
              1,
              "#f0f921"
             ]
            ],
            "type": "histogram2dcontour"
           }
          ],
          "mesh3d": [
           {
            "colorbar": {
             "outlinewidth": 0,
             "ticks": ""
            },
            "type": "mesh3d"
           }
          ],
          "parcoords": [
           {
            "line": {
             "colorbar": {
              "outlinewidth": 0,
              "ticks": ""
             }
            },
            "type": "parcoords"
           }
          ],
          "pie": [
           {
            "automargin": true,
            "type": "pie"
           }
          ],
          "scatter": [
           {
            "fillpattern": {
             "fillmode": "overlay",
             "size": 10,
             "solidity": 0.2
            },
            "type": "scatter"
           }
          ],
          "scatter3d": [
           {
            "line": {
             "colorbar": {
              "outlinewidth": 0,
              "ticks": ""
             }
            },
            "marker": {
             "colorbar": {
              "outlinewidth": 0,
              "ticks": ""
             }
            },
            "type": "scatter3d"
           }
          ],
          "scattercarpet": [
           {
            "marker": {
             "colorbar": {
              "outlinewidth": 0,
              "ticks": ""
             }
            },
            "type": "scattercarpet"
           }
          ],
          "scattergeo": [
           {
            "marker": {
             "colorbar": {
              "outlinewidth": 0,
              "ticks": ""
             }
            },
            "type": "scattergeo"
           }
          ],
          "scattergl": [
           {
            "marker": {
             "colorbar": {
              "outlinewidth": 0,
              "ticks": ""
             }
            },
            "type": "scattergl"
           }
          ],
          "scattermap": [
           {
            "marker": {
             "colorbar": {
              "outlinewidth": 0,
              "ticks": ""
             }
            },
            "type": "scattermap"
           }
          ],
          "scattermapbox": [
           {
            "marker": {
             "colorbar": {
              "outlinewidth": 0,
              "ticks": ""
             }
            },
            "type": "scattermapbox"
           }
          ],
          "scatterpolar": [
           {
            "marker": {
             "colorbar": {
              "outlinewidth": 0,
              "ticks": ""
             }
            },
            "type": "scatterpolar"
           }
          ],
          "scatterpolargl": [
           {
            "marker": {
             "colorbar": {
              "outlinewidth": 0,
              "ticks": ""
             }
            },
            "type": "scatterpolargl"
           }
          ],
          "scatterternary": [
           {
            "marker": {
             "colorbar": {
              "outlinewidth": 0,
              "ticks": ""
             }
            },
            "type": "scatterternary"
           }
          ],
          "surface": [
           {
            "colorbar": {
             "outlinewidth": 0,
             "ticks": ""
            },
            "colorscale": [
             [
              0,
              "#0d0887"
             ],
             [
              0.1111111111111111,
              "#46039f"
             ],
             [
              0.2222222222222222,
              "#7201a8"
             ],
             [
              0.3333333333333333,
              "#9c179e"
             ],
             [
              0.4444444444444444,
              "#bd3786"
             ],
             [
              0.5555555555555556,
              "#d8576b"
             ],
             [
              0.6666666666666666,
              "#ed7953"
             ],
             [
              0.7777777777777778,
              "#fb9f3a"
             ],
             [
              0.8888888888888888,
              "#fdca26"
             ],
             [
              1,
              "#f0f921"
             ]
            ],
            "type": "surface"
           }
          ],
          "table": [
           {
            "cells": {
             "fill": {
              "color": "#EBF0F8"
             },
             "line": {
              "color": "white"
             }
            },
            "header": {
             "fill": {
              "color": "#C8D4E3"
             },
             "line": {
              "color": "white"
             }
            },
            "type": "table"
           }
          ]
         },
         "layout": {
          "annotationdefaults": {
           "arrowcolor": "#2a3f5f",
           "arrowhead": 0,
           "arrowwidth": 1
          },
          "autotypenumbers": "strict",
          "coloraxis": {
           "colorbar": {
            "outlinewidth": 0,
            "ticks": ""
           }
          },
          "colorscale": {
           "diverging": [
            [
             0,
             "#8e0152"
            ],
            [
             0.1,
             "#c51b7d"
            ],
            [
             0.2,
             "#de77ae"
            ],
            [
             0.3,
             "#f1b6da"
            ],
            [
             0.4,
             "#fde0ef"
            ],
            [
             0.5,
             "#f7f7f7"
            ],
            [
             0.6,
             "#e6f5d0"
            ],
            [
             0.7,
             "#b8e186"
            ],
            [
             0.8,
             "#7fbc41"
            ],
            [
             0.9,
             "#4d9221"
            ],
            [
             1,
             "#276419"
            ]
           ],
           "sequential": [
            [
             0,
             "#0d0887"
            ],
            [
             0.1111111111111111,
             "#46039f"
            ],
            [
             0.2222222222222222,
             "#7201a8"
            ],
            [
             0.3333333333333333,
             "#9c179e"
            ],
            [
             0.4444444444444444,
             "#bd3786"
            ],
            [
             0.5555555555555556,
             "#d8576b"
            ],
            [
             0.6666666666666666,
             "#ed7953"
            ],
            [
             0.7777777777777778,
             "#fb9f3a"
            ],
            [
             0.8888888888888888,
             "#fdca26"
            ],
            [
             1,
             "#f0f921"
            ]
           ],
           "sequentialminus": [
            [
             0,
             "#0d0887"
            ],
            [
             0.1111111111111111,
             "#46039f"
            ],
            [
             0.2222222222222222,
             "#7201a8"
            ],
            [
             0.3333333333333333,
             "#9c179e"
            ],
            [
             0.4444444444444444,
             "#bd3786"
            ],
            [
             0.5555555555555556,
             "#d8576b"
            ],
            [
             0.6666666666666666,
             "#ed7953"
            ],
            [
             0.7777777777777778,
             "#fb9f3a"
            ],
            [
             0.8888888888888888,
             "#fdca26"
            ],
            [
             1,
             "#f0f921"
            ]
           ]
          },
          "colorway": [
           "#636efa",
           "#EF553B",
           "#00cc96",
           "#ab63fa",
           "#FFA15A",
           "#19d3f3",
           "#FF6692",
           "#B6E880",
           "#FF97FF",
           "#FECB52"
          ],
          "font": {
           "color": "#2a3f5f"
          },
          "geo": {
           "bgcolor": "white",
           "lakecolor": "white",
           "landcolor": "#E5ECF6",
           "showlakes": true,
           "showland": true,
           "subunitcolor": "white"
          },
          "hoverlabel": {
           "align": "left"
          },
          "hovermode": "closest",
          "mapbox": {
           "style": "light"
          },
          "paper_bgcolor": "white",
          "plot_bgcolor": "#E5ECF6",
          "polar": {
           "angularaxis": {
            "gridcolor": "white",
            "linecolor": "white",
            "ticks": ""
           },
           "bgcolor": "#E5ECF6",
           "radialaxis": {
            "gridcolor": "white",
            "linecolor": "white",
            "ticks": ""
           }
          },
          "scene": {
           "xaxis": {
            "backgroundcolor": "#E5ECF6",
            "gridcolor": "white",
            "gridwidth": 2,
            "linecolor": "white",
            "showbackground": true,
            "ticks": "",
            "zerolinecolor": "white"
           },
           "yaxis": {
            "backgroundcolor": "#E5ECF6",
            "gridcolor": "white",
            "gridwidth": 2,
            "linecolor": "white",
            "showbackground": true,
            "ticks": "",
            "zerolinecolor": "white"
           },
           "zaxis": {
            "backgroundcolor": "#E5ECF6",
            "gridcolor": "white",
            "gridwidth": 2,
            "linecolor": "white",
            "showbackground": true,
            "ticks": "",
            "zerolinecolor": "white"
           }
          },
          "shapedefaults": {
           "line": {
            "color": "#2a3f5f"
           }
          },
          "ternary": {
           "aaxis": {
            "gridcolor": "white",
            "linecolor": "white",
            "ticks": ""
           },
           "baxis": {
            "gridcolor": "white",
            "linecolor": "white",
            "ticks": ""
           },
           "bgcolor": "#E5ECF6",
           "caxis": {
            "gridcolor": "white",
            "linecolor": "white",
            "ticks": ""
           }
          },
          "title": {
           "x": 0.05
          },
          "xaxis": {
           "automargin": true,
           "gridcolor": "white",
           "linecolor": "white",
           "ticks": "",
           "title": {
            "standoff": 15
           },
           "zerolinecolor": "white",
           "zerolinewidth": 2
          },
          "yaxis": {
           "automargin": true,
           "gridcolor": "white",
           "linecolor": "white",
           "ticks": "",
           "title": {
            "standoff": 15
           },
           "zerolinecolor": "white",
           "zerolinewidth": 2
          }
         }
        },
        "title": {
         "text": "IPL Team Performance Over Seasons (Heatmap)"
        },
        "xaxis": {
         "anchor": "y",
         "constrain": "domain",
         "domain": [
          0,
          1
         ],
         "scaleanchor": "y",
         "title": {
          "text": "Season"
         }
        },
        "yaxis": {
         "anchor": "x",
         "autorange": "reversed",
         "constrain": "domain",
         "domain": [
          0,
          1
         ],
         "title": {
          "text": "Teams"
         }
        }
       }
      }
     },
     "metadata": {},
     "output_type": "display_data"
    }
   ],
   "source": [
    "import plotly.express as px\n",
    "\n",
    "# Create a Pivot Table: Seasons vs. Teams (Total Wins)\n",
    "heatmap_data = ipl_recent.groupby([\"season\", \"match_winner\"]).size().reset_index(name=\"wins\")\n",
    "\n",
    "# Heatmap Animation\n",
    "fig = px.imshow(\n",
    "    heatmap_data.pivot(index=\"match_winner\", columns=\"season\", values=\"wins\"),\n",
    "    color_continuous_scale=\"Viridis\",\n",
    "    title=\"IPL Team Performance Over Seasons (Heatmap)\",\n",
    "    labels=dict(x=\"Season\", y=\"Teams\", color=\"Total Wins\"),\n",
    ")\n",
    "\n",
    "fig.show()\n"
   ]
  },
  {
   "cell_type": "code",
   "execution_count": 18,
   "metadata": {},
   "outputs": [
    {
     "data": {
      "application/vnd.plotly.v1+json": {
       "config": {
        "plotlyServerURL": "https://plot.ly"
       },
       "data": [
        {
         "hovertemplate": "Team=%{y}<br>Year=%{x}<br>Total Wins=%{marker.size}<extra></extra>",
         "legendgroup": "Chennai Super Kings",
         "marker": {
          "color": "#636efa",
          "size": {
           "bdata": "CgYLBAo=",
           "dtype": "i1"
          },
          "sizemode": "area",
          "sizeref": 0.03,
          "symbol": "circle"
         },
         "mode": "markers",
         "name": "Chennai Super Kings",
         "scene": "scene",
         "showlegend": true,
         "type": "scatter3d",
         "x": [
          "2019",
          "2020/21",
          "2021",
          "2022",
          "2023"
         ],
         "y": [
          "Chennai Super Kings",
          "Chennai Super Kings",
          "Chennai Super Kings",
          "Chennai Super Kings",
          "Chennai Super Kings"
         ],
         "z": {
          "bdata": "CgYLBAo=",
          "dtype": "i1"
         }
        },
        {
         "hovertemplate": "Team=%{y}<br>Year=%{x}<br>Total Wins=%{marker.size}<extra></extra>",
         "legendgroup": "Delhi Capitals",
         "marker": {
          "color": "#EF553B",
          "size": {
           "bdata": "CQgJBwU=",
           "dtype": "i1"
          },
          "sizemode": "area",
          "sizeref": 0.03,
          "symbol": "circle"
         },
         "mode": "markers",
         "name": "Delhi Capitals",
         "scene": "scene",
         "showlegend": true,
         "type": "scatter3d",
         "x": [
          "2019",
          "2020/21",
          "2021",
          "2022",
          "2023"
         ],
         "y": [
          "Delhi Capitals",
          "Delhi Capitals",
          "Delhi Capitals",
          "Delhi Capitals",
          "Delhi Capitals"
         ],
         "z": {
          "bdata": "CQgJBwU=",
          "dtype": "i1"
         }
        },
        {
         "hovertemplate": "Team=%{y}<br>Year=%{x}<br>Total Wins=%{marker.size}<extra></extra>",
         "legendgroup": "Kings XI Punjab",
         "marker": {
          "color": "#00cc96",
          "size": {
           "bdata": "BgU=",
           "dtype": "i1"
          },
          "sizemode": "area",
          "sizeref": 0.03,
          "symbol": "circle"
         },
         "mode": "markers",
         "name": "Kings XI Punjab",
         "scene": "scene",
         "showlegend": true,
         "type": "scatter3d",
         "x": [
          "2019",
          "2020/21"
         ],
         "y": [
          "Kings XI Punjab",
          "Kings XI Punjab"
         ],
         "z": {
          "bdata": "BgU=",
          "dtype": "i1"
         }
        },
        {
         "hovertemplate": "Team=%{y}<br>Year=%{x}<br>Total Wins=%{marker.size}<extra></extra>",
         "legendgroup": "Kolkata Knight Riders",
         "marker": {
          "color": "#ab63fa",
          "size": {
           "bdata": "BgYJBgY=",
           "dtype": "i1"
          },
          "sizemode": "area",
          "sizeref": 0.03,
          "symbol": "circle"
         },
         "mode": "markers",
         "name": "Kolkata Knight Riders",
         "scene": "scene",
         "showlegend": true,
         "type": "scatter3d",
         "x": [
          "2019",
          "2020/21",
          "2021",
          "2022",
          "2023"
         ],
         "y": [
          "Kolkata Knight Riders",
          "Kolkata Knight Riders",
          "Kolkata Knight Riders",
          "Kolkata Knight Riders",
          "Kolkata Knight Riders"
         ],
         "z": {
          "bdata": "BgYJBgY=",
          "dtype": "i1"
         }
        },
        {
         "hovertemplate": "Team=%{y}<br>Year=%{x}<br>Total Wins=%{marker.size}<extra></extra>",
         "legendgroup": "Mumbai Indians",
         "marker": {
          "color": "#FFA15A",
          "size": {
           "bdata": "CgsHBAk=",
           "dtype": "i1"
          },
          "sizemode": "area",
          "sizeref": 0.03,
          "symbol": "circle"
         },
         "mode": "markers",
         "name": "Mumbai Indians",
         "scene": "scene",
         "showlegend": true,
         "type": "scatter3d",
         "x": [
          "2019",
          "2020/21",
          "2021",
          "2022",
          "2023"
         ],
         "y": [
          "Mumbai Indians",
          "Mumbai Indians",
          "Mumbai Indians",
          "Mumbai Indians",
          "Mumbai Indians"
         ],
         "z": {
          "bdata": "CgsHBAk=",
          "dtype": "i1"
         }
        },
        {
         "hovertemplate": "Team=%{y}<br>Year=%{x}<br>Total Wins=%{marker.size}<extra></extra>",
         "legendgroup": "Rajasthan Royals",
         "marker": {
          "color": "#19d3f3",
          "size": {
           "bdata": "BQYFCgc=",
           "dtype": "i1"
          },
          "sizemode": "area",
          "sizeref": 0.03,
          "symbol": "circle"
         },
         "mode": "markers",
         "name": "Rajasthan Royals",
         "scene": "scene",
         "showlegend": true,
         "type": "scatter3d",
         "x": [
          "2019",
          "2020/21",
          "2021",
          "2022",
          "2023"
         ],
         "y": [
          "Rajasthan Royals",
          "Rajasthan Royals",
          "Rajasthan Royals",
          "Rajasthan Royals",
          "Rajasthan Royals"
         ],
         "z": {
          "bdata": "BQYFCgc=",
          "dtype": "i1"
         }
        },
        {
         "hovertemplate": "Team=%{y}<br>Year=%{x}<br>Total Wins=%{marker.size}<extra></extra>",
         "legendgroup": "Royal Challengers Bangalore",
         "marker": {
          "color": "#FF6692",
          "size": {
           "bdata": "BQYJCQc=",
           "dtype": "i1"
          },
          "sizemode": "area",
          "sizeref": 0.03,
          "symbol": "circle"
         },
         "mode": "markers",
         "name": "Royal Challengers Bangalore",
         "scene": "scene",
         "showlegend": true,
         "type": "scatter3d",
         "x": [
          "2019",
          "2020/21",
          "2021",
          "2022",
          "2023"
         ],
         "y": [
          "Royal Challengers Bangalore",
          "Royal Challengers Bangalore",
          "Royal Challengers Bangalore",
          "Royal Challengers Bangalore",
          "Royal Challengers Bangalore"
         ],
         "z": {
          "bdata": "BQYJCQc=",
          "dtype": "i1"
         }
        },
        {
         "hovertemplate": "Team=%{y}<br>Year=%{x}<br>Total Wins=%{marker.size}<extra></extra>",
         "legendgroup": "Sunrisers Hyderabad",
         "marker": {
          "color": "#B6E880",
          "size": {
           "bdata": "BggDBgQ=",
           "dtype": "i1"
          },
          "sizemode": "area",
          "sizeref": 0.03,
          "symbol": "circle"
         },
         "mode": "markers",
         "name": "Sunrisers Hyderabad",
         "scene": "scene",
         "showlegend": true,
         "type": "scatter3d",
         "x": [
          "2019",
          "2020/21",
          "2021",
          "2022",
          "2023"
         ],
         "y": [
          "Sunrisers Hyderabad",
          "Sunrisers Hyderabad",
          "Sunrisers Hyderabad",
          "Sunrisers Hyderabad",
          "Sunrisers Hyderabad"
         ],
         "z": {
          "bdata": "BggDBgQ=",
          "dtype": "i1"
         }
        },
        {
         "hovertemplate": "Team=%{y}<br>Year=%{x}<br>Total Wins=%{marker.size}<extra></extra>",
         "legendgroup": "Unknown",
         "marker": {
          "color": "#FF97FF",
          "size": {
           "bdata": "AwQBAQ==",
           "dtype": "i1"
          },
          "sizemode": "area",
          "sizeref": 0.03,
          "symbol": "circle"
         },
         "mode": "markers",
         "name": "Unknown",
         "scene": "scene",
         "showlegend": true,
         "type": "scatter3d",
         "x": [
          "2019",
          "2020/21",
          "2021",
          "2023"
         ],
         "y": [
          "Unknown",
          "Unknown",
          "Unknown",
          "Unknown"
         ],
         "z": {
          "bdata": "AwQBAQ==",
          "dtype": "i1"
         }
        },
        {
         "hovertemplate": "Team=%{y}<br>Year=%{x}<br>Total Wins=%{marker.size}<extra></extra>",
         "legendgroup": "Punjab Kings",
         "marker": {
          "color": "#FECB52",
          "size": {
           "bdata": "BgcG",
           "dtype": "i1"
          },
          "sizemode": "area",
          "sizeref": 0.03,
          "symbol": "circle"
         },
         "mode": "markers",
         "name": "Punjab Kings",
         "scene": "scene",
         "showlegend": true,
         "type": "scatter3d",
         "x": [
          "2021",
          "2022",
          "2023"
         ],
         "y": [
          "Punjab Kings",
          "Punjab Kings",
          "Punjab Kings"
         ],
         "z": {
          "bdata": "BgcG",
          "dtype": "i1"
         }
        },
        {
         "hovertemplate": "Team=%{y}<br>Year=%{x}<br>Total Wins=%{marker.size}<extra></extra>",
         "legendgroup": "Gujarat Titans",
         "marker": {
          "color": "#636efa",
          "size": {
           "bdata": "DAs=",
           "dtype": "i1"
          },
          "sizemode": "area",
          "sizeref": 0.03,
          "symbol": "circle"
         },
         "mode": "markers",
         "name": "Gujarat Titans",
         "scene": "scene",
         "showlegend": true,
         "type": "scatter3d",
         "x": [
          "2022",
          "2023"
         ],
         "y": [
          "Gujarat Titans",
          "Gujarat Titans"
         ],
         "z": {
          "bdata": "DAs=",
          "dtype": "i1"
         }
        },
        {
         "hovertemplate": "Team=%{y}<br>Year=%{x}<br>Total Wins=%{marker.size}<extra></extra>",
         "legendgroup": "Lucknow Super Giants",
         "marker": {
          "color": "#EF553B",
          "size": {
           "bdata": "CQg=",
           "dtype": "i1"
          },
          "sizemode": "area",
          "sizeref": 0.03,
          "symbol": "circle"
         },
         "mode": "markers",
         "name": "Lucknow Super Giants",
         "scene": "scene",
         "showlegend": true,
         "type": "scatter3d",
         "x": [
          "2022",
          "2023"
         ],
         "y": [
          "Lucknow Super Giants",
          "Lucknow Super Giants"
         ],
         "z": {
          "bdata": "CQg=",
          "dtype": "i1"
         }
        }
       ],
       "layout": {
        "legend": {
         "itemsizing": "constant",
         "title": {
          "text": "Team"
         },
         "tracegroupgap": 0
        },
        "scene": {
         "domain": {
          "x": [
           0,
           1
          ],
          "y": [
           0,
           1
          ]
         },
         "xaxis": {
          "title": {
           "text": "Year"
          }
         },
         "yaxis": {
          "categoryarray": [
           "Chennai Super Kings",
           "Delhi Capitals",
           "Kings XI Punjab",
           "Kolkata Knight Riders",
           "Mumbai Indians",
           "Rajasthan Royals",
           "Royal Challengers Bangalore",
           "Sunrisers Hyderabad",
           "Unknown",
           "Punjab Kings",
           "Gujarat Titans",
           "Lucknow Super Giants"
          ],
          "categoryorder": "array",
          "title": {
           "text": "Team"
          }
         },
         "zaxis": {
          "title": {
           "text": "Total Wins"
          }
         }
        },
        "template": {
         "data": {
          "bar": [
           {
            "error_x": {
             "color": "#2a3f5f"
            },
            "error_y": {
             "color": "#2a3f5f"
            },
            "marker": {
             "line": {
              "color": "#E5ECF6",
              "width": 0.5
             },
             "pattern": {
              "fillmode": "overlay",
              "size": 10,
              "solidity": 0.2
             }
            },
            "type": "bar"
           }
          ],
          "barpolar": [
           {
            "marker": {
             "line": {
              "color": "#E5ECF6",
              "width": 0.5
             },
             "pattern": {
              "fillmode": "overlay",
              "size": 10,
              "solidity": 0.2
             }
            },
            "type": "barpolar"
           }
          ],
          "carpet": [
           {
            "aaxis": {
             "endlinecolor": "#2a3f5f",
             "gridcolor": "white",
             "linecolor": "white",
             "minorgridcolor": "white",
             "startlinecolor": "#2a3f5f"
            },
            "baxis": {
             "endlinecolor": "#2a3f5f",
             "gridcolor": "white",
             "linecolor": "white",
             "minorgridcolor": "white",
             "startlinecolor": "#2a3f5f"
            },
            "type": "carpet"
           }
          ],
          "choropleth": [
           {
            "colorbar": {
             "outlinewidth": 0,
             "ticks": ""
            },
            "type": "choropleth"
           }
          ],
          "contour": [
           {
            "colorbar": {
             "outlinewidth": 0,
             "ticks": ""
            },
            "colorscale": [
             [
              0,
              "#0d0887"
             ],
             [
              0.1111111111111111,
              "#46039f"
             ],
             [
              0.2222222222222222,
              "#7201a8"
             ],
             [
              0.3333333333333333,
              "#9c179e"
             ],
             [
              0.4444444444444444,
              "#bd3786"
             ],
             [
              0.5555555555555556,
              "#d8576b"
             ],
             [
              0.6666666666666666,
              "#ed7953"
             ],
             [
              0.7777777777777778,
              "#fb9f3a"
             ],
             [
              0.8888888888888888,
              "#fdca26"
             ],
             [
              1,
              "#f0f921"
             ]
            ],
            "type": "contour"
           }
          ],
          "contourcarpet": [
           {
            "colorbar": {
             "outlinewidth": 0,
             "ticks": ""
            },
            "type": "contourcarpet"
           }
          ],
          "heatmap": [
           {
            "colorbar": {
             "outlinewidth": 0,
             "ticks": ""
            },
            "colorscale": [
             [
              0,
              "#0d0887"
             ],
             [
              0.1111111111111111,
              "#46039f"
             ],
             [
              0.2222222222222222,
              "#7201a8"
             ],
             [
              0.3333333333333333,
              "#9c179e"
             ],
             [
              0.4444444444444444,
              "#bd3786"
             ],
             [
              0.5555555555555556,
              "#d8576b"
             ],
             [
              0.6666666666666666,
              "#ed7953"
             ],
             [
              0.7777777777777778,
              "#fb9f3a"
             ],
             [
              0.8888888888888888,
              "#fdca26"
             ],
             [
              1,
              "#f0f921"
             ]
            ],
            "type": "heatmap"
           }
          ],
          "histogram": [
           {
            "marker": {
             "pattern": {
              "fillmode": "overlay",
              "size": 10,
              "solidity": 0.2
             }
            },
            "type": "histogram"
           }
          ],
          "histogram2d": [
           {
            "colorbar": {
             "outlinewidth": 0,
             "ticks": ""
            },
            "colorscale": [
             [
              0,
              "#0d0887"
             ],
             [
              0.1111111111111111,
              "#46039f"
             ],
             [
              0.2222222222222222,
              "#7201a8"
             ],
             [
              0.3333333333333333,
              "#9c179e"
             ],
             [
              0.4444444444444444,
              "#bd3786"
             ],
             [
              0.5555555555555556,
              "#d8576b"
             ],
             [
              0.6666666666666666,
              "#ed7953"
             ],
             [
              0.7777777777777778,
              "#fb9f3a"
             ],
             [
              0.8888888888888888,
              "#fdca26"
             ],
             [
              1,
              "#f0f921"
             ]
            ],
            "type": "histogram2d"
           }
          ],
          "histogram2dcontour": [
           {
            "colorbar": {
             "outlinewidth": 0,
             "ticks": ""
            },
            "colorscale": [
             [
              0,
              "#0d0887"
             ],
             [
              0.1111111111111111,
              "#46039f"
             ],
             [
              0.2222222222222222,
              "#7201a8"
             ],
             [
              0.3333333333333333,
              "#9c179e"
             ],
             [
              0.4444444444444444,
              "#bd3786"
             ],
             [
              0.5555555555555556,
              "#d8576b"
             ],
             [
              0.6666666666666666,
              "#ed7953"
             ],
             [
              0.7777777777777778,
              "#fb9f3a"
             ],
             [
              0.8888888888888888,
              "#fdca26"
             ],
             [
              1,
              "#f0f921"
             ]
            ],
            "type": "histogram2dcontour"
           }
          ],
          "mesh3d": [
           {
            "colorbar": {
             "outlinewidth": 0,
             "ticks": ""
            },
            "type": "mesh3d"
           }
          ],
          "parcoords": [
           {
            "line": {
             "colorbar": {
              "outlinewidth": 0,
              "ticks": ""
             }
            },
            "type": "parcoords"
           }
          ],
          "pie": [
           {
            "automargin": true,
            "type": "pie"
           }
          ],
          "scatter": [
           {
            "fillpattern": {
             "fillmode": "overlay",
             "size": 10,
             "solidity": 0.2
            },
            "type": "scatter"
           }
          ],
          "scatter3d": [
           {
            "line": {
             "colorbar": {
              "outlinewidth": 0,
              "ticks": ""
             }
            },
            "marker": {
             "colorbar": {
              "outlinewidth": 0,
              "ticks": ""
             }
            },
            "type": "scatter3d"
           }
          ],
          "scattercarpet": [
           {
            "marker": {
             "colorbar": {
              "outlinewidth": 0,
              "ticks": ""
             }
            },
            "type": "scattercarpet"
           }
          ],
          "scattergeo": [
           {
            "marker": {
             "colorbar": {
              "outlinewidth": 0,
              "ticks": ""
             }
            },
            "type": "scattergeo"
           }
          ],
          "scattergl": [
           {
            "marker": {
             "colorbar": {
              "outlinewidth": 0,
              "ticks": ""
             }
            },
            "type": "scattergl"
           }
          ],
          "scattermap": [
           {
            "marker": {
             "colorbar": {
              "outlinewidth": 0,
              "ticks": ""
             }
            },
            "type": "scattermap"
           }
          ],
          "scattermapbox": [
           {
            "marker": {
             "colorbar": {
              "outlinewidth": 0,
              "ticks": ""
             }
            },
            "type": "scattermapbox"
           }
          ],
          "scatterpolar": [
           {
            "marker": {
             "colorbar": {
              "outlinewidth": 0,
              "ticks": ""
             }
            },
            "type": "scatterpolar"
           }
          ],
          "scatterpolargl": [
           {
            "marker": {
             "colorbar": {
              "outlinewidth": 0,
              "ticks": ""
             }
            },
            "type": "scatterpolargl"
           }
          ],
          "scatterternary": [
           {
            "marker": {
             "colorbar": {
              "outlinewidth": 0,
              "ticks": ""
             }
            },
            "type": "scatterternary"
           }
          ],
          "surface": [
           {
            "colorbar": {
             "outlinewidth": 0,
             "ticks": ""
            },
            "colorscale": [
             [
              0,
              "#0d0887"
             ],
             [
              0.1111111111111111,
              "#46039f"
             ],
             [
              0.2222222222222222,
              "#7201a8"
             ],
             [
              0.3333333333333333,
              "#9c179e"
             ],
             [
              0.4444444444444444,
              "#bd3786"
             ],
             [
              0.5555555555555556,
              "#d8576b"
             ],
             [
              0.6666666666666666,
              "#ed7953"
             ],
             [
              0.7777777777777778,
              "#fb9f3a"
             ],
             [
              0.8888888888888888,
              "#fdca26"
             ],
             [
              1,
              "#f0f921"
             ]
            ],
            "type": "surface"
           }
          ],
          "table": [
           {
            "cells": {
             "fill": {
              "color": "#EBF0F8"
             },
             "line": {
              "color": "white"
             }
            },
            "header": {
             "fill": {
              "color": "#C8D4E3"
             },
             "line": {
              "color": "white"
             }
            },
            "type": "table"
           }
          ]
         },
         "layout": {
          "annotationdefaults": {
           "arrowcolor": "#2a3f5f",
           "arrowhead": 0,
           "arrowwidth": 1
          },
          "autotypenumbers": "strict",
          "coloraxis": {
           "colorbar": {
            "outlinewidth": 0,
            "ticks": ""
           }
          },
          "colorscale": {
           "diverging": [
            [
             0,
             "#8e0152"
            ],
            [
             0.1,
             "#c51b7d"
            ],
            [
             0.2,
             "#de77ae"
            ],
            [
             0.3,
             "#f1b6da"
            ],
            [
             0.4,
             "#fde0ef"
            ],
            [
             0.5,
             "#f7f7f7"
            ],
            [
             0.6,
             "#e6f5d0"
            ],
            [
             0.7,
             "#b8e186"
            ],
            [
             0.8,
             "#7fbc41"
            ],
            [
             0.9,
             "#4d9221"
            ],
            [
             1,
             "#276419"
            ]
           ],
           "sequential": [
            [
             0,
             "#0d0887"
            ],
            [
             0.1111111111111111,
             "#46039f"
            ],
            [
             0.2222222222222222,
             "#7201a8"
            ],
            [
             0.3333333333333333,
             "#9c179e"
            ],
            [
             0.4444444444444444,
             "#bd3786"
            ],
            [
             0.5555555555555556,
             "#d8576b"
            ],
            [
             0.6666666666666666,
             "#ed7953"
            ],
            [
             0.7777777777777778,
             "#fb9f3a"
            ],
            [
             0.8888888888888888,
             "#fdca26"
            ],
            [
             1,
             "#f0f921"
            ]
           ],
           "sequentialminus": [
            [
             0,
             "#0d0887"
            ],
            [
             0.1111111111111111,
             "#46039f"
            ],
            [
             0.2222222222222222,
             "#7201a8"
            ],
            [
             0.3333333333333333,
             "#9c179e"
            ],
            [
             0.4444444444444444,
             "#bd3786"
            ],
            [
             0.5555555555555556,
             "#d8576b"
            ],
            [
             0.6666666666666666,
             "#ed7953"
            ],
            [
             0.7777777777777778,
             "#fb9f3a"
            ],
            [
             0.8888888888888888,
             "#fdca26"
            ],
            [
             1,
             "#f0f921"
            ]
           ]
          },
          "colorway": [
           "#636efa",
           "#EF553B",
           "#00cc96",
           "#ab63fa",
           "#FFA15A",
           "#19d3f3",
           "#FF6692",
           "#B6E880",
           "#FF97FF",
           "#FECB52"
          ],
          "font": {
           "color": "#2a3f5f"
          },
          "geo": {
           "bgcolor": "white",
           "lakecolor": "white",
           "landcolor": "#E5ECF6",
           "showlakes": true,
           "showland": true,
           "subunitcolor": "white"
          },
          "hoverlabel": {
           "align": "left"
          },
          "hovermode": "closest",
          "mapbox": {
           "style": "light"
          },
          "paper_bgcolor": "white",
          "plot_bgcolor": "#E5ECF6",
          "polar": {
           "angularaxis": {
            "gridcolor": "white",
            "linecolor": "white",
            "ticks": ""
           },
           "bgcolor": "#E5ECF6",
           "radialaxis": {
            "gridcolor": "white",
            "linecolor": "white",
            "ticks": ""
           }
          },
          "scene": {
           "xaxis": {
            "backgroundcolor": "#E5ECF6",
            "gridcolor": "white",
            "gridwidth": 2,
            "linecolor": "white",
            "showbackground": true,
            "ticks": "",
            "zerolinecolor": "white"
           },
           "yaxis": {
            "backgroundcolor": "#E5ECF6",
            "gridcolor": "white",
            "gridwidth": 2,
            "linecolor": "white",
            "showbackground": true,
            "ticks": "",
            "zerolinecolor": "white"
           },
           "zaxis": {
            "backgroundcolor": "#E5ECF6",
            "gridcolor": "white",
            "gridwidth": 2,
            "linecolor": "white",
            "showbackground": true,
            "ticks": "",
            "zerolinecolor": "white"
           }
          },
          "shapedefaults": {
           "line": {
            "color": "#2a3f5f"
           }
          },
          "ternary": {
           "aaxis": {
            "gridcolor": "white",
            "linecolor": "white",
            "ticks": ""
           },
           "baxis": {
            "gridcolor": "white",
            "linecolor": "white",
            "ticks": ""
           },
           "bgcolor": "#E5ECF6",
           "caxis": {
            "gridcolor": "white",
            "linecolor": "white",
            "ticks": ""
           }
          },
          "title": {
           "x": 0.05
          },
          "xaxis": {
           "automargin": true,
           "gridcolor": "white",
           "linecolor": "white",
           "ticks": "",
           "title": {
            "standoff": 15
           },
           "zerolinecolor": "white",
           "zerolinewidth": 2
          },
          "yaxis": {
           "automargin": true,
           "gridcolor": "white",
           "linecolor": "white",
           "ticks": "",
           "title": {
            "standoff": 15
           },
           "zerolinecolor": "white",
           "zerolinewidth": 2
          }
         }
        },
        "title": {
         "text": "3D IPL Team Performance: Wins Across Seasons"
        }
       }
      }
     },
     "metadata": {},
     "output_type": "display_data"
    }
   ],
   "source": [
    "import plotly.express as px\n",
    "\n",
    "# Create sample data (as runs are missing, using wins)\n",
    "team_stats = ipl_recent.groupby([\"season\", \"match_winner\"]).size().reset_index(name=\"wins\")\n",
    "\n",
    "# 3D Scatter Plot\n",
    "fig = px.scatter_3d(\n",
    "    team_stats, \n",
    "    x=\"season\", \n",
    "    y=\"match_winner\", \n",
    "    z=\"wins\", \n",
    "    color=\"match_winner\", \n",
    "    size=\"wins\",\n",
    "    title=\"3D IPL Team Performance: Wins Across Seasons\",\n",
    "    labels={\"season\": \"Year\", \"match_winner\": \"Team\", \"wins\": \"Total Wins\"}\n",
    ")\n",
    "\n",
    "fig.show()\n"
   ]
  },
  {
   "cell_type": "code",
   "execution_count": 19,
   "metadata": {},
   "outputs": [
    {
     "data": {
      "application/vnd.plotly.v1+json": {
       "config": {
        "plotlyServerURL": "https://plot.ly"
       },
       "data": [
        {
         "branchvalues": "total",
         "customdata": {
          "bdata": "AAAAAAAAJEAAAAAAAAAiQAAAAAAAABhAAAAAAAAAGEAAAAAAAAAkQAAAAAAAABRAAAAAAAAAFEAAAAAAAAAYQAAAAAAAAAhAAAAAAAAAGEAAAAAAAAAgQAAAAAAAABRAAAAAAAAAGEAAAAAAAAAmQAAAAAAAABhAAAAAAAAAGEAAAAAAAAAgQAAAAAAAABBAAAAAAAAAJkAAAAAAAAAiQAAAAAAAACJAAAAAAAAAHEAAAAAAAAAYQAAAAAAAABRAAAAAAAAAIkAAAAAAAAAIQAAAAAAAAPA/AAAAAAAAEEAAAAAAAAAcQAAAAAAAAChAAAAAAAAAGEAAAAAAAAAiQAAAAAAAABBAAAAAAAAAHEAAAAAAAAAkQAAAAAAAACJAAAAAAAAAGEAAAAAAAAAkQAAAAAAAABRAAAAAAAAAJkAAAAAAAAAYQAAAAAAAACBAAAAAAAAAIkAAAAAAAAAYQAAAAAAAABxAAAAAAAAAHEAAAAAAAAAQQAAAAAAAAPA/3t3d3d3dHUDv7u7u7u4cQCIiIiIiIiBA6wZT5LNuIEDks24wRT4fQA==",
          "dtype": "f8",
          "shape": "53, 1"
         },
         "domain": {
          "x": [
           0,
           1
          ],
          "y": [
           0,
           1
          ]
         },
         "hovertemplate": "labels=%{label}<br>wins_sum=%{value}<br>parent=%{parent}<br>id=%{id}<br>wins=%{color}<extra></extra>",
         "ids": [
          "2019/Chennai Super Kings",
          "2019/Delhi Capitals",
          "2019/Kings XI Punjab",
          "2019/Kolkata Knight Riders",
          "2019/Mumbai Indians",
          "2019/Rajasthan Royals",
          "2019/Royal Challengers Bangalore",
          "2019/Sunrisers Hyderabad",
          "2019/Unknown",
          "2020/21/Chennai Super Kings",
          "2020/21/Delhi Capitals",
          "2020/21/Kings XI Punjab",
          "2020/21/Kolkata Knight Riders",
          "2020/21/Mumbai Indians",
          "2020/21/Rajasthan Royals",
          "2020/21/Royal Challengers Bangalore",
          "2020/21/Sunrisers Hyderabad",
          "2020/21/Unknown",
          "2021/Chennai Super Kings",
          "2021/Delhi Capitals",
          "2021/Kolkata Knight Riders",
          "2021/Mumbai Indians",
          "2021/Punjab Kings",
          "2021/Rajasthan Royals",
          "2021/Royal Challengers Bangalore",
          "2021/Sunrisers Hyderabad",
          "2021/Unknown",
          "2022/Chennai Super Kings",
          "2022/Delhi Capitals",
          "2022/Gujarat Titans",
          "2022/Kolkata Knight Riders",
          "2022/Lucknow Super Giants",
          "2022/Mumbai Indians",
          "2022/Punjab Kings",
          "2022/Rajasthan Royals",
          "2022/Royal Challengers Bangalore",
          "2022/Sunrisers Hyderabad",
          "2023/Chennai Super Kings",
          "2023/Delhi Capitals",
          "2023/Gujarat Titans",
          "2023/Kolkata Knight Riders",
          "2023/Lucknow Super Giants",
          "2023/Mumbai Indians",
          "2023/Punjab Kings",
          "2023/Rajasthan Royals",
          "2023/Royal Challengers Bangalore",
          "2023/Sunrisers Hyderabad",
          "2023/Unknown",
          "2019",
          "2020/21",
          "2021",
          "2022",
          "2023"
         ],
         "labels": [
          "Chennai Super Kings",
          "Delhi Capitals",
          "Kings XI Punjab",
          "Kolkata Knight Riders",
          "Mumbai Indians",
          "Rajasthan Royals",
          "Royal Challengers Bangalore",
          "Sunrisers Hyderabad",
          "Unknown",
          "Chennai Super Kings",
          "Delhi Capitals",
          "Kings XI Punjab",
          "Kolkata Knight Riders",
          "Mumbai Indians",
          "Rajasthan Royals",
          "Royal Challengers Bangalore",
          "Sunrisers Hyderabad",
          "Unknown",
          "Chennai Super Kings",
          "Delhi Capitals",
          "Kolkata Knight Riders",
          "Mumbai Indians",
          "Punjab Kings",
          "Rajasthan Royals",
          "Royal Challengers Bangalore",
          "Sunrisers Hyderabad",
          "Unknown",
          "Chennai Super Kings",
          "Delhi Capitals",
          "Gujarat Titans",
          "Kolkata Knight Riders",
          "Lucknow Super Giants",
          "Mumbai Indians",
          "Punjab Kings",
          "Rajasthan Royals",
          "Royal Challengers Bangalore",
          "Sunrisers Hyderabad",
          "Chennai Super Kings",
          "Delhi Capitals",
          "Gujarat Titans",
          "Kolkata Knight Riders",
          "Lucknow Super Giants",
          "Mumbai Indians",
          "Punjab Kings",
          "Rajasthan Royals",
          "Royal Challengers Bangalore",
          "Sunrisers Hyderabad",
          "Unknown",
          "2019",
          "2020/21",
          "2021",
          "2022",
          "2023"
         ],
         "marker": {
          "coloraxis": "coloraxis",
          "colors": {
           "bdata": "AAAAAAAAJEAAAAAAAAAiQAAAAAAAABhAAAAAAAAAGEAAAAAAAAAkQAAAAAAAABRAAAAAAAAAFEAAAAAAAAAYQAAAAAAAAAhAAAAAAAAAGEAAAAAAAAAgQAAAAAAAABRAAAAAAAAAGEAAAAAAAAAmQAAAAAAAABhAAAAAAAAAGEAAAAAAAAAgQAAAAAAAABBAAAAAAAAAJkAAAAAAAAAiQAAAAAAAACJAAAAAAAAAHEAAAAAAAAAYQAAAAAAAABRAAAAAAAAAIkAAAAAAAAAIQAAAAAAAAPA/AAAAAAAAEEAAAAAAAAAcQAAAAAAAAChAAAAAAAAAGEAAAAAAAAAiQAAAAAAAABBAAAAAAAAAHEAAAAAAAAAkQAAAAAAAACJAAAAAAAAAGEAAAAAAAAAkQAAAAAAAABRAAAAAAAAAJkAAAAAAAAAYQAAAAAAAACBAAAAAAAAAIkAAAAAAAAAYQAAAAAAAABxAAAAAAAAAHEAAAAAAAAAQQAAAAAAAAPA/3t3d3d3dHUDv7u7u7u4cQCIiIiIiIiBA6wZT5LNuIEDks24wRT4fQA==",
           "dtype": "f8"
          }
         },
         "name": "",
         "parents": [
          "2019",
          "2019",
          "2019",
          "2019",
          "2019",
          "2019",
          "2019",
          "2019",
          "2019",
          "2020/21",
          "2020/21",
          "2020/21",
          "2020/21",
          "2020/21",
          "2020/21",
          "2020/21",
          "2020/21",
          "2020/21",
          "2021",
          "2021",
          "2021",
          "2021",
          "2021",
          "2021",
          "2021",
          "2021",
          "2021",
          "2022",
          "2022",
          "2022",
          "2022",
          "2022",
          "2022",
          "2022",
          "2022",
          "2022",
          "2022",
          "2023",
          "2023",
          "2023",
          "2023",
          "2023",
          "2023",
          "2023",
          "2023",
          "2023",
          "2023",
          "2023",
          "",
          "",
          "",
          "",
          ""
         ],
         "type": "sunburst",
         "values": {
          "bdata": "AAAAAAAAJEAAAAAAAAAiQAAAAAAAABhAAAAAAAAAGEAAAAAAAAAkQAAAAAAAABRAAAAAAAAAFEAAAAAAAAAYQAAAAAAAAAhAAAAAAAAAGEAAAAAAAAAgQAAAAAAAABRAAAAAAAAAGEAAAAAAAAAmQAAAAAAAABhAAAAAAAAAGEAAAAAAAAAgQAAAAAAAABBAAAAAAAAAJkAAAAAAAAAiQAAAAAAAACJAAAAAAAAAHEAAAAAAAAAYQAAAAAAAABRAAAAAAAAAIkAAAAAAAAAIQAAAAAAAAPA/AAAAAAAAEEAAAAAAAAAcQAAAAAAAAChAAAAAAAAAGEAAAAAAAAAiQAAAAAAAABBAAAAAAAAAHEAAAAAAAAAkQAAAAAAAACJAAAAAAAAAGEAAAAAAAAAkQAAAAAAAABRAAAAAAAAAJkAAAAAAAAAYQAAAAAAAACBAAAAAAAAAIkAAAAAAAAAYQAAAAAAAABxAAAAAAAAAHEAAAAAAAAAQQAAAAAAAAPA/AAAAAAAATkAAAAAAAABOQAAAAAAAAE5AAAAAAACAUkAAAAAAAIBSQA==",
          "dtype": "f8"
         }
        }
       ],
       "layout": {
        "coloraxis": {
         "colorbar": {
          "title": {
           "text": "wins"
          }
         },
         "colorscale": [
          [
           0,
           "rgb(247,251,255)"
          ],
          [
           0.125,
           "rgb(222,235,247)"
          ],
          [
           0.25,
           "rgb(198,219,239)"
          ],
          [
           0.375,
           "rgb(158,202,225)"
          ],
          [
           0.5,
           "rgb(107,174,214)"
          ],
          [
           0.625,
           "rgb(66,146,198)"
          ],
          [
           0.75,
           "rgb(33,113,181)"
          ],
          [
           0.875,
           "rgb(8,81,156)"
          ],
          [
           1,
           "rgb(8,48,107)"
          ]
         ]
        },
        "legend": {
         "tracegroupgap": 0
        },
        "template": {
         "data": {
          "bar": [
           {
            "error_x": {
             "color": "#2a3f5f"
            },
            "error_y": {
             "color": "#2a3f5f"
            },
            "marker": {
             "line": {
              "color": "#E5ECF6",
              "width": 0.5
             },
             "pattern": {
              "fillmode": "overlay",
              "size": 10,
              "solidity": 0.2
             }
            },
            "type": "bar"
           }
          ],
          "barpolar": [
           {
            "marker": {
             "line": {
              "color": "#E5ECF6",
              "width": 0.5
             },
             "pattern": {
              "fillmode": "overlay",
              "size": 10,
              "solidity": 0.2
             }
            },
            "type": "barpolar"
           }
          ],
          "carpet": [
           {
            "aaxis": {
             "endlinecolor": "#2a3f5f",
             "gridcolor": "white",
             "linecolor": "white",
             "minorgridcolor": "white",
             "startlinecolor": "#2a3f5f"
            },
            "baxis": {
             "endlinecolor": "#2a3f5f",
             "gridcolor": "white",
             "linecolor": "white",
             "minorgridcolor": "white",
             "startlinecolor": "#2a3f5f"
            },
            "type": "carpet"
           }
          ],
          "choropleth": [
           {
            "colorbar": {
             "outlinewidth": 0,
             "ticks": ""
            },
            "type": "choropleth"
           }
          ],
          "contour": [
           {
            "colorbar": {
             "outlinewidth": 0,
             "ticks": ""
            },
            "colorscale": [
             [
              0,
              "#0d0887"
             ],
             [
              0.1111111111111111,
              "#46039f"
             ],
             [
              0.2222222222222222,
              "#7201a8"
             ],
             [
              0.3333333333333333,
              "#9c179e"
             ],
             [
              0.4444444444444444,
              "#bd3786"
             ],
             [
              0.5555555555555556,
              "#d8576b"
             ],
             [
              0.6666666666666666,
              "#ed7953"
             ],
             [
              0.7777777777777778,
              "#fb9f3a"
             ],
             [
              0.8888888888888888,
              "#fdca26"
             ],
             [
              1,
              "#f0f921"
             ]
            ],
            "type": "contour"
           }
          ],
          "contourcarpet": [
           {
            "colorbar": {
             "outlinewidth": 0,
             "ticks": ""
            },
            "type": "contourcarpet"
           }
          ],
          "heatmap": [
           {
            "colorbar": {
             "outlinewidth": 0,
             "ticks": ""
            },
            "colorscale": [
             [
              0,
              "#0d0887"
             ],
             [
              0.1111111111111111,
              "#46039f"
             ],
             [
              0.2222222222222222,
              "#7201a8"
             ],
             [
              0.3333333333333333,
              "#9c179e"
             ],
             [
              0.4444444444444444,
              "#bd3786"
             ],
             [
              0.5555555555555556,
              "#d8576b"
             ],
             [
              0.6666666666666666,
              "#ed7953"
             ],
             [
              0.7777777777777778,
              "#fb9f3a"
             ],
             [
              0.8888888888888888,
              "#fdca26"
             ],
             [
              1,
              "#f0f921"
             ]
            ],
            "type": "heatmap"
           }
          ],
          "histogram": [
           {
            "marker": {
             "pattern": {
              "fillmode": "overlay",
              "size": 10,
              "solidity": 0.2
             }
            },
            "type": "histogram"
           }
          ],
          "histogram2d": [
           {
            "colorbar": {
             "outlinewidth": 0,
             "ticks": ""
            },
            "colorscale": [
             [
              0,
              "#0d0887"
             ],
             [
              0.1111111111111111,
              "#46039f"
             ],
             [
              0.2222222222222222,
              "#7201a8"
             ],
             [
              0.3333333333333333,
              "#9c179e"
             ],
             [
              0.4444444444444444,
              "#bd3786"
             ],
             [
              0.5555555555555556,
              "#d8576b"
             ],
             [
              0.6666666666666666,
              "#ed7953"
             ],
             [
              0.7777777777777778,
              "#fb9f3a"
             ],
             [
              0.8888888888888888,
              "#fdca26"
             ],
             [
              1,
              "#f0f921"
             ]
            ],
            "type": "histogram2d"
           }
          ],
          "histogram2dcontour": [
           {
            "colorbar": {
             "outlinewidth": 0,
             "ticks": ""
            },
            "colorscale": [
             [
              0,
              "#0d0887"
             ],
             [
              0.1111111111111111,
              "#46039f"
             ],
             [
              0.2222222222222222,
              "#7201a8"
             ],
             [
              0.3333333333333333,
              "#9c179e"
             ],
             [
              0.4444444444444444,
              "#bd3786"
             ],
             [
              0.5555555555555556,
              "#d8576b"
             ],
             [
              0.6666666666666666,
              "#ed7953"
             ],
             [
              0.7777777777777778,
              "#fb9f3a"
             ],
             [
              0.8888888888888888,
              "#fdca26"
             ],
             [
              1,
              "#f0f921"
             ]
            ],
            "type": "histogram2dcontour"
           }
          ],
          "mesh3d": [
           {
            "colorbar": {
             "outlinewidth": 0,
             "ticks": ""
            },
            "type": "mesh3d"
           }
          ],
          "parcoords": [
           {
            "line": {
             "colorbar": {
              "outlinewidth": 0,
              "ticks": ""
             }
            },
            "type": "parcoords"
           }
          ],
          "pie": [
           {
            "automargin": true,
            "type": "pie"
           }
          ],
          "scatter": [
           {
            "fillpattern": {
             "fillmode": "overlay",
             "size": 10,
             "solidity": 0.2
            },
            "type": "scatter"
           }
          ],
          "scatter3d": [
           {
            "line": {
             "colorbar": {
              "outlinewidth": 0,
              "ticks": ""
             }
            },
            "marker": {
             "colorbar": {
              "outlinewidth": 0,
              "ticks": ""
             }
            },
            "type": "scatter3d"
           }
          ],
          "scattercarpet": [
           {
            "marker": {
             "colorbar": {
              "outlinewidth": 0,
              "ticks": ""
             }
            },
            "type": "scattercarpet"
           }
          ],
          "scattergeo": [
           {
            "marker": {
             "colorbar": {
              "outlinewidth": 0,
              "ticks": ""
             }
            },
            "type": "scattergeo"
           }
          ],
          "scattergl": [
           {
            "marker": {
             "colorbar": {
              "outlinewidth": 0,
              "ticks": ""
             }
            },
            "type": "scattergl"
           }
          ],
          "scattermap": [
           {
            "marker": {
             "colorbar": {
              "outlinewidth": 0,
              "ticks": ""
             }
            },
            "type": "scattermap"
           }
          ],
          "scattermapbox": [
           {
            "marker": {
             "colorbar": {
              "outlinewidth": 0,
              "ticks": ""
             }
            },
            "type": "scattermapbox"
           }
          ],
          "scatterpolar": [
           {
            "marker": {
             "colorbar": {
              "outlinewidth": 0,
              "ticks": ""
             }
            },
            "type": "scatterpolar"
           }
          ],
          "scatterpolargl": [
           {
            "marker": {
             "colorbar": {
              "outlinewidth": 0,
              "ticks": ""
             }
            },
            "type": "scatterpolargl"
           }
          ],
          "scatterternary": [
           {
            "marker": {
             "colorbar": {
              "outlinewidth": 0,
              "ticks": ""
             }
            },
            "type": "scatterternary"
           }
          ],
          "surface": [
           {
            "colorbar": {
             "outlinewidth": 0,
             "ticks": ""
            },
            "colorscale": [
             [
              0,
              "#0d0887"
             ],
             [
              0.1111111111111111,
              "#46039f"
             ],
             [
              0.2222222222222222,
              "#7201a8"
             ],
             [
              0.3333333333333333,
              "#9c179e"
             ],
             [
              0.4444444444444444,
              "#bd3786"
             ],
             [
              0.5555555555555556,
              "#d8576b"
             ],
             [
              0.6666666666666666,
              "#ed7953"
             ],
             [
              0.7777777777777778,
              "#fb9f3a"
             ],
             [
              0.8888888888888888,
              "#fdca26"
             ],
             [
              1,
              "#f0f921"
             ]
            ],
            "type": "surface"
           }
          ],
          "table": [
           {
            "cells": {
             "fill": {
              "color": "#EBF0F8"
             },
             "line": {
              "color": "white"
             }
            },
            "header": {
             "fill": {
              "color": "#C8D4E3"
             },
             "line": {
              "color": "white"
             }
            },
            "type": "table"
           }
          ]
         },
         "layout": {
          "annotationdefaults": {
           "arrowcolor": "#2a3f5f",
           "arrowhead": 0,
           "arrowwidth": 1
          },
          "autotypenumbers": "strict",
          "coloraxis": {
           "colorbar": {
            "outlinewidth": 0,
            "ticks": ""
           }
          },
          "colorscale": {
           "diverging": [
            [
             0,
             "#8e0152"
            ],
            [
             0.1,
             "#c51b7d"
            ],
            [
             0.2,
             "#de77ae"
            ],
            [
             0.3,
             "#f1b6da"
            ],
            [
             0.4,
             "#fde0ef"
            ],
            [
             0.5,
             "#f7f7f7"
            ],
            [
             0.6,
             "#e6f5d0"
            ],
            [
             0.7,
             "#b8e186"
            ],
            [
             0.8,
             "#7fbc41"
            ],
            [
             0.9,
             "#4d9221"
            ],
            [
             1,
             "#276419"
            ]
           ],
           "sequential": [
            [
             0,
             "#0d0887"
            ],
            [
             0.1111111111111111,
             "#46039f"
            ],
            [
             0.2222222222222222,
             "#7201a8"
            ],
            [
             0.3333333333333333,
             "#9c179e"
            ],
            [
             0.4444444444444444,
             "#bd3786"
            ],
            [
             0.5555555555555556,
             "#d8576b"
            ],
            [
             0.6666666666666666,
             "#ed7953"
            ],
            [
             0.7777777777777778,
             "#fb9f3a"
            ],
            [
             0.8888888888888888,
             "#fdca26"
            ],
            [
             1,
             "#f0f921"
            ]
           ],
           "sequentialminus": [
            [
             0,
             "#0d0887"
            ],
            [
             0.1111111111111111,
             "#46039f"
            ],
            [
             0.2222222222222222,
             "#7201a8"
            ],
            [
             0.3333333333333333,
             "#9c179e"
            ],
            [
             0.4444444444444444,
             "#bd3786"
            ],
            [
             0.5555555555555556,
             "#d8576b"
            ],
            [
             0.6666666666666666,
             "#ed7953"
            ],
            [
             0.7777777777777778,
             "#fb9f3a"
            ],
            [
             0.8888888888888888,
             "#fdca26"
            ],
            [
             1,
             "#f0f921"
            ]
           ]
          },
          "colorway": [
           "#636efa",
           "#EF553B",
           "#00cc96",
           "#ab63fa",
           "#FFA15A",
           "#19d3f3",
           "#FF6692",
           "#B6E880",
           "#FF97FF",
           "#FECB52"
          ],
          "font": {
           "color": "#2a3f5f"
          },
          "geo": {
           "bgcolor": "white",
           "lakecolor": "white",
           "landcolor": "#E5ECF6",
           "showlakes": true,
           "showland": true,
           "subunitcolor": "white"
          },
          "hoverlabel": {
           "align": "left"
          },
          "hovermode": "closest",
          "mapbox": {
           "style": "light"
          },
          "paper_bgcolor": "white",
          "plot_bgcolor": "#E5ECF6",
          "polar": {
           "angularaxis": {
            "gridcolor": "white",
            "linecolor": "white",
            "ticks": ""
           },
           "bgcolor": "#E5ECF6",
           "radialaxis": {
            "gridcolor": "white",
            "linecolor": "white",
            "ticks": ""
           }
          },
          "scene": {
           "xaxis": {
            "backgroundcolor": "#E5ECF6",
            "gridcolor": "white",
            "gridwidth": 2,
            "linecolor": "white",
            "showbackground": true,
            "ticks": "",
            "zerolinecolor": "white"
           },
           "yaxis": {
            "backgroundcolor": "#E5ECF6",
            "gridcolor": "white",
            "gridwidth": 2,
            "linecolor": "white",
            "showbackground": true,
            "ticks": "",
            "zerolinecolor": "white"
           },
           "zaxis": {
            "backgroundcolor": "#E5ECF6",
            "gridcolor": "white",
            "gridwidth": 2,
            "linecolor": "white",
            "showbackground": true,
            "ticks": "",
            "zerolinecolor": "white"
           }
          },
          "shapedefaults": {
           "line": {
            "color": "#2a3f5f"
           }
          },
          "ternary": {
           "aaxis": {
            "gridcolor": "white",
            "linecolor": "white",
            "ticks": ""
           },
           "baxis": {
            "gridcolor": "white",
            "linecolor": "white",
            "ticks": ""
           },
           "bgcolor": "#E5ECF6",
           "caxis": {
            "gridcolor": "white",
            "linecolor": "white",
            "ticks": ""
           }
          },
          "title": {
           "x": 0.05
          },
          "xaxis": {
           "automargin": true,
           "gridcolor": "white",
           "linecolor": "white",
           "ticks": "",
           "title": {
            "standoff": 15
           },
           "zerolinecolor": "white",
           "zerolinewidth": 2
          },
          "yaxis": {
           "automargin": true,
           "gridcolor": "white",
           "linecolor": "white",
           "ticks": "",
           "title": {
            "standoff": 15
           },
           "zerolinecolor": "white",
           "zerolinewidth": 2
          }
         }
        },
        "title": {
         "text": "IPL Tournament Hierarchy: Wins Across Seasons"
        }
       }
      }
     },
     "metadata": {},
     "output_type": "display_data"
    }
   ],
   "source": [
    "import plotly.express as px\n",
    "\n",
    "# Group by Season → Team → Wins\n",
    "sunburst_data = ipl_recent.groupby([\"season\", \"match_winner\"]).size().reset_index(name=\"wins\")\n",
    "\n",
    "# Sunburst Chart\n",
    "fig = px.sunburst(\n",
    "    sunburst_data, \n",
    "    path=[\"season\", \"match_winner\"], \n",
    "    values=\"wins\", \n",
    "    title=\"IPL Tournament Hierarchy: Wins Across Seasons\",\n",
    "    color=\"wins\", \n",
    "    color_continuous_scale=\"Blues\"\n",
    ")\n",
    "\n",
    "fig.show()\n"
   ]
  },
  {
   "cell_type": "code",
   "execution_count": null,
   "metadata": {},
   "outputs": [],
   "source": []
  }
 ],
 "metadata": {
  "kernelspec": {
   "display_name": "Python 3",
   "language": "python",
   "name": "python3"
  },
  "language_info": {
   "codemirror_mode": {
    "name": "ipython",
    "version": 3
   },
   "file_extension": ".py",
   "mimetype": "text/x-python",
   "name": "python",
   "nbconvert_exporter": "python",
   "pygments_lexer": "ipython3",
   "version": "3.13.0"
  }
 },
 "nbformat": 4,
 "nbformat_minor": 2
}
